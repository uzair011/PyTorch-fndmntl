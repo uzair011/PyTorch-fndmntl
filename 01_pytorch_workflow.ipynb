{
  "cells": [
    {
      "cell_type": "markdown",
      "metadata": {
        "id": "view-in-github",
        "colab_type": "text"
      },
      "source": [
        "<a href=\"https://colab.research.google.com/github/uzair011/PyTorch-fndmntl/blob/main/01_pytorch_workflow.ipynb\" target=\"_parent\"><img src=\"https://colab.research.google.com/assets/colab-badge.svg\" alt=\"Open In Colab\"/></a>"
      ]
    },
    {
      "cell_type": "code",
      "execution_count": 1,
      "metadata": {
        "colab": {
          "base_uri": "https://localhost:8080/"
        },
        "id": "0MWoTqPsMuTy",
        "outputId": "d40af47a-1425-4104-ae2a-51917fcdf366"
      },
      "outputs": [
        {
          "output_type": "execute_result",
          "data": {
            "text/plain": [
              "{1: 'Data (prepare and load).',\n",
              " 2: 'Build model.',\n",
              " 3: 'Fitting the model to data (training).',\n",
              " 4: 'Making predictions and evaluating the model (inference).',\n",
              " 5: 'Saving and loading the model.',\n",
              " 6: 'Putting it all together.'}"
            ]
          },
          "metadata": {},
          "execution_count": 1
        }
      ],
      "source": [
        "what_we_are_covering = {\n",
        "    1: \"Data (prepare and load).\",\n",
        "    2: \"Build model.\",\n",
        "    3: \"Fitting the model to data (training).\",\n",
        "    4: \"Making predictions and evaluating the model (inference).\",\n",
        "    5: \"Saving and loading the model.\",\n",
        "    6: \"Putting it all together.\"\n",
        "}\n",
        "what_we_are_covering"
      ]
    },
    {
      "cell_type": "code",
      "execution_count": 2,
      "metadata": {
        "colab": {
          "base_uri": "https://localhost:8080/",
          "height": 35
        },
        "id": "l1W8VO3XO2Ts",
        "outputId": "903eb6db-6911-4e1a-8760-0e19a2d64835"
      },
      "outputs": [
        {
          "output_type": "execute_result",
          "data": {
            "text/plain": [
              "'2.0.1+cu118'"
            ],
            "application/vnd.google.colaboratory.intrinsic+json": {
              "type": "string"
            }
          },
          "metadata": {},
          "execution_count": 2
        }
      ],
      "source": [
        "import torch\n",
        "from torch import nn # nn contains all of the building blocks for neural networks.\n",
        "import matplotlib.pyplot as plt\n",
        "\n",
        "# check pytorch version\n",
        "torch.__version__"
      ]
    },
    {
      "cell_type": "markdown",
      "metadata": {
        "id": "V6rcaoBtPaaf"
      },
      "source": [
        "## Data (Preparing and Loading)\n",
        "\n",
        "* In maching learning data can be almost anything...\n",
        "  1. Execl spread sheet\n",
        "  2. Images\n",
        "  3. Videos\n",
        "  4. Texts\n",
        "  5. Audio files\n",
        "  5. DNA...\n",
        "\n",
        "   Main Concepts in ML\n",
        "   1. Get data in to numerical representation.\n",
        "   2. Build a model to learn patterns in the model.\n",
        "\n",
        "\n",
        "   * To showcase this, lets create some *KNOWN* data using linear regression formula.\n",
        "   * Here we'll use a linear regression formula to create straight line with known *parameters*.\n",
        "\n"
      ]
    },
    {
      "cell_type": "code",
      "execution_count": 3,
      "metadata": {
        "colab": {
          "base_uri": "https://localhost:8080/"
        },
        "id": "Cze1EyoQPqMG",
        "outputId": "b23ea8d7-881b-446a-8608-0a4e0b514ebd"
      },
      "outputs": [
        {
          "output_type": "stream",
          "name": "stdout",
          "text": [
            "tensor([[0.0000],\n",
            "        [0.0200],\n",
            "        [0.0400],\n",
            "        [0.0600],\n",
            "        [0.0800],\n",
            "        [0.1000],\n",
            "        [0.1200],\n",
            "        [0.1400],\n",
            "        [0.1600],\n",
            "        [0.1800]])\n",
            "\n",
            "tensor([[0.3000],\n",
            "        [0.3160],\n",
            "        [0.3320],\n",
            "        [0.3480],\n",
            "        [0.3640],\n",
            "        [0.3800],\n",
            "        [0.3960],\n",
            "        [0.4120],\n",
            "        [0.4280],\n",
            "        [0.4440]])\n"
          ]
        }
      ],
      "source": [
        "# create *known* parameters\n",
        "weight = 0.8\n",
        "bias = 0.3\n",
        "\n",
        "# create\n",
        "start = 0\n",
        "end = 1\n",
        "step = 0.02\n",
        "X = torch.arange(start, end, step).unsqueeze(dim=1)\n",
        "y = weight * X + bias\n",
        "\n",
        "print(X[:10])\n",
        "print(\"\")\n",
        "print(y[:10])"
      ]
    },
    {
      "cell_type": "code",
      "execution_count": 4,
      "metadata": {
        "colab": {
          "base_uri": "https://localhost:8080/"
        },
        "id": "nSbNvvNqXC32",
        "outputId": "dc2aebdf-def7-456d-8832-33022e927807"
      },
      "outputs": [
        {
          "output_type": "execute_result",
          "data": {
            "text/plain": [
              "(50, 50)"
            ]
          },
          "metadata": {},
          "execution_count": 4
        }
      ],
      "source": [
        "len(X), len(y)"
      ]
    },
    {
      "cell_type": "markdown",
      "metadata": {
        "id": "wRaJyhRYXH2_"
      },
      "source": [
        "## Splitting data into training and testing sets (one of the core concepts in ML, DL)\n",
        "\n"
      ]
    },
    {
      "cell_type": "code",
      "execution_count": 5,
      "metadata": {
        "colab": {
          "base_uri": "https://localhost:8080/"
        },
        "id": "LKrklrPXaPn0",
        "outputId": "a9fd20c0-6aa6-4e7d-e583-57308032f89f"
      },
      "outputs": [
        {
          "output_type": "execute_result",
          "data": {
            "text/plain": [
              "(40, 10, 40, 10)"
            ]
          },
          "metadata": {},
          "execution_count": 5
        }
      ],
      "source": [
        "# creating a training and test set with our data\n",
        "\n",
        "train_split = int(0.8 * len(X))\n",
        "X_train, y_train = X[:train_split], y[:train_split]\n",
        "X_test, y_test = X[train_split:], y[train_split:]\n",
        "len(X_train), len(X_test), len(y_train), len(y_test)"
      ]
    },
    {
      "cell_type": "markdown",
      "metadata": {
        "id": "QnKoBbE5dRQV"
      },
      "source": [
        "Visualizing the data.\n",
        "explorer's moto :  \"Visualize, visualize, visualize.....\""
      ]
    },
    {
      "cell_type": "code",
      "execution_count": 6,
      "metadata": {
        "id": "UdhPbxHSeS0_"
      },
      "outputs": [],
      "source": [
        "def plot_predictions(train_data=X_train,\n",
        "                     train_labels=y_train,\n",
        "                     test_data=X_test,\n",
        "                     test_labels=y_test,\n",
        "                     prediction=None):\n",
        "  \"\"\"Plots trainning data, testing data and compares predictions...\"\"\"\n",
        "\n",
        "  plt.figure(figsize=(10, 7))\n",
        "\n",
        "  #plot training data into blue\n",
        "  plt.scatter(train_data, train_labels, c=\"blue\", s=4, label=\"training dataset\")\n",
        "  #plot testing data into yellow\n",
        "  plt.scatter(test_data, test_labels, c=\"purple\", s=4, label=\"testing dataset\")\n",
        "\n",
        "  # are there any predictions?\n",
        "  if prediction is not None:\n",
        "    #plot the predictions if they exist\n",
        "    plt.scatter(test_data, prediction, c=\"red\", s=4, label=\"predictions\")\n",
        "\n",
        "  # show the legend\n",
        "  plt.legend(prop={\"size\": 14})"
      ]
    },
    {
      "cell_type": "code",
      "execution_count": 7,
      "metadata": {
        "colab": {
          "base_uri": "https://localhost:8080/",
          "height": 599
        },
        "id": "GDcFNBefkfsv",
        "outputId": "67d0928f-f731-4596-d306-812d1fe343d5"
      },
      "outputs": [
        {
          "output_type": "display_data",
          "data": {
            "text/plain": [
              "<Figure size 1000x700 with 1 Axes>"
            ],
            "image/png": "[encoded data removed]"
          },
          "metadata": {}
        }
      ],
      "source": [
        "plot_predictions()"
      ]
    },
    {
      "cell_type": "markdown",
      "metadata": {
        "id": "z2Cabs5wkngp"
      },
      "source": [
        "## Build a PyTorch Model\n",
        "\n",
        "- what our model does...\n",
        "  1. Start with random values (weight, bias)\n",
        "  2. Look at the training data and try to better represent (or get closer to ) the ideal values ( The weight and bias we used to create the initial data)...\n",
        "\n",
        "- How does it do so?\n",
        "1. Radient descent\n",
        "2. Back propergation"
      ]
    },
    {
      "cell_type": "code",
      "execution_count": 8,
      "metadata": {
        "id": "Uqe-lsrckrqR"
      },
      "outputs": [],
      "source": [
        "from torch import nn\n",
        "\n",
        "class LinearRegressionModel(nn.Module):\n",
        "  def __init__(self):\n",
        "    super().__init__()\n",
        "    self.weights = nn.Parameter(torch.randn(1,\n",
        "                                           requires_grad=True,\n",
        "                                           dtype = float))\n",
        "    self.bias = nn.Parameter(torch.randn(1,\n",
        "                                         requires_grad=True,\n",
        "                                         dtype = float))\n",
        "\n",
        "    # Forward method to define the computation in the method.\n",
        "  def forward(self, x: torch.Tensor) -> torch.Tensor:    # X is input data - training data.\n",
        "      return self.weights * x + self.bias     # linear reqression formula.\n"
      ]
    },
    {
      "cell_type": "markdown",
      "metadata": {
        "id": "7P5YrulBuApw"
      },
      "source": [
        "## PyTorch model building essentials...\n",
        "\n",
        "* `torch.nn` - Contains all of the buildings for computational graphs (a neural network can be considerd as computational graph.)\n",
        "* `torch.nn.Parameter` - What parameters our model try and learn, often a pytorch layer from ``torch.nn`` will set these for us.\n",
        "* `torch.nn.Module` - The base class for all neural networks. if you subclass it, then you should overwrite with def forward()\n",
        "* `torch.optim` - This is were optimizers in pytorch live, they will help with gradient descent.\n",
        "* `def forward()` - All `nn.module` subclasses require you to overwrite forward(), this method defines what happens in the forward computation."
      ]
    },
    {
      "cell_type": "markdown",
      "metadata": {
        "id": "xgBh_x5ZxluC"
      },
      "source": []
    },
    {
      "cell_type": "markdown",
      "metadata": {
        "id": "28jxplG1t_pc"
      },
      "source": [
        "### checking the contents of our pytorch model\n",
        "\n",
        "wer can check our model parameters or what's inside by using `.parameters()`"
      ]
    },
    {
      "cell_type": "code",
      "execution_count": 9,
      "metadata": {
        "colab": {
          "base_uri": "https://localhost:8080/"
        },
        "id": "CwSW3CYL050f",
        "outputId": "41ee2ebf-7a99-4c4d-9bcf-8d7f2afff730"
      },
      "outputs": [
        {
          "output_type": "execute_result",
          "data": {
            "text/plain": [
              "[Parameter containing:\n",
              " tensor([0.3367], dtype=torch.float64, requires_grad=True),\n",
              " Parameter containing:\n",
              " tensor([0.1288], dtype=torch.float64, requires_grad=True)]"
            ]
          },
          "metadata": {},
          "execution_count": 9
        }
      ],
      "source": [
        "# Create a random seed\n",
        "torch.manual_seed(42)\n",
        "\n",
        "# Creat an instance of the model (this is a subclass of nn.model)\n",
        "model_0 = LinearRegressionModel()\n",
        "\n",
        "# Check out the parameters of the model\n",
        "list(model_0.parameters())"
      ]
    },
    {
      "cell_type": "code",
      "execution_count": 10,
      "metadata": {
        "colab": {
          "base_uri": "https://localhost:8080/"
        },
        "id": "Th9wDIBkMUr3",
        "outputId": "45591068-c770-4702-f112-6ee7dcf989c3"
      },
      "outputs": [
        {
          "output_type": "execute_result",
          "data": {
            "text/plain": [
              "OrderedDict([('weights', tensor([0.3367], dtype=torch.float64)),\n",
              "             ('bias', tensor([0.1288], dtype=torch.float64))])"
            ]
          },
          "metadata": {},
          "execution_count": 10
        }
      ],
      "source": [
        "model_0.state_dict()"
      ]
    },
    {
      "cell_type": "code",
      "execution_count": 11,
      "metadata": {
        "colab": {
          "base_uri": "https://localhost:8080/"
        },
        "id": "RLYffi_ZNXCu",
        "outputId": "6bbdc328-0d18-4177-ce39-8f7e5472c640"
      },
      "outputs": [
        {
          "output_type": "execute_result",
          "data": {
            "text/plain": [
              "(0.8, 0.3)"
            ]
          },
          "metadata": {},
          "execution_count": 11
        }
      ],
      "source": [
        "weight, bias"
      ]
    },
    {
      "cell_type": "markdown",
      "metadata": {
        "id": "2vuLBoE6NY7F"
      },
      "source": [
        "### Making predictions with `torch.inference_mode()`\n",
        "\n",
        "To check our model's predictive power, lets check how it predicts `y_test` based on `x_test`.\n",
        "\n",
        "When we pass data through our model, it's going to run it through the `forward()` method."
      ]
    },
    {
      "cell_type": "code",
      "execution_count": 12,
      "metadata": {
        "id": "InXLH7FRQM7C",
        "colab": {
          "base_uri": "https://localhost:8080/"
        },
        "outputId": "441b8e4c-bad5-4314-d5d0-121cf00461cb"
      },
      "outputs": [
        {
          "output_type": "execute_result",
          "data": {
            "text/plain": [
              "(tensor([[0.8000],\n",
              "         [0.8200],\n",
              "         [0.8400],\n",
              "         [0.8600],\n",
              "         [0.8800],\n",
              "         [0.9000],\n",
              "         [0.9200],\n",
              "         [0.9400],\n",
              "         [0.9600],\n",
              "         [0.9800]]),\n",
              " tensor([[0.9400],\n",
              "         [0.9560],\n",
              "         [0.9720],\n",
              "         [0.9880],\n",
              "         [1.0040],\n",
              "         [1.0200],\n",
              "         [1.0360],\n",
              "         [1.0520],\n",
              "         [1.0680],\n",
              "         [1.0840]]))"
            ]
          },
          "metadata": {},
          "execution_count": 12
        }
      ],
      "source": [
        "X_test, y_test"
      ]
    },
    {
      "cell_type": "code",
      "execution_count": 13,
      "metadata": {
        "colab": {
          "base_uri": "https://localhost:8080/"
        },
        "id": "jX55lgRYPLPu",
        "outputId": "3f5b6d09-533e-40ed-bdb4-71c2a89f45ba"
      },
      "outputs": [
        {
          "output_type": "execute_result",
          "data": {
            "text/plain": [
              "tensor([[0.3982],\n",
              "        [0.4049],\n",
              "        [0.4116],\n",
              "        [0.4184],\n",
              "        [0.4251],\n",
              "        [0.4318],\n",
              "        [0.4386],\n",
              "        [0.4453],\n",
              "        [0.4520],\n",
              "        [0.4588]], dtype=torch.float64)"
            ]
          },
          "metadata": {},
          "execution_count": 13
        }
      ],
      "source": [
        "# Make predictions with our model\n",
        "\n",
        "with torch.inference_mode():\n",
        "  y_predict = model_0(X_test)\n",
        "\n",
        "y_predict\n",
        "\n",
        "\n",
        "\n",
        "# We can do similar with torch.no_grad(): BUT, torch.inference_mode() is preferrd...\n",
        "# with torch.no_grad():\n",
        "#   y_predict = model_0(X_test)\n",
        "\n",
        "# y_predict"
      ]
    },
    {
      "cell_type": "code",
      "source": [
        "y_test"
      ],
      "metadata": {
        "colab": {
          "base_uri": "https://localhost:8080/"
        },
        "id": "pbAAZF4_RI5j",
        "outputId": "58b98f26-8561-4fd0-c60d-025ed5193c61"
      },
      "execution_count": 14,
      "outputs": [
        {
          "output_type": "execute_result",
          "data": {
            "text/plain": [
              "tensor([[0.9400],\n",
              "        [0.9560],\n",
              "        [0.9720],\n",
              "        [0.9880],\n",
              "        [1.0040],\n",
              "        [1.0200],\n",
              "        [1.0360],\n",
              "        [1.0520],\n",
              "        [1.0680],\n",
              "        [1.0840]])"
            ]
          },
          "metadata": {},
          "execution_count": 14
        }
      ]
    },
    {
      "cell_type": "code",
      "source": [
        "plot_predictions(prediction=y_predict)"
      ],
      "metadata": {
        "colab": {
          "base_uri": "https://localhost:8080/",
          "height": 599
        },
        "id": "fkDJWuy1RRis",
        "outputId": "12a5ba32-d4ab-4f49-f5cc-dea2f841da91"
      },
      "execution_count": 15,
      "outputs": [
        {
          "output_type": "display_data",
          "data": {
            "text/plain": [
              "<Figure size 1000x700 with 1 Axes>"
            ],
            "image/png": "[encoded data removed]"
          },
          "metadata": {}
        }
      ]
    },
    {
      "cell_type": "markdown",
      "source": [
        "# 3.\n",
        "Training our model\n",
        "\n",
        "- The idea of training is for a model to move from *UNKNOWN* parameters ( these maybe random ) to some *KNOWN* parameters OR in other words a poor representation to better representation of data.\n",
        "\n",
        "- One way to messure how poor our model or how wrong the predictions are\n",
        "to use a loss function.\n",
        "\n",
        "- NOTE: A loss function is also called cost function or criterion. But, here we reffer to it as loss function.\n",
        "\n",
        "-- Things we need to train --\n",
        "1. **Loss Function** - A function to messure how wrong our model's predictions to the ideal output, lower is better.\n",
        "2. **Optimizer** - Take into accout the loss of our model and adjusts the model's parameters (Eg: weight, bias in our case) to improve loss function.\n",
        "\n",
        "Specifically for pytorch we need,\n",
        "1. A training loop.\n",
        "2. A testing loop."
      ],
      "metadata": {
        "id": "XzvtSiGJPiMh"
      }
    },
    {
      "cell_type": "code",
      "source": [
        "list(model_0.parameters())"
      ],
      "metadata": {
        "colab": {
          "base_uri": "https://localhost:8080/"
        },
        "id": "QwmVO5k0UBw4",
        "outputId": "13b19e9b-db90-47a4-d60e-103d13d9aeb8"
      },
      "execution_count": 16,
      "outputs": [
        {
          "output_type": "execute_result",
          "data": {
            "text/plain": [
              "[Parameter containing:\n",
              " tensor([0.3367], dtype=torch.float64, requires_grad=True),\n",
              " Parameter containing:\n",
              " tensor([0.1288], dtype=torch.float64, requires_grad=True)]"
            ]
          },
          "metadata": {},
          "execution_count": 16
        }
      ]
    },
    {
      "cell_type": "code",
      "source": [
        "model_0.state_dict()"
      ],
      "metadata": {
        "colab": {
          "base_uri": "https://localhost:8080/"
        },
        "id": "0rjRPE8ybYs5",
        "outputId": "d67a16ac-77c0-4dec-d87f-1f308159b60c"
      },
      "execution_count": 17,
      "outputs": [
        {
          "output_type": "execute_result",
          "data": {
            "text/plain": [
              "OrderedDict([('weights', tensor([0.3367], dtype=torch.float64)),\n",
              "             ('bias', tensor([0.1288], dtype=torch.float64))])"
            ]
          },
          "metadata": {},
          "execution_count": 17
        }
      ]
    },
    {
      "cell_type": "code",
      "source": [
        "# Setup a loss function\n",
        "loss_function = nn.L1Loss()\n",
        "\n",
        "# Setup an optimizer (SGD - Stochastic Gradient Descent)\n",
        "optimizer = torch.optim.SGD(params = model_0.parameters(),\n",
        "                            lr=0.01) # lr - Learning Rate is an important hyper parameter that the engineer set."
      ],
      "metadata": {
        "id": "kXPhe9VfEv7r"
      },
      "execution_count": 18,
      "outputs": []
    },
    {
      "cell_type": "markdown",
      "source": [
        "### Building a training loop (and a testing loop) in Pytorch\n",
        "\n",
        "* Some things to consider in a training loop... AND DO...\n",
        "0. Loop through the data.\n",
        "1. Forward pass ( this involves the data move through the `forward` functions ) to make predictions on data - also called forward propergation.\n",
        "2. Calculate the loss ( Compare forward pass predictions to ground truth labels)\n",
        "3. Optimizer zero grad\n",
        "4. Loss Backward - move backwards through the network to calculate the gradients of each of the parameters of our model with respect to the loss(**Back Propergation**)\n",
        "5. Optimizer step - Use the optimizer to adjust our model's to try and improve the loss(**Gradient Descent**)"
      ],
      "metadata": {
        "id": "J68gLsDFKFjU"
      }
    },
    {
      "cell_type": "code",
      "source": [
        "torch.manual_seed(42)\n",
        "# 1 epoch is 1 loop through the data.\n",
        "epochs = 100\n",
        "\n",
        "## Training\n",
        "\n",
        "# 0. Loop throuth the data.\n",
        "for epoch in range(epochs):\n",
        "  # Set the model to training data.\n",
        "  model_0.train() # Train mode in pytorch sets all the parameters that require gradients to require gradients.\n",
        "\n",
        "  # 1. Forward pass\n",
        "  y_prediction = model_0(X_train)\n",
        "\n",
        "  # 2. Calculate loss\n",
        "  loss = loss_function(y_prediction, y_train)\n",
        "  # print(f\"Loss: \", {loss})\n",
        "\n",
        "  # 3. Optimizer zero grad\n",
        "  optimizer.zero_grad()\n",
        "\n",
        "  # 4. Loss backward - perform backpropergation on the loss with respect to parameters of the model.\n",
        "  loss.backward()\n",
        "\n",
        "  # 5. Step the optimizer\n",
        "  optimizer.step()  # By default how the optimizer changes will accumulate through the loop... So, we have to zero them above in step 3 for the next iteration of the loop.\n",
        "\n",
        "\n",
        "### Testing\n",
        "  model_0.eval() # Turns off different settings in the model, not needed for evaluation/ testing ...\n",
        "  with torch.inference_mode():  # Turns off gradient tracking and couple more settins in the background.\n",
        "    # 1. Forward pass\n",
        "    y_test_prediction = model_0(X_test)\n",
        "\n",
        "    # 2. Calculate loss\n",
        "    test_loss = loss_function(y_test_prediction, y_test)\n",
        "\n",
        "    if epoch % 10 == 0:\n",
        "      print(f\"epoch:  {epoch}, Loss:  {loss}, Test loss:  {test_loss}\")\n",
        "\n",
        "      print(model_0.state_dict())\n",
        "\n",
        "    # 3. Optimizer zero grad\n",
        "\n",
        "\n",
        "\n"
      ],
      "metadata": {
        "colab": {
          "base_uri": "https://localhost:8080/"
        },
        "id": "dV4DV3CqKJH7",
        "outputId": "43d988e8-891c-4e70-df18-3bd5bb699fd9"
      },
      "execution_count": 29,
      "outputs": [
        {
          "output_type": "stream",
          "name": "stdout",
          "text": [
            "Loss:  {tensor(0.0423, dtype=torch.float64, grad_fn=<MeanBackward0>)}\n",
            "epoch:  0, Loss:  0.04225586197427286, Test loss:  0.0983710153982277\n",
            "OrderedDict([('weights', tensor([0.5914], dtype=torch.float64)), ('bias', tensor([0.3873], dtype=torch.float64))])\n",
            "Loss:  {tensor(0.0419, dtype=torch.float64, grad_fn=<MeanBackward0>)}\n",
            "Loss:  {tensor(0.0416, dtype=torch.float64, grad_fn=<MeanBackward0>)}\n",
            "Loss:  {tensor(0.0412, dtype=torch.float64, grad_fn=<MeanBackward0>)}\n",
            "Loss:  {tensor(0.0409, dtype=torch.float64, grad_fn=<MeanBackward0>)}\n",
            "Loss:  {tensor(0.0405, dtype=torch.float64, grad_fn=<MeanBackward0>)}\n",
            "Loss:  {tensor(0.0402, dtype=torch.float64, grad_fn=<MeanBackward0>)}\n",
            "Loss:  {tensor(0.0399, dtype=torch.float64, grad_fn=<MeanBackward0>)}\n",
            "Loss:  {tensor(0.0395, dtype=torch.float64, grad_fn=<MeanBackward0>)}\n",
            "Loss:  {tensor(0.0392, dtype=torch.float64, grad_fn=<MeanBackward0>)}\n",
            "Loss:  {tensor(0.0388, dtype=torch.float64, grad_fn=<MeanBackward0>)}\n",
            "epoch:  10, Loss:  0.03882742212265221, Test loss:  0.09009861565219854\n",
            "OrderedDict([('weights', tensor([0.6085], dtype=torch.float64)), ('bias', tensor([0.3803], dtype=torch.float64))])\n",
            "Loss:  {tensor(0.0385, dtype=torch.float64, grad_fn=<MeanBackward0>)}\n",
            "Loss:  {tensor(0.0381, dtype=torch.float64, grad_fn=<MeanBackward0>)}\n",
            "Loss:  {tensor(0.0378, dtype=torch.float64, grad_fn=<MeanBackward0>)}\n",
            "Loss:  {tensor(0.0374, dtype=torch.float64, grad_fn=<MeanBackward0>)}\n",
            "Loss:  {tensor(0.0371, dtype=torch.float64, grad_fn=<MeanBackward0>)}\n",
            "Loss:  {tensor(0.0368, dtype=torch.float64, grad_fn=<MeanBackward0>)}\n",
            "Loss:  {tensor(0.0364, dtype=torch.float64, grad_fn=<MeanBackward0>)}\n",
            "Loss:  {tensor(0.0361, dtype=torch.float64, grad_fn=<MeanBackward0>)}\n",
            "Loss:  {tensor(0.0357, dtype=torch.float64, grad_fn=<MeanBackward0>)}\n",
            "Loss:  {tensor(0.0354, dtype=torch.float64, grad_fn=<MeanBackward0>)}\n",
            "epoch:  20, Loss:  0.03539020698350174, Test loss:  0.08182621590616938\n",
            "OrderedDict([('weights', tensor([0.6257], dtype=torch.float64)), ('bias', tensor([0.3733], dtype=torch.float64))])\n",
            "Loss:  {tensor(0.0350, dtype=torch.float64, grad_fn=<MeanBackward0>)}\n",
            "Loss:  {tensor(0.0347, dtype=torch.float64, grad_fn=<MeanBackward0>)}\n",
            "Loss:  {tensor(0.0344, dtype=torch.float64, grad_fn=<MeanBackward0>)}\n",
            "Loss:  {tensor(0.0340, dtype=torch.float64, grad_fn=<MeanBackward0>)}\n",
            "Loss:  {tensor(0.0337, dtype=torch.float64, grad_fn=<MeanBackward0>)}\n",
            "Loss:  {tensor(0.0333, dtype=torch.float64, grad_fn=<MeanBackward0>)}\n",
            "Loss:  {tensor(0.0330, dtype=torch.float64, grad_fn=<MeanBackward0>)}\n",
            "Loss:  {tensor(0.0326, dtype=torch.float64, grad_fn=<MeanBackward0>)}\n",
            "Loss:  {tensor(0.0323, dtype=torch.float64, grad_fn=<MeanBackward0>)}\n",
            "Loss:  {tensor(0.0320, dtype=torch.float64, grad_fn=<MeanBackward0>)}\n",
            "epoch:  30, Loss:  0.031953932417465615, Test loss:  0.07424071615630769\n",
            "OrderedDict([('weights', tensor([0.6426], dtype=torch.float64)), ('bias', tensor([0.3658], dtype=torch.float64))])\n",
            "Loss:  {tensor(0.0316, dtype=torch.float64, grad_fn=<MeanBackward0>)}\n",
            "Loss:  {tensor(0.0313, dtype=torch.float64, grad_fn=<MeanBackward0>)}\n",
            "Loss:  {tensor(0.0309, dtype=torch.float64, grad_fn=<MeanBackward0>)}\n",
            "Loss:  {tensor(0.0306, dtype=torch.float64, grad_fn=<MeanBackward0>)}\n",
            "Loss:  {tensor(0.0302, dtype=torch.float64, grad_fn=<MeanBackward0>)}\n",
            "Loss:  {tensor(0.0299, dtype=torch.float64, grad_fn=<MeanBackward0>)}\n",
            "Loss:  {tensor(0.0296, dtype=torch.float64, grad_fn=<MeanBackward0>)}\n",
            "Loss:  {tensor(0.0292, dtype=torch.float64, grad_fn=<MeanBackward0>)}\n",
            "Loss:  {tensor(0.0289, dtype=torch.float64, grad_fn=<MeanBackward0>)}\n",
            "Loss:  {tensor(0.0285, dtype=torch.float64, grad_fn=<MeanBackward0>)}\n",
            "epoch:  40, Loss:  0.02852540732024967, Test loss:  0.06596831641027853\n",
            "OrderedDict([('weights', tensor([0.6598], dtype=torch.float64)), ('bias', tensor([0.3588], dtype=torch.float64))])\n",
            "Loss:  {tensor(0.0282, dtype=torch.float64, grad_fn=<MeanBackward0>)}\n",
            "Loss:  {tensor(0.0278, dtype=torch.float64, grad_fn=<MeanBackward0>)}\n",
            "Loss:  {tensor(0.0275, dtype=torch.float64, grad_fn=<MeanBackward0>)}\n",
            "Loss:  {tensor(0.0271, dtype=torch.float64, grad_fn=<MeanBackward0>)}\n",
            "Loss:  {tensor(0.0268, dtype=torch.float64, grad_fn=<MeanBackward0>)}\n",
            "Loss:  {tensor(0.0265, dtype=torch.float64, grad_fn=<MeanBackward0>)}\n",
            "Loss:  {tensor(0.0261, dtype=torch.float64, grad_fn=<MeanBackward0>)}\n",
            "Loss:  {tensor(0.0258, dtype=torch.float64, grad_fn=<MeanBackward0>)}\n",
            "Loss:  {tensor(0.0254, dtype=torch.float64, grad_fn=<MeanBackward0>)}\n",
            "Loss:  {tensor(0.0251, dtype=torch.float64, grad_fn=<MeanBackward0>)}\n",
            "epoch:  50, Loss:  0.025086607489733993, Test loss:  0.05769591666424941\n",
            "OrderedDict([('weights', tensor([0.6770], dtype=torch.float64)), ('bias', tensor([0.3518], dtype=torch.float64))])\n",
            "Loss:  {tensor(0.0247, dtype=torch.float64, grad_fn=<MeanBackward0>)}\n",
            "Loss:  {tensor(0.0244, dtype=torch.float64, grad_fn=<MeanBackward0>)}\n",
            "Loss:  {tensor(0.0241, dtype=torch.float64, grad_fn=<MeanBackward0>)}\n",
            "Loss:  {tensor(0.0237, dtype=torch.float64, grad_fn=<MeanBackward0>)}\n",
            "Loss:  {tensor(0.0234, dtype=torch.float64, grad_fn=<MeanBackward0>)}\n",
            "Loss:  {tensor(0.0230, dtype=torch.float64, grad_fn=<MeanBackward0>)}\n",
            "Loss:  {tensor(0.0227, dtype=torch.float64, grad_fn=<MeanBackward0>)}\n",
            "Loss:  {tensor(0.0223, dtype=torch.float64, grad_fn=<MeanBackward0>)}\n",
            "Loss:  {tensor(0.0220, dtype=torch.float64, grad_fn=<MeanBackward0>)}\n",
            "Loss:  {tensor(0.0217, dtype=torch.float64, grad_fn=<MeanBackward0>)}\n",
            "epoch:  60, Loss:  0.021652002860658364, Test loss:  0.05011041691438767\n",
            "OrderedDict([('weights', tensor([0.6939], dtype=torch.float64)), ('bias', tensor([0.3443], dtype=torch.float64))])\n",
            "Loss:  {tensor(0.0213, dtype=torch.float64, grad_fn=<MeanBackward0>)}\n",
            "Loss:  {tensor(0.0210, dtype=torch.float64, grad_fn=<MeanBackward0>)}\n",
            "Loss:  {tensor(0.0206, dtype=torch.float64, grad_fn=<MeanBackward0>)}\n",
            "Loss:  {tensor(0.0203, dtype=torch.float64, grad_fn=<MeanBackward0>)}\n",
            "Loss:  {tensor(0.0199, dtype=torch.float64, grad_fn=<MeanBackward0>)}\n",
            "Loss:  {tensor(0.0196, dtype=torch.float64, grad_fn=<MeanBackward0>)}\n",
            "Loss:  {tensor(0.0192, dtype=torch.float64, grad_fn=<MeanBackward0>)}\n",
            "Loss:  {tensor(0.0189, dtype=torch.float64, grad_fn=<MeanBackward0>)}\n",
            "Loss:  {tensor(0.0186, dtype=torch.float64, grad_fn=<MeanBackward0>)}\n",
            "Loss:  {tensor(0.0182, dtype=torch.float64, grad_fn=<MeanBackward0>)}\n",
            "epoch:  70, Loss:  0.018221807826481945, Test loss:  0.041838017168358485\n",
            "OrderedDict([('weights', tensor([0.7111], dtype=torch.float64)), ('bias', tensor([0.3373], dtype=torch.float64))])\n",
            "Loss:  {tensor(0.0179, dtype=torch.float64, grad_fn=<MeanBackward0>)}\n",
            "Loss:  {tensor(0.0175, dtype=torch.float64, grad_fn=<MeanBackward0>)}\n",
            "Loss:  {tensor(0.0172, dtype=torch.float64, grad_fn=<MeanBackward0>)}\n",
            "Loss:  {tensor(0.0168, dtype=torch.float64, grad_fn=<MeanBackward0>)}\n",
            "Loss:  {tensor(0.0165, dtype=torch.float64, grad_fn=<MeanBackward0>)}\n",
            "Loss:  {tensor(0.0162, dtype=torch.float64, grad_fn=<MeanBackward0>)}\n",
            "Loss:  {tensor(0.0158, dtype=torch.float64, grad_fn=<MeanBackward0>)}\n",
            "Loss:  {tensor(0.0155, dtype=torch.float64, grad_fn=<MeanBackward0>)}\n",
            "Loss:  {tensor(0.0151, dtype=torch.float64, grad_fn=<MeanBackward0>)}\n",
            "Loss:  {tensor(0.0148, dtype=torch.float64, grad_fn=<MeanBackward0>)}\n",
            "epoch:  80, Loss:  0.014783007995966232, Test loss:  0.03356561742232937\n",
            "OrderedDict([('weights', tensor([0.7282], dtype=torch.float64)), ('bias', tensor([0.3303], dtype=torch.float64))])\n",
            "Loss:  {tensor(0.0144, dtype=torch.float64, grad_fn=<MeanBackward0>)}\n",
            "Loss:  {tensor(0.0141, dtype=torch.float64, grad_fn=<MeanBackward0>)}\n",
            "Loss:  {tensor(0.0138, dtype=torch.float64, grad_fn=<MeanBackward0>)}\n",
            "Loss:  {tensor(0.0134, dtype=torch.float64, grad_fn=<MeanBackward0>)}\n",
            "Loss:  {tensor(0.0131, dtype=torch.float64, grad_fn=<MeanBackward0>)}\n",
            "Loss:  {tensor(0.0127, dtype=torch.float64, grad_fn=<MeanBackward0>)}\n",
            "Loss:  {tensor(0.0124, dtype=torch.float64, grad_fn=<MeanBackward0>)}\n",
            "Loss:  {tensor(0.0120, dtype=torch.float64, grad_fn=<MeanBackward0>)}\n",
            "Loss:  {tensor(0.0117, dtype=torch.float64, grad_fn=<MeanBackward0>)}\n",
            "Loss:  {tensor(0.0114, dtype=torch.float64, grad_fn=<MeanBackward0>)}\n",
            "epoch:  90, Loss:  0.011350073303851115, Test loss:  0.025980117672467672\n",
            "OrderedDict([('weights', tensor([0.7452], dtype=torch.float64)), ('bias', tensor([0.3228], dtype=torch.float64))])\n",
            "Loss:  {tensor(0.0110, dtype=torch.float64, grad_fn=<MeanBackward0>)}\n",
            "Loss:  {tensor(0.0107, dtype=torch.float64, grad_fn=<MeanBackward0>)}\n",
            "Loss:  {tensor(0.0103, dtype=torch.float64, grad_fn=<MeanBackward0>)}\n",
            "Loss:  {tensor(0.0100, dtype=torch.float64, grad_fn=<MeanBackward0>)}\n",
            "Loss:  {tensor(0.0096, dtype=torch.float64, grad_fn=<MeanBackward0>)}\n",
            "Loss:  {tensor(0.0093, dtype=torch.float64, grad_fn=<MeanBackward0>)}\n",
            "Loss:  {tensor(0.0089, dtype=torch.float64, grad_fn=<MeanBackward0>)}\n",
            "Loss:  {tensor(0.0086, dtype=torch.float64, grad_fn=<MeanBackward0>)}\n",
            "Loss:  {tensor(0.0083, dtype=torch.float64, grad_fn=<MeanBackward0>)}\n"
          ]
        }
      ]
    },
    {
      "cell_type": "code",
      "source": [
        "# Loss:  {tensor(0.0292, dtype=torch.float64, grad_fn=<MeanBackward0>)}\n",
        "# Loss:  {tensor(0.0289, dtype=torch.float64, grad_fn=<MeanBackward0>)}"
      ],
      "metadata": {
        "id": "b4h0VfK2r1l9"
      },
      "execution_count": 20,
      "outputs": []
    },
    {
      "cell_type": "code",
      "source": [
        "model_0.state_dict()"
      ],
      "metadata": {
        "id": "OspPGYq-V1Zq",
        "outputId": "f7139e44-3ac6-417e-a42e-944b7a2aa125",
        "colab": {
          "base_uri": "https://localhost:8080/"
        }
      },
      "execution_count": 21,
      "outputs": [
        {
          "output_type": "execute_result",
          "data": {
            "text/plain": [
              "OrderedDict([('weights', tensor([0.5898], dtype=torch.float64)),\n",
              "             ('bias', tensor([0.3883], dtype=torch.float64))])"
            ]
          },
          "metadata": {},
          "execution_count": 21
        }
      ]
    },
    {
      "cell_type": "code",
      "source": [
        "\"true values:\", weight, bias"
      ],
      "metadata": {
        "id": "MTl3HG38WrkB",
        "outputId": "0cfb3de2-b816-46ca-b241-12e06a62b219",
        "colab": {
          "base_uri": "https://localhost:8080/"
        }
      },
      "execution_count": 22,
      "outputs": [
        {
          "output_type": "execute_result",
          "data": {
            "text/plain": [
              "('true values:', 0.8, 0.3)"
            ]
          },
          "metadata": {},
          "execution_count": 22
        }
      ]
    },
    {
      "cell_type": "code",
      "source": [
        "model_0.state_dict()"
      ],
      "metadata": {
        "id": "Ahb4HWKhXnpc",
        "outputId": "980fd4be-d67b-4c98-81d4-88dea6540c98",
        "colab": {
          "base_uri": "https://localhost:8080/"
        }
      },
      "execution_count": 23,
      "outputs": [
        {
          "output_type": "execute_result",
          "data": {
            "text/plain": [
              "OrderedDict([('weights', tensor([0.5898], dtype=torch.float64)),\n",
              "             ('bias', tensor([0.3883], dtype=torch.float64))])"
            ]
          },
          "metadata": {},
          "execution_count": 23
        }
      ]
    },
    {
      "cell_type": "code",
      "source": [
        "model_0.state_dict()"
      ],
      "metadata": {
        "id": "zqDT0RI0YXPl",
        "outputId": "9289c2ca-2e65-4f39-d21d-8101758f42cf",
        "colab": {
          "base_uri": "https://localhost:8080/"
        }
      },
      "execution_count": 24,
      "outputs": [
        {
          "output_type": "execute_result",
          "data": {
            "text/plain": [
              "OrderedDict([('weights', tensor([0.5898], dtype=torch.float64)),\n",
              "             ('bias', tensor([0.3883], dtype=torch.float64))])"
            ]
          },
          "metadata": {},
          "execution_count": 24
        }
      ]
    },
    {
      "cell_type": "code",
      "source": [
        "model_0.state_dict()"
      ],
      "metadata": {
        "id": "VSUkprd9ZBiS",
        "outputId": "cdfe7bc0-562b-4597-bc5c-d61ca79e3e46",
        "colab": {
          "base_uri": "https://localhost:8080/"
        }
      },
      "execution_count": 25,
      "outputs": [
        {
          "output_type": "execute_result",
          "data": {
            "text/plain": [
              "OrderedDict([('weights', tensor([0.5898], dtype=torch.float64)),\n",
              "             ('bias', tensor([0.3883], dtype=torch.float64))])"
            ]
          },
          "metadata": {},
          "execution_count": 25
        }
      ]
    },
    {
      "cell_type": "code",
      "source": [
        "model_0.state_dict()"
      ],
      "metadata": {
        "id": "yTFN7lKcZNtK",
        "outputId": "facb6237-2d35-4e18-adfc-52a74f2610dd",
        "colab": {
          "base_uri": "https://localhost:8080/"
        }
      },
      "execution_count": 26,
      "outputs": [
        {
          "output_type": "execute_result",
          "data": {
            "text/plain": [
              "OrderedDict([('weights', tensor([0.5898], dtype=torch.float64)),\n",
              "             ('bias', tensor([0.3883], dtype=torch.float64))])"
            ]
          },
          "metadata": {},
          "execution_count": 26
        }
      ]
    },
    {
      "cell_type": "code",
      "source": [
        "with torch.inference_mode():\n",
        "  y_predict_new = model_0(X_test)"
      ],
      "metadata": {
        "id": "LTqicHcX9Vcq"
      },
      "execution_count": 27,
      "outputs": []
    },
    {
      "cell_type": "code",
      "source": [
        "plot_predictions(prediction=y_predict_new)"
      ],
      "metadata": {
        "id": "pVo9Gi8YV5e4",
        "outputId": "67983f68-e745-44ea-b486-3e8203cebdbd",
        "colab": {
          "base_uri": "https://localhost:8080/",
          "height": 599
        }
      },
      "execution_count": 30,
      "outputs": [
        {
          "output_type": "display_data",
          "data": {
            "text/plain": [
              "<Figure size 1000x700 with 1 Axes>"
            ],
            "image/png": "[encoded data removed]"
          },
          "metadata": {}
        }
      ]
    },
    {
      "cell_type": "code",
      "source": [
        " plot_predictions(prediction=y_test_prediction);"
      ],
      "metadata": {
        "id": "y5f-XHorXW5N",
        "outputId": "dc581ec7-72d7-4728-a4ce-bb234088909d",
        "colab": {
          "base_uri": "https://localhost:8080/",
          "height": 599
        }
      },
      "execution_count": 32,
      "outputs": [
        {
          "output_type": "display_data",
          "data": {
            "text/plain": [
              "<Figure size 1000x700 with 1 Axes>"
            ],
            "image/png": "[encoded data removed]"
          },
          "metadata": {}
        }
      ]
    },
    {
      "cell_type": "code",
      "source": [],
      "metadata": {
        "id": "68CL5IdytUmt"
      },
      "execution_count": null,
      "outputs": []
    }
  ],
  "metadata": {
    "colab": {
      "provenance": [],
      "authorship_tag": "ABX9TyPpN+HeZMBbrxlEy+bW4haP",
      "include_colab_link": true
    },
    "kernelspec": {
      "display_name": "Python 3",
      "name": "python3"
    },
    "language_info": {
      "name": "python"
    }
  },
  "nbformat": 4,
  "nbformat_minor": 0
}