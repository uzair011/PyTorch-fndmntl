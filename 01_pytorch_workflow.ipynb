{
  "cells": [
    {
      "cell_type": "markdown",
      "metadata": {
        "id": "view-in-github",
        "colab_type": "text"
      },
      "source": [
        "<a href=\"https://colab.research.google.com/github/uzair011/PyTorch-fndmntl/blob/main/01_pytorch_workflow.ipynb\" target=\"_parent\"><img src=\"https://colab.research.google.com/assets/colab-badge.svg\" alt=\"Open In Colab\"/></a>"
      ]
    },
    {
      "cell_type": "code",
      "execution_count": 47,
      "metadata": {
        "colab": {
          "base_uri": "https://localhost:8080/"
        },
        "id": "0MWoTqPsMuTy",
        "outputId": "f6047cbe-9a4d-45d6-dff1-e00698bde7ac"
      },
      "outputs": [
        {
          "output_type": "execute_result",
          "data": {
            "text/plain": [
              "{1: 'Data (prepare and load).',\n",
              " 2: 'Build model.',\n",
              " 3: 'Fitting the model to data (training).',\n",
              " 4: 'Making predictions and evaluating the model (inference).',\n",
              " 5: 'Saving and loading the model.',\n",
              " 6: 'Putting it all together.'}"
            ]
          },
          "metadata": {},
          "execution_count": 47
        }
      ],
      "source": [
        "what_we_are_covering = {\n",
        "    1: \"Data (prepare and load).\",\n",
        "    2: \"Build model.\",\n",
        "    3: \"Fitting the model to data (training).\",\n",
        "    4: \"Making predictions and evaluating the model (inference).\",\n",
        "    5: \"Saving and loading the model.\",\n",
        "    6: \"Putting it all together.\"\n",
        "}\n",
        "what_we_are_covering"
      ]
    },
    {
      "cell_type": "code",
      "execution_count": 48,
      "metadata": {
        "colab": {
          "base_uri": "https://localhost:8080/",
          "height": 35
        },
        "id": "l1W8VO3XO2Ts",
        "outputId": "061896dd-30af-424b-a296-6afa26392927"
      },
      "outputs": [
        {
          "output_type": "execute_result",
          "data": {
            "text/plain": [
              "'2.0.1+cu118'"
            ],
            "application/vnd.google.colaboratory.intrinsic+json": {
              "type": "string"
            }
          },
          "metadata": {},
          "execution_count": 48
        }
      ],
      "source": [
        "import torch\n",
        "from torch import nn # nn contains all of the building blocks for neural networks.\n",
        "import matplotlib.pyplot as plt\n",
        "\n",
        "# check pytorch version\n",
        "torch.__version__"
      ]
    },
    {
      "cell_type": "markdown",
      "metadata": {
        "id": "V6rcaoBtPaaf"
      },
      "source": [
        "## Data (Preparing and Loading)\n",
        "\n",
        "* In maching learning data can be almost anything...\n",
        "  1. Execl spread sheet\n",
        "  2. Images\n",
        "  3. Videos\n",
        "  4. Texts\n",
        "  5. Audio files\n",
        "  5. DNA...\n",
        "\n",
        "   Main Concepts in ML\n",
        "   1. Get data in to numerical representation.\n",
        "   2. Build a model to learn patterns in the model.\n",
        "\n",
        "\n",
        "   * To showcase this, lets create some *KNOWN* data using linear regression formula.\n",
        "   * Here we'll use a linear regression formula to create straight line with known *parameters*.\n",
        "\n"
      ]
    },
    {
      "cell_type": "code",
      "execution_count": 49,
      "metadata": {
        "colab": {
          "base_uri": "https://localhost:8080/"
        },
        "id": "Cze1EyoQPqMG",
        "outputId": "9cb09734-3e01-418a-cf3d-336a056b44aa"
      },
      "outputs": [
        {
          "output_type": "stream",
          "name": "stdout",
          "text": [
            "tensor([[0.0000],\n",
            "        [0.0200],\n",
            "        [0.0400],\n",
            "        [0.0600],\n",
            "        [0.0800],\n",
            "        [0.1000],\n",
            "        [0.1200],\n",
            "        [0.1400],\n",
            "        [0.1600],\n",
            "        [0.1800]])\n",
            "\n",
            "tensor([[0.3000],\n",
            "        [0.3160],\n",
            "        [0.3320],\n",
            "        [0.3480],\n",
            "        [0.3640],\n",
            "        [0.3800],\n",
            "        [0.3960],\n",
            "        [0.4120],\n",
            "        [0.4280],\n",
            "        [0.4440]])\n"
          ]
        }
      ],
      "source": [
        "# create *known* parameters\n",
        "weight = 0.8\n",
        "bias = 0.3\n",
        "\n",
        "# create\n",
        "start = 0\n",
        "end = 1\n",
        "step = 0.02\n",
        "X = torch.arange(start, end, step).unsqueeze(dim=1)\n",
        "y = weight * X + bias\n",
        "\n",
        "print(X[:10])\n",
        "print(\"\")\n",
        "print(y[:10])"
      ]
    },
    {
      "cell_type": "code",
      "execution_count": 50,
      "metadata": {
        "colab": {
          "base_uri": "https://localhost:8080/"
        },
        "id": "nSbNvvNqXC32",
        "outputId": "bdb3aebb-74d6-4a6b-d292-6b670e6f8dc4"
      },
      "outputs": [
        {
          "output_type": "execute_result",
          "data": {
            "text/plain": [
              "(50, 50)"
            ]
          },
          "metadata": {},
          "execution_count": 50
        }
      ],
      "source": [
        "len(X), len(y)"
      ]
    },
    {
      "cell_type": "markdown",
      "metadata": {
        "id": "wRaJyhRYXH2_"
      },
      "source": [
        "## Splitting data into training and testing sets (one of the core concepts in ML, DL)\n",
        "\n"
      ]
    },
    {
      "cell_type": "code",
      "execution_count": 51,
      "metadata": {
        "colab": {
          "base_uri": "https://localhost:8080/"
        },
        "id": "LKrklrPXaPn0",
        "outputId": "f955775f-86cb-42c4-b928-540962caf6c2"
      },
      "outputs": [
        {
          "output_type": "execute_result",
          "data": {
            "text/plain": [
              "(40, 10, 40, 10)"
            ]
          },
          "metadata": {},
          "execution_count": 51
        }
      ],
      "source": [
        "# creating a training and test set with our data\n",
        "\n",
        "train_split = int(0.8 * len(X))\n",
        "X_train, y_train = X[:train_split], y[:train_split]\n",
        "X_test, y_test = X[train_split:], y[train_split:]\n",
        "len(X_train), len(X_test), len(y_train), len(y_test)"
      ]
    },
    {
      "cell_type": "markdown",
      "metadata": {
        "id": "QnKoBbE5dRQV"
      },
      "source": [
        "Visualizing the data.\n",
        "explorer's moto :  \"Visualize, visualize, visualize.....\""
      ]
    },
    {
      "cell_type": "code",
      "execution_count": 52,
      "metadata": {
        "id": "UdhPbxHSeS0_"
      },
      "outputs": [],
      "source": [
        "def plot_predictions(train_data=X_train,\n",
        "                     train_labels=y_train,\n",
        "                     test_data=X_test,\n",
        "                     test_labels=y_test,\n",
        "                     prediction=None):\n",
        "  \"\"\"Plots trainning data, testing data and compares predictions...\"\"\"\n",
        "\n",
        "  plt.figure(figsize=(10, 7))\n",
        "\n",
        "  #plot training data into blue\n",
        "  plt.scatter(train_data, train_labels, c=\"blue\", s=4, label=\"training dataset\")\n",
        "  #plot testing data into yellow\n",
        "  plt.scatter(test_data, test_labels, c=\"purple\", s=4, label=\"testing dataset\")\n",
        "\n",
        "  # are there any predictions?\n",
        "  if prediction is not None:\n",
        "    #plot the predictions if they exist\n",
        "    plt.scatter(test_data, prediction, c=\"red\", s=4, label=\"predictions\")\n",
        "\n",
        "  # show the legend\n",
        "  plt.legend(prop={\"size\": 14})"
      ]
    },
    {
      "cell_type": "code",
      "execution_count": 53,
      "metadata": {
        "colab": {
          "base_uri": "https://localhost:8080/",
          "height": 599
        },
        "id": "GDcFNBefkfsv",
        "outputId": "3ddf0408-b96a-4811-8284-db1a3c1eafe9"
      },
      "outputs": [
        {
          "output_type": "display_data",
          "data": {
            "text/plain": [
              "<Figure size 1000x700 with 1 Axes>"
            ],
            "image/png": "[encoded data removed]"
          },
          "metadata": {}
        }
      ],
      "source": [
        "plot_predictions()"
      ]
    },
    {
      "cell_type": "markdown",
      "metadata": {
        "id": "z2Cabs5wkngp"
      },
      "source": [
        "## Build a PyTorch Model\n",
        "\n",
        "- what our model does...\n",
        "  1. Start with random values (weight, bias)\n",
        "  2. Look at the training data and try to better represent (or get closer to ) the ideal values ( The weight and bias we used to create the initial data)...\n",
        "\n",
        "- How does it do so?\n",
        "1. Radient descent\n",
        "2. Back propergation"
      ]
    },
    {
      "cell_type": "code",
      "execution_count": 54,
      "metadata": {
        "id": "Uqe-lsrckrqR"
      },
      "outputs": [],
      "source": [
        "from torch import nn\n",
        "\n",
        "class LinearRegressionModel(nn.Module):\n",
        "  def __init__(self):\n",
        "    super().__init__()\n",
        "    self.weights = nn.Parameter(torch.randn(1,\n",
        "                                           requires_grad=True,\n",
        "                                           dtype = float))\n",
        "    self.bias = nn.Parameter(torch.randn(1,\n",
        "                                         requires_grad=True,\n",
        "                                         dtype = float))\n",
        "\n",
        "    # Forward method to define the computation in the method.\n",
        "  def forward(self, x: torch.Tensor) -> torch.Tensor:    # X is input data - training data.\n",
        "      return self.weights * x + self.bias     # linear reqression formula.\n"
      ]
    },
    {
      "cell_type": "markdown",
      "metadata": {
        "id": "7P5YrulBuApw"
      },
      "source": [
        "## PyTorch model building essentials...\n",
        "\n",
        "* `torch.nn` - Contains all of the buildings for computational graphs (a neural network can be considerd as computational graph.)\n",
        "* `torch.nn.Parameter` - What parameters our model try and learn, often a pytorch layer from ``torch.nn`` will set these for us.\n",
        "* `torch.nn.Module` - The base class for all neural networks. if you subclass it, then you should overwrite with def forward()\n",
        "* `torch.optim` - This is were optimizers in pytorch live, they will help with gradient descent.\n",
        "* `def forward()` - All `nn.module` subclasses require you to overwrite forward(), this method defines what happens in the forward computation."
      ]
    },
    {
      "cell_type": "markdown",
      "metadata": {
        "id": "xgBh_x5ZxluC"
      },
      "source": []
    },
    {
      "cell_type": "markdown",
      "metadata": {
        "id": "28jxplG1t_pc"
      },
      "source": [
        "### checking the contents of our pytorch model\n",
        "\n",
        "wer can check our model parameters or what's inside by using `.parameters()`"
      ]
    },
    {
      "cell_type": "code",
      "execution_count": 55,
      "metadata": {
        "colab": {
          "base_uri": "https://localhost:8080/"
        },
        "id": "CwSW3CYL050f",
        "outputId": "1ef4aa6c-cf4a-4f3e-da4c-53fb05a7b99b"
      },
      "outputs": [
        {
          "output_type": "execute_result",
          "data": {
            "text/plain": [
              "[Parameter containing:\n",
              " tensor([0.3367], dtype=torch.float64, requires_grad=True),\n",
              " Parameter containing:\n",
              " tensor([0.1288], dtype=torch.float64, requires_grad=True)]"
            ]
          },
          "metadata": {},
          "execution_count": 55
        }
      ],
      "source": [
        "# Create a random seed\n",
        "torch.manual_seed(42)\n",
        "\n",
        "# Creat an instance of the model (this is a subclass of nn.model)\n",
        "model_0 = LinearRegressionModel()\n",
        "\n",
        "# Check out the parameters of the model\n",
        "list(model_0.parameters())"
      ]
    },
    {
      "cell_type": "code",
      "execution_count": 56,
      "metadata": {
        "colab": {
          "base_uri": "https://localhost:8080/"
        },
        "id": "Th9wDIBkMUr3",
        "outputId": "fdd78e1f-204e-4bd1-b328-74715910c9c7"
      },
      "outputs": [
        {
          "output_type": "execute_result",
          "data": {
            "text/plain": [
              "OrderedDict([('weights', tensor([0.3367], dtype=torch.float64)),\n",
              "             ('bias', tensor([0.1288], dtype=torch.float64))])"
            ]
          },
          "metadata": {},
          "execution_count": 56
        }
      ],
      "source": [
        "model_0.state_dict()"
      ]
    },
    {
      "cell_type": "code",
      "execution_count": 57,
      "metadata": {
        "colab": {
          "base_uri": "https://localhost:8080/"
        },
        "id": "RLYffi_ZNXCu",
        "outputId": "810734fd-221b-425d-9cd5-5037655d596c"
      },
      "outputs": [
        {
          "output_type": "execute_result",
          "data": {
            "text/plain": [
              "(0.8, 0.3)"
            ]
          },
          "metadata": {},
          "execution_count": 57
        }
      ],
      "source": [
        "weight, bias"
      ]
    },
    {
      "cell_type": "markdown",
      "metadata": {
        "id": "2vuLBoE6NY7F"
      },
      "source": [
        "### Making predictions with `torch.inference_mode()`\n",
        "\n",
        "To check our model's predictive power, lets check how it predicts `y_test` based on `x_test`.\n",
        "\n",
        "When we pass data through our model, it's going to run it through the `forward()` method."
      ]
    },
    {
      "cell_type": "code",
      "execution_count": 58,
      "metadata": {
        "id": "InXLH7FRQM7C",
        "colab": {
          "base_uri": "https://localhost:8080/"
        },
        "outputId": "56f057ad-81b8-44b6-ebd2-d0de12286782"
      },
      "outputs": [
        {
          "output_type": "execute_result",
          "data": {
            "text/plain": [
              "(tensor([[0.8000],\n",
              "         [0.8200],\n",
              "         [0.8400],\n",
              "         [0.8600],\n",
              "         [0.8800],\n",
              "         [0.9000],\n",
              "         [0.9200],\n",
              "         [0.9400],\n",
              "         [0.9600],\n",
              "         [0.9800]]),\n",
              " tensor([[0.9400],\n",
              "         [0.9560],\n",
              "         [0.9720],\n",
              "         [0.9880],\n",
              "         [1.0040],\n",
              "         [1.0200],\n",
              "         [1.0360],\n",
              "         [1.0520],\n",
              "         [1.0680],\n",
              "         [1.0840]]))"
            ]
          },
          "metadata": {},
          "execution_count": 58
        }
      ],
      "source": [
        "X_test, y_test"
      ]
    },
    {
      "cell_type": "code",
      "execution_count": 59,
      "metadata": {
        "colab": {
          "base_uri": "https://localhost:8080/"
        },
        "id": "jX55lgRYPLPu",
        "outputId": "6136888e-639b-40e9-9671-5dc974fe91fc"
      },
      "outputs": [
        {
          "output_type": "execute_result",
          "data": {
            "text/plain": [
              "tensor([[0.3982],\n",
              "        [0.4049],\n",
              "        [0.4116],\n",
              "        [0.4184],\n",
              "        [0.4251],\n",
              "        [0.4318],\n",
              "        [0.4386],\n",
              "        [0.4453],\n",
              "        [0.4520],\n",
              "        [0.4588]], dtype=torch.float64)"
            ]
          },
          "metadata": {},
          "execution_count": 59
        }
      ],
      "source": [
        "# Make predictions with our model\n",
        "\n",
        "with torch.inference_mode():\n",
        "  y_predict = model_0(X_test)\n",
        "\n",
        "y_predict\n",
        "\n",
        "\n",
        "\n",
        "# We can do similar with torch.no_grad(): BUT, torch.inference_mode() is preferrd...\n",
        "# with torch.no_grad():\n",
        "#   y_predict = model_0(X_test)\n",
        "\n",
        "# y_predict"
      ]
    },
    {
      "cell_type": "code",
      "source": [
        "y_test"
      ],
      "metadata": {
        "colab": {
          "base_uri": "https://localhost:8080/"
        },
        "id": "pbAAZF4_RI5j",
        "outputId": "6251b291-f294-45e3-b403-74f05c2a045e"
      },
      "execution_count": 60,
      "outputs": [
        {
          "output_type": "execute_result",
          "data": {
            "text/plain": [
              "tensor([[0.9400],\n",
              "        [0.9560],\n",
              "        [0.9720],\n",
              "        [0.9880],\n",
              "        [1.0040],\n",
              "        [1.0200],\n",
              "        [1.0360],\n",
              "        [1.0520],\n",
              "        [1.0680],\n",
              "        [1.0840]])"
            ]
          },
          "metadata": {},
          "execution_count": 60
        }
      ]
    },
    {
      "cell_type": "code",
      "source": [
        "plot_predictions(prediction=y_predict)"
      ],
      "metadata": {
        "colab": {
          "base_uri": "https://localhost:8080/",
          "height": 599
        },
        "id": "fkDJWuy1RRis",
        "outputId": "baaec673-c301-423b-e763-50109e925cef"
      },
      "execution_count": 61,
      "outputs": [
        {
          "output_type": "display_data",
          "data": {
            "text/plain": [
              "<Figure size 1000x700 with 1 Axes>"
            ],
            "image/png": "[encoded data removed]"
          },
          "metadata": {}
        }
      ]
    },
    {
      "cell_type": "markdown",
      "source": [
        "# 3.\n",
        "Training our model\n",
        "\n",
        "- The idea of training is for a model to move from *UNKNOWN* parameters ( these maybe random ) to some *KNOWN* parameters OR in other words a poor representation to better representation of data.\n",
        "\n",
        "- One way to messure how poor our model or how wrong the predictions are\n",
        "to use a loss function.\n",
        "\n",
        "- NOTE: A loss function is also called cost function or criterion. But, here we reffer to it as loss function.\n",
        "\n",
        "-- Things we need to train --\n",
        "1. **Loss Function** - A function to messure how wrong our model's predictions to the ideal output, lower is better.\n",
        "2. **Optimizer** - Take into accout the loss of our model and adjusts the model's parameters (Eg: weight, bias in our case) to improve loss function.\n",
        "\n",
        "Specifically for pytorch we need,\n",
        "1. A training loop.\n",
        "2. A testing loop."
      ],
      "metadata": {
        "id": "XzvtSiGJPiMh"
      }
    },
    {
      "cell_type": "code",
      "source": [
        "list(model_0.parameters())"
      ],
      "metadata": {
        "colab": {
          "base_uri": "https://localhost:8080/"
        },
        "id": "QwmVO5k0UBw4",
        "outputId": "12e9ec19-c194-4089-f254-5ed0bba37e37"
      },
      "execution_count": 62,
      "outputs": [
        {
          "output_type": "execute_result",
          "data": {
            "text/plain": [
              "[Parameter containing:\n",
              " tensor([0.3367], dtype=torch.float64, requires_grad=True),\n",
              " Parameter containing:\n",
              " tensor([0.1288], dtype=torch.float64, requires_grad=True)]"
            ]
          },
          "metadata": {},
          "execution_count": 62
        }
      ]
    },
    {
      "cell_type": "code",
      "source": [
        "model_0.state_dict()"
      ],
      "metadata": {
        "colab": {
          "base_uri": "https://localhost:8080/"
        },
        "id": "0rjRPE8ybYs5",
        "outputId": "e8e13a5b-ca2c-4b55-bdae-b4c5b32ae980"
      },
      "execution_count": 63,
      "outputs": [
        {
          "output_type": "execute_result",
          "data": {
            "text/plain": [
              "OrderedDict([('weights', tensor([0.3367], dtype=torch.float64)),\n",
              "             ('bias', tensor([0.1288], dtype=torch.float64))])"
            ]
          },
          "metadata": {},
          "execution_count": 63
        }
      ]
    },
    {
      "cell_type": "code",
      "source": [
        "# Setup a loss function\n",
        "loss_function = nn.L1Loss()\n",
        "\n",
        "# Setup an optimizer (SGD - Stochastic Gradient Descent)\n",
        "optimizer = torch.optim.SGD(params = model_0.parameters(),\n",
        "                            lr=0.01) # lr - Learning Rate is an important hyper parameter that the engineer set."
      ],
      "metadata": {
        "id": "kXPhe9VfEv7r"
      },
      "execution_count": 64,
      "outputs": []
    },
    {
      "cell_type": "markdown",
      "source": [
        "### Building a training loop (and a testing loop) in Pytorch\n",
        "\n",
        "* Some things to consider in a training loop... AND DO...\n",
        "0. Loop through the data.\n",
        "1. Forward pass ( this involves the data move through the `forward` functions ) to make predictions on data - also called forward propergation.\n",
        "2. Calculate the loss ( Compare forward pass predictions to ground truth labels)\n",
        "3. Optimizer zero grad\n",
        "4. Loss Backward - move backwards through the network to calculate the gradients of each of the parameters of our model with respect to the loss(**Back Propergation**)\n",
        "5. Optimizer step - Use the optimizer to adjust our model's to try and improve the loss(**Gradient Descent**)"
      ],
      "metadata": {
        "id": "J68gLsDFKFjU"
      }
    },
    {
      "cell_type": "code",
      "source": [
        "torch.manual_seed(42)\n",
        "# 1 epoch is 1 loop through the data.\n",
        "epochs = 100\n",
        "\n",
        "## Training\n",
        "\n",
        "# 0. Loop throuth the data.\n",
        "for epoch in range(epochs):\n",
        "  # Set the model to training data.\n",
        "  model_0.train() # Train mode in pytorch sets all the parameters that require gradients to require gradients.\n",
        "\n",
        "  # 1. Forward pass\n",
        "  y_prediction = model_0(X_train)\n",
        "\n",
        "  # 2. Calculate loss\n",
        "  loss = loss_function(y_prediction, y_train)\n",
        "  print(f\"Loss: \", {loss})\n",
        "\n",
        "  # 3. Optimizer zero grad\n",
        "  optimizer.zero_grad()\n",
        "\n",
        "  # 4. Loss backward - perform backpropergation on the loss with respect to parameters of the model.\n",
        "  loss.backward()\n",
        "\n",
        "  # 5. Step the optimizer\n",
        "  optimizer.step()  # By default how the optimizer changes will accumulate through the loop... So, we have to zero them above in step 3 for the next iteration of the loop.\n",
        "\n",
        "\n",
        "### Testing\n",
        "  model_0.eval() # Turns off gradient tracking...\n",
        ""
      ],
      "metadata": {
        "colab": {
          "base_uri": "https://localhost:8080/"
        },
        "id": "dV4DV3CqKJH7",
        "outputId": "2a431456-f63e-40bb-9f06-fab906fc898d"
      },
      "execution_count": 120,
      "outputs": [
        {
          "output_type": "stream",
          "name": "stdout",
          "text": [
            "Loss:  {tensor(0.0652, dtype=torch.float64, grad_fn=<MeanBackward0>)}\n",
            "Loss:  {tensor(0.0645, dtype=torch.float64, grad_fn=<MeanBackward0>)}\n",
            "Loss:  {tensor(0.0639, dtype=torch.float64, grad_fn=<MeanBackward0>)}\n",
            "Loss:  {tensor(0.0632, dtype=torch.float64, grad_fn=<MeanBackward0>)}\n",
            "Loss:  {tensor(0.0626, dtype=torch.float64, grad_fn=<MeanBackward0>)}\n",
            "Loss:  {tensor(0.0621, dtype=torch.float64, grad_fn=<MeanBackward0>)}\n",
            "Loss:  {tensor(0.0616, dtype=torch.float64, grad_fn=<MeanBackward0>)}\n",
            "Loss:  {tensor(0.0611, dtype=torch.float64, grad_fn=<MeanBackward0>)}\n",
            "Loss:  {tensor(0.0606, dtype=torch.float64, grad_fn=<MeanBackward0>)}\n",
            "Loss:  {tensor(0.0602, dtype=torch.float64, grad_fn=<MeanBackward0>)}\n",
            "Loss:  {tensor(0.0598, dtype=torch.float64, grad_fn=<MeanBackward0>)}\n",
            "Loss:  {tensor(0.0594, dtype=torch.float64, grad_fn=<MeanBackward0>)}\n",
            "Loss:  {tensor(0.0590, dtype=torch.float64, grad_fn=<MeanBackward0>)}\n",
            "Loss:  {tensor(0.0586, dtype=torch.float64, grad_fn=<MeanBackward0>)}\n",
            "Loss:  {tensor(0.0582, dtype=torch.float64, grad_fn=<MeanBackward0>)}\n",
            "Loss:  {tensor(0.0578, dtype=torch.float64, grad_fn=<MeanBackward0>)}\n",
            "Loss:  {tensor(0.0575, dtype=torch.float64, grad_fn=<MeanBackward0>)}\n",
            "Loss:  {tensor(0.0571, dtype=torch.float64, grad_fn=<MeanBackward0>)}\n",
            "Loss:  {tensor(0.0568, dtype=torch.float64, grad_fn=<MeanBackward0>)}\n",
            "Loss:  {tensor(0.0564, dtype=torch.float64, grad_fn=<MeanBackward0>)}\n",
            "Loss:  {tensor(0.0561, dtype=torch.float64, grad_fn=<MeanBackward0>)}\n",
            "Loss:  {tensor(0.0557, dtype=torch.float64, grad_fn=<MeanBackward0>)}\n",
            "Loss:  {tensor(0.0554, dtype=torch.float64, grad_fn=<MeanBackward0>)}\n",
            "Loss:  {tensor(0.0550, dtype=torch.float64, grad_fn=<MeanBackward0>)}\n",
            "Loss:  {tensor(0.0547, dtype=torch.float64, grad_fn=<MeanBackward0>)}\n",
            "Loss:  {tensor(0.0543, dtype=torch.float64, grad_fn=<MeanBackward0>)}\n",
            "Loss:  {tensor(0.0540, dtype=torch.float64, grad_fn=<MeanBackward0>)}\n",
            "Loss:  {tensor(0.0536, dtype=torch.float64, grad_fn=<MeanBackward0>)}\n",
            "Loss:  {tensor(0.0533, dtype=torch.float64, grad_fn=<MeanBackward0>)}\n",
            "Loss:  {tensor(0.0529, dtype=torch.float64, grad_fn=<MeanBackward0>)}\n",
            "Loss:  {tensor(0.0526, dtype=torch.float64, grad_fn=<MeanBackward0>)}\n",
            "Loss:  {tensor(0.0522, dtype=torch.float64, grad_fn=<MeanBackward0>)}\n",
            "Loss:  {tensor(0.0519, dtype=torch.float64, grad_fn=<MeanBackward0>)}\n",
            "Loss:  {tensor(0.0516, dtype=torch.float64, grad_fn=<MeanBackward0>)}\n",
            "Loss:  {tensor(0.0512, dtype=torch.float64, grad_fn=<MeanBackward0>)}\n",
            "Loss:  {tensor(0.0509, dtype=torch.float64, grad_fn=<MeanBackward0>)}\n",
            "Loss:  {tensor(0.0505, dtype=torch.float64, grad_fn=<MeanBackward0>)}\n",
            "Loss:  {tensor(0.0502, dtype=torch.float64, grad_fn=<MeanBackward0>)}\n",
            "Loss:  {tensor(0.0498, dtype=torch.float64, grad_fn=<MeanBackward0>)}\n",
            "Loss:  {tensor(0.0495, dtype=torch.float64, grad_fn=<MeanBackward0>)}\n",
            "Loss:  {tensor(0.0491, dtype=torch.float64, grad_fn=<MeanBackward0>)}\n",
            "Loss:  {tensor(0.0488, dtype=torch.float64, grad_fn=<MeanBackward0>)}\n",
            "Loss:  {tensor(0.0484, dtype=torch.float64, grad_fn=<MeanBackward0>)}\n",
            "Loss:  {tensor(0.0481, dtype=torch.float64, grad_fn=<MeanBackward0>)}\n",
            "Loss:  {tensor(0.0478, dtype=torch.float64, grad_fn=<MeanBackward0>)}\n",
            "Loss:  {tensor(0.0474, dtype=torch.float64, grad_fn=<MeanBackward0>)}\n",
            "Loss:  {tensor(0.0471, dtype=torch.float64, grad_fn=<MeanBackward0>)}\n",
            "Loss:  {tensor(0.0467, dtype=torch.float64, grad_fn=<MeanBackward0>)}\n",
            "Loss:  {tensor(0.0464, dtype=torch.float64, grad_fn=<MeanBackward0>)}\n",
            "Loss:  {tensor(0.0460, dtype=torch.float64, grad_fn=<MeanBackward0>)}\n",
            "Loss:  {tensor(0.0457, dtype=torch.float64, grad_fn=<MeanBackward0>)}\n",
            "Loss:  {tensor(0.0453, dtype=torch.float64, grad_fn=<MeanBackward0>)}\n",
            "Loss:  {tensor(0.0450, dtype=torch.float64, grad_fn=<MeanBackward0>)}\n",
            "Loss:  {tensor(0.0447, dtype=torch.float64, grad_fn=<MeanBackward0>)}\n",
            "Loss:  {tensor(0.0443, dtype=torch.float64, grad_fn=<MeanBackward0>)}\n",
            "Loss:  {tensor(0.0440, dtype=torch.float64, grad_fn=<MeanBackward0>)}\n",
            "Loss:  {tensor(0.0436, dtype=torch.float64, grad_fn=<MeanBackward0>)}\n",
            "Loss:  {tensor(0.0433, dtype=torch.float64, grad_fn=<MeanBackward0>)}\n",
            "Loss:  {tensor(0.0429, dtype=torch.float64, grad_fn=<MeanBackward0>)}\n",
            "Loss:  {tensor(0.0426, dtype=torch.float64, grad_fn=<MeanBackward0>)}\n",
            "Loss:  {tensor(0.0423, dtype=torch.float64, grad_fn=<MeanBackward0>)}\n",
            "Loss:  {tensor(0.0419, dtype=torch.float64, grad_fn=<MeanBackward0>)}\n",
            "Loss:  {tensor(0.0416, dtype=torch.float64, grad_fn=<MeanBackward0>)}\n",
            "Loss:  {tensor(0.0412, dtype=torch.float64, grad_fn=<MeanBackward0>)}\n",
            "Loss:  {tensor(0.0409, dtype=torch.float64, grad_fn=<MeanBackward0>)}\n",
            "Loss:  {tensor(0.0405, dtype=torch.float64, grad_fn=<MeanBackward0>)}\n",
            "Loss:  {tensor(0.0402, dtype=torch.float64, grad_fn=<MeanBackward0>)}\n",
            "Loss:  {tensor(0.0399, dtype=torch.float64, grad_fn=<MeanBackward0>)}\n",
            "Loss:  {tensor(0.0395, dtype=torch.float64, grad_fn=<MeanBackward0>)}\n",
            "Loss:  {tensor(0.0392, dtype=torch.float64, grad_fn=<MeanBackward0>)}\n",
            "Loss:  {tensor(0.0388, dtype=torch.float64, grad_fn=<MeanBackward0>)}\n",
            "Loss:  {tensor(0.0385, dtype=torch.float64, grad_fn=<MeanBackward0>)}\n",
            "Loss:  {tensor(0.0381, dtype=torch.float64, grad_fn=<MeanBackward0>)}\n",
            "Loss:  {tensor(0.0378, dtype=torch.float64, grad_fn=<MeanBackward0>)}\n",
            "Loss:  {tensor(0.0374, dtype=torch.float64, grad_fn=<MeanBackward0>)}\n",
            "Loss:  {tensor(0.0371, dtype=torch.float64, grad_fn=<MeanBackward0>)}\n",
            "Loss:  {tensor(0.0368, dtype=torch.float64, grad_fn=<MeanBackward0>)}\n",
            "Loss:  {tensor(0.0364, dtype=torch.float64, grad_fn=<MeanBackward0>)}\n",
            "Loss:  {tensor(0.0361, dtype=torch.float64, grad_fn=<MeanBackward0>)}\n",
            "Loss:  {tensor(0.0357, dtype=torch.float64, grad_fn=<MeanBackward0>)}\n",
            "Loss:  {tensor(0.0354, dtype=torch.float64, grad_fn=<MeanBackward0>)}\n",
            "Loss:  {tensor(0.0350, dtype=torch.float64, grad_fn=<MeanBackward0>)}\n",
            "Loss:  {tensor(0.0347, dtype=torch.float64, grad_fn=<MeanBackward0>)}\n",
            "Loss:  {tensor(0.0344, dtype=torch.float64, grad_fn=<MeanBackward0>)}\n",
            "Loss:  {tensor(0.0340, dtype=torch.float64, grad_fn=<MeanBackward0>)}\n",
            "Loss:  {tensor(0.0337, dtype=torch.float64, grad_fn=<MeanBackward0>)}\n",
            "Loss:  {tensor(0.0333, dtype=torch.float64, grad_fn=<MeanBackward0>)}\n",
            "Loss:  {tensor(0.0330, dtype=torch.float64, grad_fn=<MeanBackward0>)}\n",
            "Loss:  {tensor(0.0326, dtype=torch.float64, grad_fn=<MeanBackward0>)}\n",
            "Loss:  {tensor(0.0323, dtype=torch.float64, grad_fn=<MeanBackward0>)}\n",
            "Loss:  {tensor(0.0320, dtype=torch.float64, grad_fn=<MeanBackward0>)}\n",
            "Loss:  {tensor(0.0316, dtype=torch.float64, grad_fn=<MeanBackward0>)}\n",
            "Loss:  {tensor(0.0313, dtype=torch.float64, grad_fn=<MeanBackward0>)}\n",
            "Loss:  {tensor(0.0309, dtype=torch.float64, grad_fn=<MeanBackward0>)}\n",
            "Loss:  {tensor(0.0306, dtype=torch.float64, grad_fn=<MeanBackward0>)}\n",
            "Loss:  {tensor(0.0302, dtype=torch.float64, grad_fn=<MeanBackward0>)}\n",
            "Loss:  {tensor(0.0299, dtype=torch.float64, grad_fn=<MeanBackward0>)}\n",
            "Loss:  {tensor(0.0296, dtype=torch.float64, grad_fn=<MeanBackward0>)}\n",
            "Loss:  {tensor(0.0292, dtype=torch.float64, grad_fn=<MeanBackward0>)}\n",
            "Loss:  {tensor(0.0289, dtype=torch.float64, grad_fn=<MeanBackward0>)}\n"
          ]
        }
      ]
    },
    {
      "cell_type": "code",
      "source": [
        "model_0.state_dict()"
      ],
      "metadata": {
        "id": "OspPGYq-V1Zq",
        "outputId": "bcababd0-e745-42bc-f20e-0a6ffd84121e",
        "colab": {
          "base_uri": "https://localhost:8080/"
        }
      },
      "execution_count": 66,
      "outputs": [
        {
          "output_type": "execute_result",
          "data": {
            "text/plain": [
              "OrderedDict([('weights', tensor([0.3406], dtype=torch.float64)),\n",
              "             ('bias', tensor([0.1388], dtype=torch.float64))])"
            ]
          },
          "metadata": {},
          "execution_count": 66
        }
      ]
    },
    {
      "cell_type": "code",
      "source": [
        "\"true values:\", weight, bias"
      ],
      "metadata": {
        "id": "MTl3HG38WrkB",
        "outputId": "cbf96b18-47d9-4bba-e3e9-d0e9bd486a31",
        "colab": {
          "base_uri": "https://localhost:8080/"
        }
      },
      "execution_count": 67,
      "outputs": [
        {
          "output_type": "execute_result",
          "data": {
            "text/plain": [
              "('true values:', 0.8, 0.3)"
            ]
          },
          "metadata": {},
          "execution_count": 67
        }
      ]
    },
    {
      "cell_type": "code",
      "source": [
        "model_0.state_dict()"
      ],
      "metadata": {
        "id": "Ahb4HWKhXnpc",
        "outputId": "e5b1c1ad-6b1d-4211-a4e3-db28669e07ab",
        "colab": {
          "base_uri": "https://localhost:8080/"
        }
      },
      "execution_count": 70,
      "outputs": [
        {
          "output_type": "execute_result",
          "data": {
            "text/plain": [
              "OrderedDict([('weights', tensor([0.3445], dtype=torch.float64)),\n",
              "             ('bias', tensor([0.1488], dtype=torch.float64))])"
            ]
          },
          "metadata": {},
          "execution_count": 70
        }
      ]
    },
    {
      "cell_type": "code",
      "source": [
        "model_0.state_dict()"
      ],
      "metadata": {
        "id": "zqDT0RI0YXPl",
        "outputId": "3f14b3ca-95d8-495b-8abe-fa26df6c2df5",
        "colab": {
          "base_uri": "https://localhost:8080/"
        }
      },
      "execution_count": 75,
      "outputs": [
        {
          "output_type": "execute_result",
          "data": {
            "text/plain": [
              "OrderedDict([('weights', tensor([0.3523], dtype=torch.float64)),\n",
              "             ('bias', tensor([0.1688], dtype=torch.float64))])"
            ]
          },
          "metadata": {},
          "execution_count": 75
        }
      ]
    },
    {
      "cell_type": "code",
      "source": [
        "model_0.state_dict()"
      ],
      "metadata": {
        "id": "VSUkprd9ZBiS",
        "outputId": "b0a7cfcc-e815-455b-a35b-7733643542e4",
        "colab": {
          "base_uri": "https://localhost:8080/"
        }
      },
      "execution_count": 89,
      "outputs": [
        {
          "output_type": "execute_result",
          "data": {
            "text/plain": [
              "OrderedDict([('weights', tensor([0.4030], dtype=torch.float64)),\n",
              "             ('bias', tensor([0.2988], dtype=torch.float64))])"
            ]
          },
          "metadata": {},
          "execution_count": 89
        }
      ]
    },
    {
      "cell_type": "code",
      "source": [
        "model_0.state_dict()"
      ],
      "metadata": {
        "id": "yTFN7lKcZNtK",
        "outputId": "e0660100-6d9f-4ab8-eb5f-2294f63391a0",
        "colab": {
          "base_uri": "https://localhost:8080/"
        }
      },
      "execution_count": 114,
      "outputs": [
        {
          "output_type": "execute_result",
          "data": {
            "text/plain": [
              "OrderedDict([('weights', tensor([0.4786], dtype=torch.float64)),\n",
              "             ('bias', tensor([0.4098], dtype=torch.float64))])"
            ]
          },
          "metadata": {},
          "execution_count": 114
        }
      ]
    },
    {
      "cell_type": "code",
      "source": [
        "with torch.inference_mode():\n",
        "  y_predict_new = model_0(X_test)"
      ],
      "metadata": {
        "id": "LTqicHcX9Vcq"
      },
      "execution_count": 121,
      "outputs": []
    },
    {
      "cell_type": "code",
      "source": [
        "plot_predictions(prediction=y_predict_new)"
      ],
      "metadata": {
        "id": "pVo9Gi8YV5e4",
        "outputId": "ccc1622f-f80e-4a5e-a7ca-c015deba1d69",
        "colab": {
          "base_uri": "https://localhost:8080/",
          "height": 599
        }
      },
      "execution_count": 122,
      "outputs": [
        {
          "output_type": "display_data",
          "data": {
            "text/plain": [
              "<Figure size 1000x700 with 1 Axes>"
            ],
            "image/png": "[encoded data removed]"
          },
          "metadata": {}
        }
      ]
    },
    {
      "cell_type": "code",
      "source": [
        "\n"
      ],
      "metadata": {
        "id": "y5f-XHorXW5N"
      },
      "execution_count": null,
      "outputs": []
    }
  ],
  "metadata": {
    "colab": {
      "provenance": [],
      "authorship_tag": "ABX9TyPMVjsQA2AhYndMoKc3heTo",
      "include_colab_link": true
    },
    "kernelspec": {
      "display_name": "Python 3",
      "name": "python3"
    },
    "language_info": {
      "name": "python"
    }
  },
  "nbformat": 4,
  "nbformat_minor": 0
}