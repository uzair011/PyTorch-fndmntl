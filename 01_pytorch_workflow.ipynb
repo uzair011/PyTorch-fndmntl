{
  "nbformat": 4,
  "nbformat_minor": 0,
  "metadata": {
    "colab": {
      "provenance": [],
      "authorship_tag": "ABX9TyPXGLy8PbPvaIDqGewcR6bs",
      "include_colab_link": true
    },
    "kernelspec": {
      "name": "python3",
      "display_name": "Python 3"
    },
    "language_info": {
      "name": "python"
    }
  },
  "cells": [
    {
      "cell_type": "markdown",
      "metadata": {
        "id": "view-in-github",
        "colab_type": "text"
      },
      "source": [
        "<a href=\"https://colab.research.google.com/github/uzair011/PyTorch-fndmntl/blob/main/01_pytorch_workflow.ipynb\" target=\"_parent\"><img src=\"https://colab.research.google.com/assets/colab-badge.svg\" alt=\"Open In Colab\"/></a>"
      ]
    },
    {
      "cell_type": "code",
      "execution_count": 1,
      "metadata": {
        "colab": {
          "base_uri": "https://localhost:8080/"
        },
        "id": "0MWoTqPsMuTy",
        "outputId": "b1e97b86-22dc-4d08-89dc-6b25ab324c72"
      },
      "outputs": [
        {
          "output_type": "execute_result",
          "data": {
            "text/plain": [
              "{1: 'Data (prepare and load).',\n",
              " 2: 'Build model.',\n",
              " 3: 'Fitting the model to data (training).',\n",
              " 4: 'Making predictions and evaluating the model (inference).',\n",
              " 5: 'Saving and loading the model.',\n",
              " 6: 'Putting it all together.'}"
            ]
          },
          "metadata": {},
          "execution_count": 1
        }
      ],
      "source": [
        "what_we_are_covering = {\n",
        "    1: \"Data (prepare and load).\",\n",
        "    2: \"Build model.\",\n",
        "    3: \"Fitting the model to data (training).\",\n",
        "    4: \"Making predictions and evaluating the model (inference).\",\n",
        "    5: \"Saving and loading the model.\",\n",
        "    6: \"Putting it all together.\"\n",
        "}\n",
        "what_we_are_covering"
      ]
    },
    {
      "cell_type": "code",
      "source": [
        "import torch\n",
        "from torch import nn # nn contains all of the building blocks for neural networks.\n",
        "import matplotlib.pyplot as plt\n",
        "\n",
        "# check pytorch version\n",
        "torch.__version__"
      ],
      "metadata": {
        "colab": {
          "base_uri": "https://localhost:8080/",
          "height": 35
        },
        "id": "l1W8VO3XO2Ts",
        "outputId": "4d5a6d1e-0fbc-4bd4-c18c-47db60f967af"
      },
      "execution_count": 2,
      "outputs": [
        {
          "output_type": "execute_result",
          "data": {
            "text/plain": [
              "'2.0.1+cu118'"
            ],
            "application/vnd.google.colaboratory.intrinsic+json": {
              "type": "string"
            }
          },
          "metadata": {},
          "execution_count": 2
        }
      ]
    },
    {
      "cell_type": "markdown",
      "source": [
        "## Data (Preparing and Loading)\n",
        "\n",
        "* In maching learning data can be almost anything...\n",
        "  1. Execl spread sheet\n",
        "  2. Images\n",
        "  3. Videos\n",
        "  4. Texts\n",
        "  5. Audio files\n",
        "  5. DNA...\n",
        "\n",
        "   Main Concepts in ML\n",
        "   1. Get data in to numerical representation.\n",
        "   2. Build a model to learn patterns in the model.\n",
        "\n",
        "\n",
        "   * To showcase this, lets create some *KNOWN* data using linear regression formula.\n",
        "   * Here we'll use a linear regression formula to create straight line with known *parameters*.\n",
        "\n"
      ],
      "metadata": {
        "id": "V6rcaoBtPaaf"
      }
    },
    {
      "cell_type": "code",
      "source": [
        "# create *known* parameters\n",
        "weight = 0.8\n",
        "bias = 0.3\n",
        "\n",
        "# create\n",
        "start = 0\n",
        "end = 1\n",
        "step = 0.02\n",
        "X = torch.arange(start, end, step).unsqueeze(dim=1)\n",
        "y = weight * X + bias\n",
        "\n",
        "print(X[:10])\n",
        "print(\"\")\n",
        "print(y[:10])"
      ],
      "metadata": {
        "colab": {
          "base_uri": "https://localhost:8080/"
        },
        "id": "Cze1EyoQPqMG",
        "outputId": "eadbc638-0e91-4bb7-9e97-b1564c8c6b45"
      },
      "execution_count": 3,
      "outputs": [
        {
          "output_type": "stream",
          "name": "stdout",
          "text": [
            "tensor([[0.0000],\n",
            "        [0.0200],\n",
            "        [0.0400],\n",
            "        [0.0600],\n",
            "        [0.0800],\n",
            "        [0.1000],\n",
            "        [0.1200],\n",
            "        [0.1400],\n",
            "        [0.1600],\n",
            "        [0.1800]])\n",
            "\n",
            "tensor([[0.3000],\n",
            "        [0.3160],\n",
            "        [0.3320],\n",
            "        [0.3480],\n",
            "        [0.3640],\n",
            "        [0.3800],\n",
            "        [0.3960],\n",
            "        [0.4120],\n",
            "        [0.4280],\n",
            "        [0.4440]])\n"
          ]
        }
      ]
    },
    {
      "cell_type": "code",
      "source": [
        "len(X), len(y)"
      ],
      "metadata": {
        "colab": {
          "base_uri": "https://localhost:8080/"
        },
        "id": "nSbNvvNqXC32",
        "outputId": "6cd96009-a238-4ab6-85ec-235c499b9721"
      },
      "execution_count": 4,
      "outputs": [
        {
          "output_type": "execute_result",
          "data": {
            "text/plain": [
              "(50, 50)"
            ]
          },
          "metadata": {},
          "execution_count": 4
        }
      ]
    },
    {
      "cell_type": "markdown",
      "source": [
        "## Splitting data into training and testing sets (one of the core concepts in ML, DL)\n",
        "\n"
      ],
      "metadata": {
        "id": "wRaJyhRYXH2_"
      }
    },
    {
      "cell_type": "code",
      "source": [
        "# creating a training and test set with our data\n",
        "\n",
        "train_split = int(0.8 * len(X))\n",
        "x_train, y_train = X[:train_split], y[:train_split]\n",
        "x_test, y_test = X[train_split:], y[train_split:]\n",
        "len(x_train), len(x_test), len(y_train), len(y_test)"
      ],
      "metadata": {
        "colab": {
          "base_uri": "https://localhost:8080/"
        },
        "id": "LKrklrPXaPn0",
        "outputId": "61dbe507-516b-46a8-fff0-7f68b2270e55"
      },
      "execution_count": 5,
      "outputs": [
        {
          "output_type": "execute_result",
          "data": {
            "text/plain": [
              "(40, 10, 40, 10)"
            ]
          },
          "metadata": {},
          "execution_count": 5
        }
      ]
    },
    {
      "cell_type": "markdown",
      "source": [
        "Visualizing the data.\n",
        "explorer's moto :  \"Visualize, visualize, visualize.....\""
      ],
      "metadata": {
        "id": "QnKoBbE5dRQV"
      }
    },
    {
      "cell_type": "code",
      "source": [
        "def plot_predictions(train_data=x_train,\n",
        "                     train_labels=y_train,\n",
        "                     test_data=x_test,\n",
        "                     test_labels=y_test,\n",
        "                     prediction=None):\n",
        "  \"\"\"Plots trainning data, testing data and compares predictions...\"\"\"\n",
        "\n",
        "  plt.figure(figsize=(10, 7))\n",
        "\n",
        "  #plot training data into blue\n",
        "  plt.scatter(train_data, train_labels, c=\"blue\", s=4, label=\"training dataset\")\n",
        "  #plot testing data into yellow\n",
        "  plt.scatter(test_data, test_labels, c=\"yellow\", s=4, label=\"testing dataset\")\n",
        "\n",
        "  # are there any predictions?\n",
        "  if prediction is not None:\n",
        "    #plot the predictions if they exist\n",
        "    plt.scatter(test_data, prediction, c=\"red\", s=4, label=\"predictions\")\n",
        "\n",
        "  # show the legend\n",
        "  plt.legend(prop={\"size\": 14})"
      ],
      "metadata": {
        "id": "UdhPbxHSeS0_"
      },
      "execution_count": 22,
      "outputs": []
    },
    {
      "cell_type": "code",
      "source": [
        "plot_predictions()"
      ],
      "metadata": {
        "colab": {
          "base_uri": "https://localhost:8080/",
          "height": 599
        },
        "id": "GDcFNBefkfsv",
        "outputId": "e39e5a8c-f67a-43ee-a18f-75727967594b"
      },
      "execution_count": 7,
      "outputs": [
        {
          "output_type": "display_data",
          "data": {
            "text/plain": [
              "<Figure size 1000x700 with 1 Axes>"
            ],
            "image/png": "[encoded data removed]"
          },
          "metadata": {}
        }
      ]
    },
    {
      "cell_type": "markdown",
      "source": [
        "## Build a PyTorch Model\n",
        "\n",
        "- what our model does...\n",
        "  1. Start with random values (weight, bias)\n",
        "  2. Look at the training data and try to better represent (or get closer to ) the ideal values ( The weight and bias we used to create the initial data)...\n",
        "\n",
        "- How does it do so?\n",
        "1. Radient descent\n",
        "2. Back propergation"
      ],
      "metadata": {
        "id": "z2Cabs5wkngp"
      }
    },
    {
      "cell_type": "code",
      "source": [
        "from torch import nn\n",
        "\n",
        "class LinearRegressionModel(nn.Module):\n",
        "  def __init__(self):\n",
        "    super().__init__()\n",
        "    self.weight = nn.Parameter(torch.randn(1,\n",
        "                                           dtype = torch.float),\n",
        "                                           requires_grad=True)\n",
        "    self.bias = nn.Parameter(torch.randn(1,\n",
        "                                         dtype = torch.float),\n",
        "                                         requires_grad=True)\n",
        "\n",
        "    # Forward method to define the computation in the method.\n",
        "  def forward(self, x: torch.Tensor) -> torch.Tensor:    # X is input data - training data.\n",
        "    return self.weight * x + self.bias     # linear reqression formula.\n"
      ],
      "metadata": {
        "id": "Uqe-lsrckrqR"
      },
      "execution_count": 16,
      "outputs": []
    },
    {
      "cell_type": "markdown",
      "source": [
        "## PyTorch model building essentials...\n",
        "\n",
        "* `torch.nn` - Contains all of the buildings for computational graphs (a neural network can be considerd as computational graph.)\n",
        "* `torch.nn.Parameter` - What parameters our model try and learn, often a pytorch layer from ``torch.nn`` will set these for us.\n",
        "* `torch.nn.Module` - The base class for all neural networks. if you subclass it, then you should overwrite with def forward()\n",
        "* `torch.optim` - This is were optimizers in pytorch live, they will help with gradient descent.\n",
        "* `def forward()` - All `nn.module` subclasses require you to overwrite forward(), this method defines what happens in the forward computation."
      ],
      "metadata": {
        "id": "7P5YrulBuApw"
      }
    },
    {
      "cell_type": "markdown",
      "source": [],
      "metadata": {
        "id": "xgBh_x5ZxluC"
      }
    },
    {
      "cell_type": "markdown",
      "source": [
        "### checking the contents of our pytorch model\n",
        "\n",
        "wer can check our model parameters or what's inside by using `.parameters()`"
      ],
      "metadata": {
        "id": "28jxplG1t_pc"
      }
    },
    {
      "cell_type": "code",
      "source": [
        "# Create a random seed\n",
        "torch.manual_seed(42)\n",
        "\n",
        "# Creat an instance of the model (this is a subclass of nn.model)\n",
        "model_0 = LinearRegressionModel()\n",
        "\n",
        "# Check out the parameters of the model\n",
        "list(model_0.parameters())"
      ],
      "metadata": {
        "colab": {
          "base_uri": "https://localhost:8080/"
        },
        "id": "CwSW3CYL050f",
        "outputId": "738ecab5-52bf-439e-a85e-602eb1e59e3f"
      },
      "execution_count": 17,
      "outputs": [
        {
          "output_type": "execute_result",
          "data": {
            "text/plain": [
              "[Parameter containing:\n",
              " tensor([0.3367], requires_grad=True),\n",
              " Parameter containing:\n",
              " tensor([0.1288], requires_grad=True)]"
            ]
          },
          "metadata": {},
          "execution_count": 17
        }
      ]
    },
    {
      "cell_type": "code",
      "source": [
        "model_0.state_dict()"
      ],
      "metadata": {
        "colab": {
          "base_uri": "https://localhost:8080/"
        },
        "id": "Th9wDIBkMUr3",
        "outputId": "02681892-c37f-4536-a2bf-531c01a46ef1"
      },
      "execution_count": 10,
      "outputs": [
        {
          "output_type": "execute_result",
          "data": {
            "text/plain": [
              "OrderedDict([('weight', tensor([1.6315])), ('bias', tensor([-3.1794]))])"
            ]
          },
          "metadata": {},
          "execution_count": 10
        }
      ]
    },
    {
      "cell_type": "code",
      "source": [
        "weight, bias"
      ],
      "metadata": {
        "colab": {
          "base_uri": "https://localhost:8080/"
        },
        "id": "RLYffi_ZNXCu",
        "outputId": "c26c11ce-fbeb-4d35-8557-82dce8b22910"
      },
      "execution_count": 11,
      "outputs": [
        {
          "output_type": "execute_result",
          "data": {
            "text/plain": [
              "(0.8, 0.3)"
            ]
          },
          "metadata": {},
          "execution_count": 11
        }
      ]
    },
    {
      "cell_type": "markdown",
      "source": [
        "### Making predictions with `torch.inference_mode()`\n",
        "\n",
        "To check our model's predictive power, lets check how it predicts `y_test` based on `x_test`.\n",
        "\n",
        "When we pass data through our model, it's going to run it through the `forward()` method."
      ],
      "metadata": {
        "id": "2vuLBoE6NY7F"
      }
    },
    {
      "cell_type": "code",
      "source": [
        "x_test, y_test"
      ],
      "metadata": {
        "colab": {
          "base_uri": "https://localhost:8080/"
        },
        "id": "InXLH7FRQM7C",
        "outputId": "70cc20a7-a74c-4445-873a-818ee486c7e6"
      },
      "execution_count": 18,
      "outputs": [
        {
          "output_type": "execute_result",
          "data": {
            "text/plain": [
              "(tensor([[0.8000],\n",
              "         [0.8200],\n",
              "         [0.8400],\n",
              "         [0.8600],\n",
              "         [0.8800],\n",
              "         [0.9000],\n",
              "         [0.9200],\n",
              "         [0.9400],\n",
              "         [0.9600],\n",
              "         [0.9800]]),\n",
              " tensor([[0.9400],\n",
              "         [0.9560],\n",
              "         [0.9720],\n",
              "         [0.9880],\n",
              "         [1.0040],\n",
              "         [1.0200],\n",
              "         [1.0360],\n",
              "         [1.0520],\n",
              "         [1.0680],\n",
              "         [1.0840]]))"
            ]
          },
          "metadata": {},
          "execution_count": 18
        }
      ]
    },
    {
      "cell_type": "code",
      "source": [
        "# Make predictions with our model\n",
        "with torch.inference_mode():\n",
        "  y_predict = model_0(x_test)\n",
        "\n",
        "y_predict"
      ],
      "metadata": {
        "colab": {
          "base_uri": "https://localhost:8080/"
        },
        "id": "jX55lgRYPLPu",
        "outputId": "342d9bc0-c91b-4afe-e767-ca723435174a"
      },
      "execution_count": 19,
      "outputs": [
        {
          "output_type": "execute_result",
          "data": {
            "text/plain": [
              "tensor([[0.3982],\n",
              "        [0.4049],\n",
              "        [0.4116],\n",
              "        [0.4184],\n",
              "        [0.4251],\n",
              "        [0.4318],\n",
              "        [0.4386],\n",
              "        [0.4453],\n",
              "        [0.4520],\n",
              "        [0.4588]])"
            ]
          },
          "metadata": {},
          "execution_count": 19
        }
      ]
    },
    {
      "cell_type": "code",
      "source": [
        "y_test"
      ],
      "metadata": {
        "colab": {
          "base_uri": "https://localhost:8080/"
        },
        "id": "4YQFSclQTGXw",
        "outputId": "6012a821-6b72-49de-cef5-c1f66f566b01"
      },
      "execution_count": 20,
      "outputs": [
        {
          "output_type": "execute_result",
          "data": {
            "text/plain": [
              "tensor([[0.9400],\n",
              "        [0.9560],\n",
              "        [0.9720],\n",
              "        [0.9880],\n",
              "        [1.0040],\n",
              "        [1.0200],\n",
              "        [1.0360],\n",
              "        [1.0520],\n",
              "        [1.0680],\n",
              "        [1.0840]])"
            ]
          },
          "metadata": {},
          "execution_count": 20
        }
      ]
    },
    {
      "cell_type": "code",
      "source": [
        "plot_predictions(prediction=y_predict)"
      ],
      "metadata": {
        "colab": {
          "base_uri": "https://localhost:8080/",
          "height": 599
        },
        "id": "WR9UW92VTRGj",
        "outputId": "ed371588-5e62-4d92-e5a7-61f8fb456cb8"
      },
      "execution_count": 23,
      "outputs": [
        {
          "output_type": "display_data",
          "data": {
            "text/plain": [
              "<Figure size 1000x700 with 1 Axes>"
            ],
            "image/png": "[encoded data removed]"
          },
          "metadata": {}
        }
      ]
    },
    {
      "cell_type": "markdown",
      "source": [
        "### Train our model\n",
        "\n",
        "The idea of training is for a model is to move from some *unknown* parameters (this may be random) to some *known* parameters...\n",
        "\n",
        "OR in other words, poor representation of the data to better representation of data.\n",
        "\n",
        "One way to messure how poor/ wrong our models are to use loss functions.\n",
        "\n",
        "* NOTE: the loss function is also called as cost function or criterion function in different areas.\n",
        "\n",
        "Things we need to train.\n",
        "* **Loss function:** A function to messure how wrong our model's predictions are to ideal outputs, lower is better.\n",
        "* **Optimizer:** Takes into account the loss of a model and adjust the model's parameters(eg: weitht, bias in our case) to improve the loss function.\n",
        "\n",
        "And specifically for PyTorch we need:\n",
        "* A training loop\n",
        "* A testing loop"
      ],
      "metadata": {
        "id": "FBIcX2T5gGFF"
      }
    },
    {
      "cell_type": "code",
      "source": [
        "list(model_0.parameters())"
      ],
      "metadata": {
        "id": "20x2YU2xg3A1",
        "outputId": "b78fbbec-c06f-4138-e76c-ad5841e6a9b2",
        "colab": {
          "base_uri": "https://localhost:8080/"
        }
      },
      "execution_count": 26,
      "outputs": [
        {
          "output_type": "execute_result",
          "data": {
            "text/plain": [
              "[Parameter containing:\n",
              " tensor([0.3367], requires_grad=True),\n",
              " Parameter containing:\n",
              " tensor([0.1288], requires_grad=True)]"
            ]
          },
          "metadata": {},
          "execution_count": 26
        }
      ]
    },
    {
      "cell_type": "code",
      "source": [
        "model_0.state_dict()"
      ],
      "metadata": {
        "id": "C6fO-HVnjI2d",
        "outputId": "6c127d5a-cec4-4e00-a885-7830abbe36ee",
        "colab": {
          "base_uri": "https://localhost:8080/"
        }
      },
      "execution_count": 27,
      "outputs": [
        {
          "output_type": "execute_result",
          "data": {
            "text/plain": [
              "OrderedDict([('weight', tensor([0.3367])), ('bias', tensor([0.1288]))])"
            ]
          },
          "metadata": {},
          "execution_count": 27
        }
      ]
    },
    {
      "cell_type": "code",
      "source": [],
      "metadata": {
        "id": "0AWP-c84jY7E"
      },
      "execution_count": null,
      "outputs": []
    }
  ]
}