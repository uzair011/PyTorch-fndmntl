{
  "cells": [
    {
      "cell_type": "markdown",
      "metadata": {
        "id": "view-in-github",
        "colab_type": "text"
      },
      "source": [
        "<a href=\"https://colab.research.google.com/github/uzair011/PyTorch-fndmntl/blob/main/01_pytorch_workflow.ipynb\" target=\"_parent\"><img src=\"https://colab.research.google.com/assets/colab-badge.svg\" alt=\"Open In Colab\"/></a>"
      ]
    },
    {
      "cell_type": "code",
      "execution_count": 2,
      "metadata": {
        "colab": {
          "base_uri": "https://localhost:8080/"
        },
        "id": "0MWoTqPsMuTy",
        "outputId": "e4d8e37b-973a-46ea-979d-6281ebc1b0c3"
      },
      "outputs": [
        {
          "output_type": "execute_result",
          "data": {
            "text/plain": [
              "{1: 'Data (prepare and load).',\n",
              " 2: 'Build model.',\n",
              " 3: 'Fitting the model to data (training).',\n",
              " 4: 'Making predictions and evaluating the model (inference).',\n",
              " 5: 'Saving and loading the model.',\n",
              " 6: 'Putting it all together.'}"
            ]
          },
          "metadata": {},
          "execution_count": 2
        }
      ],
      "source": [
        "what_we_are_covering = {\n",
        "    1: \"Data (prepare and load).\",\n",
        "    2: \"Build model.\",\n",
        "    3: \"Fitting the model to data (training).\",\n",
        "    4: \"Making predictions and evaluating the model (inference).\",\n",
        "    5: \"Saving and loading the model.\",\n",
        "    6: \"Putting it all together.\"\n",
        "}\n",
        "what_we_are_covering"
      ]
    },
    {
      "cell_type": "code",
      "execution_count": 3,
      "metadata": {
        "colab": {
          "base_uri": "https://localhost:8080/",
          "height": 35
        },
        "id": "l1W8VO3XO2Ts",
        "outputId": "e4635f1a-c828-45c7-bd88-0f9eadca560b"
      },
      "outputs": [
        {
          "output_type": "execute_result",
          "data": {
            "text/plain": [
              "'2.0.1+cu118'"
            ],
            "application/vnd.google.colaboratory.intrinsic+json": {
              "type": "string"
            }
          },
          "metadata": {},
          "execution_count": 3
        }
      ],
      "source": [
        "import torch\n",
        "from torch import nn # nn contains all of the building blocks for neural networks.\n",
        "import matplotlib.pyplot as plt\n",
        "import numpy as np\n",
        "\n",
        "# check pytorch version\n",
        "torch.__version__"
      ]
    },
    {
      "cell_type": "markdown",
      "metadata": {
        "id": "V6rcaoBtPaaf"
      },
      "source": [
        "## Data (Preparing and Loading)\n",
        "\n",
        "* In maching learning data can be almost anything...\n",
        "  1. Execl spread sheet\n",
        "  2. Images\n",
        "  3. Videos\n",
        "  4. Texts\n",
        "  5. Audio files\n",
        "  5. DNA...\n",
        "\n",
        "   Main Concepts in ML\n",
        "   1. Get data in to numerical representation.\n",
        "   2. Build a model to learn patterns in the model.\n",
        "\n",
        "\n",
        "   * To showcase this, lets create some *KNOWN* data using linear regression formula.\n",
        "   * Here we'll use a linear regression formula to create straight line with known *parameters*.\n",
        "\n"
      ]
    },
    {
      "cell_type": "code",
      "execution_count": 4,
      "metadata": {
        "colab": {
          "base_uri": "https://localhost:8080/"
        },
        "id": "Cze1EyoQPqMG",
        "outputId": "737e3fe2-8f7d-41c0-f540-2a134cd59771"
      },
      "outputs": [
        {
          "output_type": "stream",
          "name": "stdout",
          "text": [
            "tensor([[0.0000],\n",
            "        [0.0200],\n",
            "        [0.0400],\n",
            "        [0.0600],\n",
            "        [0.0800],\n",
            "        [0.1000],\n",
            "        [0.1200],\n",
            "        [0.1400],\n",
            "        [0.1600],\n",
            "        [0.1800]])\n",
            "\n",
            "tensor([[0.3000],\n",
            "        [0.3160],\n",
            "        [0.3320],\n",
            "        [0.3480],\n",
            "        [0.3640],\n",
            "        [0.3800],\n",
            "        [0.3960],\n",
            "        [0.4120],\n",
            "        [0.4280],\n",
            "        [0.4440]])\n"
          ]
        }
      ],
      "source": [
        "# create *known* parameters\n",
        "weight = 0.8\n",
        "bias = 0.3\n",
        "\n",
        "# create\n",
        "start = 0\n",
        "end = 1\n",
        "step = 0.02\n",
        "X = torch.arange(start, end, step).unsqueeze(dim=1)\n",
        "y = weight * X + bias\n",
        "\n",
        "print(X[:10])\n",
        "print(\"\")\n",
        "print(y[:10])"
      ]
    },
    {
      "cell_type": "code",
      "execution_count": 5,
      "metadata": {
        "colab": {
          "base_uri": "https://localhost:8080/"
        },
        "id": "nSbNvvNqXC32",
        "outputId": "3daa4348-46bd-43ba-9412-b9d644411d84"
      },
      "outputs": [
        {
          "output_type": "execute_result",
          "data": {
            "text/plain": [
              "(50, 50)"
            ]
          },
          "metadata": {},
          "execution_count": 5
        }
      ],
      "source": [
        "len(X), len(y)"
      ]
    },
    {
      "cell_type": "markdown",
      "metadata": {
        "id": "wRaJyhRYXH2_"
      },
      "source": [
        "## Splitting data into training and testing sets (one of the core concepts in ML, DL)\n",
        "\n"
      ]
    },
    {
      "cell_type": "code",
      "execution_count": 6,
      "metadata": {
        "colab": {
          "base_uri": "https://localhost:8080/"
        },
        "id": "LKrklrPXaPn0",
        "outputId": "76f3997b-8910-4843-a841-f9e153e9c2bb"
      },
      "outputs": [
        {
          "output_type": "execute_result",
          "data": {
            "text/plain": [
              "(40, 10, 40, 10)"
            ]
          },
          "metadata": {},
          "execution_count": 6
        }
      ],
      "source": [
        "# creating a training and test set with our data\n",
        "\n",
        "train_split = int(0.8 * len(X))\n",
        "X_train, y_train = X[:train_split], y[:train_split]\n",
        "X_test, y_test = X[train_split:], y[train_split:]\n",
        "len(X_train), len(X_test), len(y_train), len(y_test)"
      ]
    },
    {
      "cell_type": "markdown",
      "metadata": {
        "id": "QnKoBbE5dRQV"
      },
      "source": [
        "Visualizing the data.\n",
        "explorer's moto :  \"Visualize, visualize, visualize.....\""
      ]
    },
    {
      "cell_type": "code",
      "execution_count": 7,
      "metadata": {
        "id": "UdhPbxHSeS0_"
      },
      "outputs": [],
      "source": [
        "def plot_predictions(train_data=X_train,\n",
        "                     train_labels=y_train,\n",
        "                     test_data=X_test,\n",
        "                     test_labels=y_test,\n",
        "                     prediction=None):\n",
        "  \"\"\"Plots trainning data, testing data and compares predictions...\"\"\"\n",
        "\n",
        "  plt.figure(figsize=(10, 7))\n",
        "\n",
        "  #plot training data into blue\n",
        "  plt.scatter(train_data, train_labels, c=\"blue\", s=4, label=\"training dataset\")\n",
        "  #plot testing data into yellow\n",
        "  plt.scatter(test_data, test_labels, c=\"purple\", s=4, label=\"testing dataset\")\n",
        "\n",
        "  # are there any predictions?\n",
        "  if prediction is not None:\n",
        "    #plot the predictions if they exist\n",
        "    plt.scatter(test_data, prediction, c=\"red\", s=4, label=\"predictions\")\n",
        "\n",
        "  # show the legend\n",
        "  plt.legend(prop={\"size\": 14})"
      ]
    },
    {
      "cell_type": "code",
      "execution_count": 8,
      "metadata": {
        "colab": {
          "base_uri": "https://localhost:8080/",
          "height": 599
        },
        "id": "GDcFNBefkfsv",
        "outputId": "b6e4218f-958a-4198-ffb9-e5539f656df0"
      },
      "outputs": [
        {
          "output_type": "display_data",
          "data": {
            "text/plain": [
              "<Figure size 1000x700 with 1 Axes>"
            ],
            "image/png": "[encoded data removed]"
          },
          "metadata": {}
        }
      ],
      "source": [
        "plot_predictions()"
      ]
    },
    {
      "cell_type": "markdown",
      "metadata": {
        "id": "z2Cabs5wkngp"
      },
      "source": [
        "## Build a PyTorch Model\n",
        "\n",
        "- what our model does...\n",
        "  1. Start with random values (weight, bias)\n",
        "  2. Look at the training data and try to better represent (or get closer to ) the ideal values ( The weight and bias we used to create the initial data)...\n",
        "\n",
        "- How does it do so?\n",
        "1. Radient descent\n",
        "2. Back propergation"
      ]
    },
    {
      "cell_type": "code",
      "execution_count": 9,
      "metadata": {
        "id": "Uqe-lsrckrqR"
      },
      "outputs": [],
      "source": [
        "from torch import nn\n",
        "\n",
        "class LinearRegressionModel(nn.Module):\n",
        "  def __init__(self):\n",
        "    super().__init__()\n",
        "    self.weights = nn.Parameter(torch.randn(1,\n",
        "                                           requires_grad=True,\n",
        "                                           dtype = float))\n",
        "    self.bias = nn.Parameter(torch.randn(1,\n",
        "                                         requires_grad=True,\n",
        "                                         dtype = float))\n",
        "\n",
        "    # Forward method to define the computation in the method.\n",
        "  def forward(self, x: torch.Tensor) -> torch.Tensor:    # X is input data - training data.\n",
        "      return self.weights * x + self.bias     # linear reqression formula.\n"
      ]
    },
    {
      "cell_type": "markdown",
      "metadata": {
        "id": "7P5YrulBuApw"
      },
      "source": [
        "## PyTorch model building essentials...\n",
        "\n",
        "* `torch.nn` - Contains all of the buildings for computational graphs (a neural network can be considerd as computational graph.)\n",
        "* `torch.nn.Parameter` - What parameters our model try and learn, often a pytorch layer from ``torch.nn`` will set these for us.\n",
        "* `torch.nn.Module` - The base class for all neural networks. if you subclass it, then you should overwrite with def forward()\n",
        "* `torch.optim` - This is were optimizers in pytorch live, they will help with gradient descent.\n",
        "* `def forward()` - All `nn.module` subclasses require you to overwrite forward(), this method defines what happens in the forward computation."
      ]
    },
    {
      "cell_type": "markdown",
      "metadata": {
        "id": "xgBh_x5ZxluC"
      },
      "source": []
    },
    {
      "cell_type": "markdown",
      "metadata": {
        "id": "28jxplG1t_pc"
      },
      "source": [
        "### checking the contents of our pytorch model\n",
        "\n",
        "wer can check our model parameters or what's inside by using `.parameters()`"
      ]
    },
    {
      "cell_type": "code",
      "execution_count": 10,
      "metadata": {
        "colab": {
          "base_uri": "https://localhost:8080/"
        },
        "id": "CwSW3CYL050f",
        "outputId": "0801eba1-b6c0-4410-cefe-28b849fa4632"
      },
      "outputs": [
        {
          "output_type": "execute_result",
          "data": {
            "text/plain": [
              "[Parameter containing:\n",
              " tensor([0.3367], dtype=torch.float64, requires_grad=True),\n",
              " Parameter containing:\n",
              " tensor([0.1288], dtype=torch.float64, requires_grad=True)]"
            ]
          },
          "metadata": {},
          "execution_count": 10
        }
      ],
      "source": [
        "# Create a random seed\n",
        "torch.manual_seed(42)\n",
        "\n",
        "# Creat an instance of the model (this is a subclass of nn.model)\n",
        "model_0 = LinearRegressionModel()\n",
        "\n",
        "# Check out the parameters of the model\n",
        "list(model_0.parameters())"
      ]
    },
    {
      "cell_type": "code",
      "execution_count": 11,
      "metadata": {
        "colab": {
          "base_uri": "https://localhost:8080/"
        },
        "id": "Th9wDIBkMUr3",
        "outputId": "25754094-beca-488e-84ab-5f4b3cba3e57"
      },
      "outputs": [
        {
          "output_type": "execute_result",
          "data": {
            "text/plain": [
              "OrderedDict([('weights', tensor([0.3367], dtype=torch.float64)),\n",
              "             ('bias', tensor([0.1288], dtype=torch.float64))])"
            ]
          },
          "metadata": {},
          "execution_count": 11
        }
      ],
      "source": [
        "model_0.state_dict()"
      ]
    },
    {
      "cell_type": "code",
      "execution_count": 12,
      "metadata": {
        "colab": {
          "base_uri": "https://localhost:8080/"
        },
        "id": "RLYffi_ZNXCu",
        "outputId": "3324d251-6cd6-4319-8eb4-7a03f467442e"
      },
      "outputs": [
        {
          "output_type": "execute_result",
          "data": {
            "text/plain": [
              "(0.8, 0.3)"
            ]
          },
          "metadata": {},
          "execution_count": 12
        }
      ],
      "source": [
        "weight, bias"
      ]
    },
    {
      "cell_type": "markdown",
      "metadata": {
        "id": "2vuLBoE6NY7F"
      },
      "source": [
        "### Making predictions with `torch.inference_mode()`\n",
        "\n",
        "To check our model's predictive power, lets check how it predicts `y_test` based on `x_test`.\n",
        "\n",
        "When we pass data through our model, it's going to run it through the `forward()` method."
      ]
    },
    {
      "cell_type": "code",
      "execution_count": 13,
      "metadata": {
        "id": "InXLH7FRQM7C",
        "colab": {
          "base_uri": "https://localhost:8080/"
        },
        "outputId": "0e177b81-3d4e-42f3-e4f7-61be94696e56"
      },
      "outputs": [
        {
          "output_type": "execute_result",
          "data": {
            "text/plain": [
              "(tensor([[0.8000],\n",
              "         [0.8200],\n",
              "         [0.8400],\n",
              "         [0.8600],\n",
              "         [0.8800],\n",
              "         [0.9000],\n",
              "         [0.9200],\n",
              "         [0.9400],\n",
              "         [0.9600],\n",
              "         [0.9800]]),\n",
              " tensor([[0.9400],\n",
              "         [0.9560],\n",
              "         [0.9720],\n",
              "         [0.9880],\n",
              "         [1.0040],\n",
              "         [1.0200],\n",
              "         [1.0360],\n",
              "         [1.0520],\n",
              "         [1.0680],\n",
              "         [1.0840]]))"
            ]
          },
          "metadata": {},
          "execution_count": 13
        }
      ],
      "source": [
        "X_test, y_test"
      ]
    },
    {
      "cell_type": "code",
      "execution_count": 14,
      "metadata": {
        "colab": {
          "base_uri": "https://localhost:8080/"
        },
        "id": "jX55lgRYPLPu",
        "outputId": "800deca2-bfbb-48bd-ba69-c43daea152a0"
      },
      "outputs": [
        {
          "output_type": "execute_result",
          "data": {
            "text/plain": [
              "tensor([[0.3982],\n",
              "        [0.4049],\n",
              "        [0.4116],\n",
              "        [0.4184],\n",
              "        [0.4251],\n",
              "        [0.4318],\n",
              "        [0.4386],\n",
              "        [0.4453],\n",
              "        [0.4520],\n",
              "        [0.4588]], dtype=torch.float64)"
            ]
          },
          "metadata": {},
          "execution_count": 14
        }
      ],
      "source": [
        "# Make predictions with our model\n",
        "\n",
        "with torch.inference_mode():\n",
        "  y_predict = model_0(X_test)\n",
        "\n",
        "y_predict\n",
        "\n",
        "\n",
        "\n",
        "# We can do similar with torch.no_grad(): BUT, torch.inference_mode() is preferrd...\n",
        "# with torch.no_grad():\n",
        "#   y_predict = model_0(X_test)\n",
        "\n",
        "# y_predict"
      ]
    },
    {
      "cell_type": "code",
      "source": [
        "y_test"
      ],
      "metadata": {
        "colab": {
          "base_uri": "https://localhost:8080/"
        },
        "id": "pbAAZF4_RI5j",
        "outputId": "64c3683d-4ed9-4582-e520-dd070f9fdcb7"
      },
      "execution_count": 15,
      "outputs": [
        {
          "output_type": "execute_result",
          "data": {
            "text/plain": [
              "tensor([[0.9400],\n",
              "        [0.9560],\n",
              "        [0.9720],\n",
              "        [0.9880],\n",
              "        [1.0040],\n",
              "        [1.0200],\n",
              "        [1.0360],\n",
              "        [1.0520],\n",
              "        [1.0680],\n",
              "        [1.0840]])"
            ]
          },
          "metadata": {},
          "execution_count": 15
        }
      ]
    },
    {
      "cell_type": "code",
      "source": [
        "plot_predictions(prediction=y_predict)"
      ],
      "metadata": {
        "colab": {
          "base_uri": "https://localhost:8080/",
          "height": 599
        },
        "id": "fkDJWuy1RRis",
        "outputId": "95561c56-b189-466b-975d-8aa231f54bd0"
      },
      "execution_count": 16,
      "outputs": [
        {
          "output_type": "display_data",
          "data": {
            "text/plain": [
              "<Figure size 1000x700 with 1 Axes>"
            ],
            "image/png": "[encoded data removed]"
          },
          "metadata": {}
        }
      ]
    },
    {
      "cell_type": "markdown",
      "source": [
        "# 3.\n",
        "Training our model\n",
        "\n",
        "- The idea of training is for a model to move from *UNKNOWN* parameters ( these maybe random ) to some *KNOWN* parameters OR in other words a poor representation to better representation of data.\n",
        "\n",
        "- One way to messure how poor our model or how wrong the predictions are\n",
        "to use a loss function.\n",
        "\n",
        "- NOTE: A loss function is also called cost function or criterion. But, here we reffer to it as loss function.\n",
        "\n",
        "-- Things we need to train --\n",
        "1. **Loss Function** - A function to messure how wrong our model's predictions to the ideal output, lower is better.\n",
        "2. **Optimizer** - Take into accout the loss of our model and adjusts the model's parameters (Eg: weight, bias in our case) to improve loss function.\n",
        "\n",
        "Specifically for pytorch we need,\n",
        "1. A training loop.\n",
        "2. A testing loop."
      ],
      "metadata": {
        "id": "XzvtSiGJPiMh"
      }
    },
    {
      "cell_type": "code",
      "source": [
        "list(model_0.parameters())"
      ],
      "metadata": {
        "colab": {
          "base_uri": "https://localhost:8080/"
        },
        "id": "QwmVO5k0UBw4",
        "outputId": "32923603-bc7d-47af-df6a-18680f37b7d7"
      },
      "execution_count": 17,
      "outputs": [
        {
          "output_type": "execute_result",
          "data": {
            "text/plain": [
              "[Parameter containing:\n",
              " tensor([0.3367], dtype=torch.float64, requires_grad=True),\n",
              " Parameter containing:\n",
              " tensor([0.1288], dtype=torch.float64, requires_grad=True)]"
            ]
          },
          "metadata": {},
          "execution_count": 17
        }
      ]
    },
    {
      "cell_type": "code",
      "source": [
        "model_0.state_dict()"
      ],
      "metadata": {
        "colab": {
          "base_uri": "https://localhost:8080/"
        },
        "id": "0rjRPE8ybYs5",
        "outputId": "0e92ef33-2fd7-4db5-df2b-2f0562e22543"
      },
      "execution_count": 18,
      "outputs": [
        {
          "output_type": "execute_result",
          "data": {
            "text/plain": [
              "OrderedDict([('weights', tensor([0.3367], dtype=torch.float64)),\n",
              "             ('bias', tensor([0.1288], dtype=torch.float64))])"
            ]
          },
          "metadata": {},
          "execution_count": 18
        }
      ]
    },
    {
      "cell_type": "code",
      "source": [
        "# Setup a loss function\n",
        "loss_function = nn.L1Loss()\n",
        "\n",
        "# Setup an optimizer (SGD - Stochastic Gradient Descent)\n",
        "optimizer = torch.optim.SGD(params = model_0.parameters(),\n",
        "                            lr=0.01) # lr - Learning Rate is an important hyper parameter that the engineer set."
      ],
      "metadata": {
        "id": "kXPhe9VfEv7r"
      },
      "execution_count": 19,
      "outputs": []
    },
    {
      "cell_type": "markdown",
      "source": [
        "### Building a training loop (and a testing loop) in Pytorch\n",
        "\n",
        "* Some things to consider in a training loop... AND DO...\n",
        "0. Loop through the data.\n",
        "1. Forward pass ( this involves the data move through the `forward` functions ) to make predictions on data - also called forward propergation.\n",
        "2. Calculate the loss ( Compare forward pass predictions to ground truth labels)\n",
        "3. Optimizer zero grad\n",
        "4. Loss Backward - move backwards through the network to calculate the gradients of each of the parameters of our model with respect to the loss(**Back Propergation**)\n",
        "5. Optimizer step - Use the optimizer to adjust our model's to try and improve the loss(**Gradient Descent**)"
      ],
      "metadata": {
        "id": "J68gLsDFKFjU"
      }
    },
    {
      "cell_type": "code",
      "source": [
        "torch.manual_seed(42)\n",
        "# 1 epoch is 1 loop through the data.\n",
        "epochs = 300\n",
        "\n",
        "# Track different values...\n",
        "epoch_count = []\n",
        "loss_values = []\n",
        "test_loss_values = []\n",
        "\n",
        "## Training\n",
        "\n",
        "# 0. Loop throuth the data.\n",
        "for epoch in range(epochs):\n",
        "  # Set the model to training data.\n",
        "  model_0.train() # Train mode in pytorch sets all the parameters that require gradients to require gradients.\n",
        "\n",
        "  # 1. Forward pass\n",
        "  y_prediction = model_0(X_train)\n",
        "\n",
        "  # 2. Calculate loss\n",
        "  loss = loss_function(y_prediction, y_train)\n",
        "  # print(f\"Loss: \", {loss})\n",
        "\n",
        "  # 3. Optimizer zero grad\n",
        "  optimizer.zero_grad()\n",
        "\n",
        "  # 4. Loss backward - perform backpropergation on the loss with respect to parameters of the model.\n",
        "  loss.backward()\n",
        "\n",
        "  # 5. Step the optimizer\n",
        "  optimizer.step()  # By default how the optimizer changes will accumulate through the loop... So, we have to zero them above in step 3 for the next iteration of the loop.\n",
        "\n",
        "\n",
        "### Testing\n",
        "  model_0.eval() # Turns off different settings in the model, not needed for evaluation/ testing ...\n",
        "  with torch.inference_mode():  # Turns off gradient tracking and couple more settins in the background.\n",
        "    # 1. Forward pass\n",
        "    y_test_prediction = model_0(X_test)\n",
        "\n",
        "    # 2. Calculate loss\n",
        "    test_loss = loss_function(y_test_prediction, y_test)\n",
        "\n",
        "    if epoch % 10 == 0:\n",
        "      epoch_count.append(epoch)\n",
        "      loss_values.append(loss)\n",
        "      test_loss_values.append(test_loss)\n",
        "\n",
        "      print(f\"epoch:  {epoch}, Loss:  {loss}, Test loss:  {test_loss}\")\n",
        "\n",
        "      print(model_0.state_dict())\n",
        "\n",
        "    # 3. Optimizer zero grad\n",
        "\n",
        "\n",
        "\n"
      ],
      "metadata": {
        "colab": {
          "base_uri": "https://localhost:8080/"
        },
        "id": "dV4DV3CqKJH7",
        "outputId": "2804e103-574e-43c8-b4ef-d5b2ed68d2d8"
      },
      "execution_count": 20,
      "outputs": [
        {
          "output_type": "stream",
          "name": "stdout",
          "text": [
            "epoch:  0, Loss:  0.3518813717983213, Test loss:  0.5700652125258867\n",
            "OrderedDict([('weights', tensor([0.3406], dtype=torch.float64)), ('bias', tensor([0.1388], dtype=torch.float64))])\n",
            "epoch:  10, Loss:  0.23667137243467518, Test loss:  0.43535521288004986\n",
            "OrderedDict([('weights', tensor([0.3796], dtype=torch.float64)), ('bias', tensor([0.2388], dtype=torch.float64))])\n",
            "epoch:  20, Loss:  0.12692675298761447, Test loss:  0.30523421323317745\n",
            "OrderedDict([('weights', tensor([0.4185], dtype=torch.float64)), ('bias', tensor([0.3343], dtype=torch.float64))])\n",
            "epoch:  30, Loss:  0.07922304198988508, Test loss:  0.21957531357751647\n",
            "OrderedDict([('weights', tensor([0.4535], dtype=torch.float64)), ('bias', tensor([0.3888], dtype=torch.float64))])\n",
            "epoch:  40, Loss:  0.06518129394887504, Test loss:  0.1730914138707073\n",
            "OrderedDict([('weights', tensor([0.4810], dtype=torch.float64)), ('bias', tensor([0.4108], dtype=torch.float64))])\n",
            "epoch:  50, Loss:  0.05982392859061762, Test loss:  0.14862711411211954\n",
            "OrderedDict([('weights', tensor([0.5029], dtype=torch.float64)), ('bias', tensor([0.4158], dtype=torch.float64))])\n",
            "epoch:  60, Loss:  0.05608700595549275, Test loss:  0.13489511436318152\n",
            "OrderedDict([('weights', tensor([0.5217], dtype=torch.float64)), ('bias', tensor([0.4128], dtype=torch.float64))])\n",
            "epoch:  70, Loss:  0.052597006133859606, Test loss:  0.12387511463248255\n",
            "OrderedDict([('weights', tensor([0.5397], dtype=torch.float64)), ('bias', tensor([0.4078], dtype=torch.float64))])\n",
            "epoch:  80, Loss:  0.049129351679459456, Test loss:  0.11422891489411854\n",
            "OrderedDict([('weights', tensor([0.5573], dtype=torch.float64)), ('bias', tensor([0.4018], dtype=torch.float64))])\n",
            "epoch:  90, Loss:  0.045693806477269484, Test loss:  0.10595651514808942\n",
            "OrderedDict([('weights', tensor([0.5744], dtype=torch.float64)), ('bias', tensor([0.3948], dtype=torch.float64))])\n",
            "epoch:  100, Loss:  0.04225586197427286, Test loss:  0.0983710153982277\n",
            "OrderedDict([('weights', tensor([0.5914], dtype=torch.float64)), ('bias', tensor([0.3873], dtype=torch.float64))])\n",
            "epoch:  110, Loss:  0.03882742212265221, Test loss:  0.09009861565219854\n",
            "OrderedDict([('weights', tensor([0.6085], dtype=torch.float64)), ('bias', tensor([0.3803], dtype=torch.float64))])\n",
            "epoch:  120, Loss:  0.03539020698350174, Test loss:  0.08182621590616938\n",
            "OrderedDict([('weights', tensor([0.6257], dtype=torch.float64)), ('bias', tensor([0.3733], dtype=torch.float64))])\n",
            "epoch:  130, Loss:  0.031953932417465615, Test loss:  0.07424071615630769\n",
            "OrderedDict([('weights', tensor([0.6426], dtype=torch.float64)), ('bias', tensor([0.3658], dtype=torch.float64))])\n",
            "epoch:  140, Loss:  0.02852540732024967, Test loss:  0.06596831641027853\n",
            "OrderedDict([('weights', tensor([0.6598], dtype=torch.float64)), ('bias', tensor([0.3588], dtype=torch.float64))])\n",
            "epoch:  150, Loss:  0.025086607489733993, Test loss:  0.05769591666424941\n",
            "OrderedDict([('weights', tensor([0.6770], dtype=torch.float64)), ('bias', tensor([0.3518], dtype=torch.float64))])\n",
            "epoch:  160, Loss:  0.021652002860658364, Test loss:  0.05011041691438767\n",
            "OrderedDict([('weights', tensor([0.6939], dtype=torch.float64)), ('bias', tensor([0.3443], dtype=torch.float64))])\n",
            "epoch:  170, Loss:  0.018221807826481945, Test loss:  0.041838017168358485\n",
            "OrderedDict([('weights', tensor([0.7111], dtype=torch.float64)), ('bias', tensor([0.3373], dtype=torch.float64))])\n",
            "epoch:  180, Loss:  0.014783007995966232, Test loss:  0.03356561742232937\n",
            "OrderedDict([('weights', tensor([0.7282], dtype=torch.float64)), ('bias', tensor([0.3303], dtype=torch.float64))])\n",
            "epoch:  190, Loss:  0.011350073303851115, Test loss:  0.025980117672467672\n",
            "OrderedDict([('weights', tensor([0.7452], dtype=torch.float64)), ('bias', tensor([0.3228], dtype=torch.float64))])\n",
            "epoch:  200, Loss:  0.007918208332714196, Test loss:  0.017707717926438483\n",
            "OrderedDict([('weights', tensor([0.7623], dtype=torch.float64)), ('bias', tensor([0.3158], dtype=torch.float64))])\n",
            "epoch:  210, Loss:  0.0044794085021984936, Test loss:  0.009435318180409347\n",
            "OrderedDict([('weights', tensor([0.7795], dtype=torch.float64)), ('bias', tensor([0.3088], dtype=torch.float64))])\n",
            "epoch:  220, Loss:  0.008512479957880587, Test loss:  0.00029499239337942295\n",
            "OrderedDict([('weights', tensor([0.7941], dtype=torch.float64)), ('bias', tensor([0.3053], dtype=torch.float64))])\n",
            "epoch:  230, Loss:  0.008512479957880587, Test loss:  0.00029499239337942295\n",
            "OrderedDict([('weights', tensor([0.7941], dtype=torch.float64)), ('bias', tensor([0.3053], dtype=torch.float64))])\n",
            "epoch:  240, Loss:  0.008512479957880587, Test loss:  0.00029499239337942295\n",
            "OrderedDict([('weights', tensor([0.7941], dtype=torch.float64)), ('bias', tensor([0.3053], dtype=torch.float64))])\n",
            "epoch:  250, Loss:  0.008512479957880587, Test loss:  0.00029499239337942295\n",
            "OrderedDict([('weights', tensor([0.7941], dtype=torch.float64)), ('bias', tensor([0.3053], dtype=torch.float64))])\n",
            "epoch:  260, Loss:  0.008512479957880587, Test loss:  0.00029499239337942295\n",
            "OrderedDict([('weights', tensor([0.7941], dtype=torch.float64)), ('bias', tensor([0.3053], dtype=torch.float64))])\n",
            "epoch:  270, Loss:  0.008512479957880587, Test loss:  0.00029499239337942295\n",
            "OrderedDict([('weights', tensor([0.7941], dtype=torch.float64)), ('bias', tensor([0.3053], dtype=torch.float64))])\n",
            "epoch:  280, Loss:  0.008512479957880587, Test loss:  0.00029499239337942295\n",
            "OrderedDict([('weights', tensor([0.7941], dtype=torch.float64)), ('bias', tensor([0.3053], dtype=torch.float64))])\n",
            "epoch:  290, Loss:  0.008512479957880587, Test loss:  0.00029499239337942295\n",
            "OrderedDict([('weights', tensor([0.7941], dtype=torch.float64)), ('bias', tensor([0.3053], dtype=torch.float64))])\n"
          ]
        }
      ]
    },
    {
      "cell_type": "code",
      "source": [
        "# Loss:  {tensor(0.0292, dtype=torch.float64, grad_fn=<MeanBackward0>)}\n",
        "# Loss:  {tensor(0.0289, dtype=torch.float64, grad_fn=<MeanBackward0>)}"
      ],
      "metadata": {
        "id": "b4h0VfK2r1l9"
      },
      "execution_count": 21,
      "outputs": []
    },
    {
      "cell_type": "code",
      "source": [
        "model_0.state_dict()"
      ],
      "metadata": {
        "id": "OspPGYq-V1Zq",
        "outputId": "de9c1073-3f98-4136-bd1e-bb093ed4b98d",
        "colab": {
          "base_uri": "https://localhost:8080/"
        }
      },
      "execution_count": 22,
      "outputs": [
        {
          "output_type": "execute_result",
          "data": {
            "text/plain": [
              "OrderedDict([('weights', tensor([0.7902], dtype=torch.float64)),\n",
              "             ('bias', tensor([0.2953], dtype=torch.float64))])"
            ]
          },
          "metadata": {},
          "execution_count": 22
        }
      ]
    },
    {
      "cell_type": "code",
      "source": [
        "\"true values:\", weight, bias"
      ],
      "metadata": {
        "id": "MTl3HG38WrkB",
        "outputId": "c3347f3c-9a07-4484-8500-9fe487b2c744",
        "colab": {
          "base_uri": "https://localhost:8080/"
        }
      },
      "execution_count": 23,
      "outputs": [
        {
          "output_type": "execute_result",
          "data": {
            "text/plain": [
              "('true values:', 0.8, 0.3)"
            ]
          },
          "metadata": {},
          "execution_count": 23
        }
      ]
    },
    {
      "cell_type": "code",
      "source": [
        "model_0.state_dict()"
      ],
      "metadata": {
        "id": "Ahb4HWKhXnpc",
        "outputId": "6760d1f3-73c9-48e4-8c69-7bab89caf467",
        "colab": {
          "base_uri": "https://localhost:8080/"
        }
      },
      "execution_count": 24,
      "outputs": [
        {
          "output_type": "execute_result",
          "data": {
            "text/plain": [
              "OrderedDict([('weights', tensor([0.7902], dtype=torch.float64)),\n",
              "             ('bias', tensor([0.2953], dtype=torch.float64))])"
            ]
          },
          "metadata": {},
          "execution_count": 24
        }
      ]
    },
    {
      "cell_type": "code",
      "source": [
        "model_0.state_dict()"
      ],
      "metadata": {
        "id": "zqDT0RI0YXPl",
        "outputId": "370d8b20-de22-4935-ad1f-d14c60f232f0",
        "colab": {
          "base_uri": "https://localhost:8080/"
        }
      },
      "execution_count": 25,
      "outputs": [
        {
          "output_type": "execute_result",
          "data": {
            "text/plain": [
              "OrderedDict([('weights', tensor([0.7902], dtype=torch.float64)),\n",
              "             ('bias', tensor([0.2953], dtype=torch.float64))])"
            ]
          },
          "metadata": {},
          "execution_count": 25
        }
      ]
    },
    {
      "cell_type": "code",
      "source": [
        "model_0.state_dict()"
      ],
      "metadata": {
        "id": "VSUkprd9ZBiS",
        "outputId": "c59c25e5-bee5-4a53-9c66-53c9ba9e16e1",
        "colab": {
          "base_uri": "https://localhost:8080/"
        }
      },
      "execution_count": 26,
      "outputs": [
        {
          "output_type": "execute_result",
          "data": {
            "text/plain": [
              "OrderedDict([('weights', tensor([0.7902], dtype=torch.float64)),\n",
              "             ('bias', tensor([0.2953], dtype=torch.float64))])"
            ]
          },
          "metadata": {},
          "execution_count": 26
        }
      ]
    },
    {
      "cell_type": "code",
      "source": [
        "model_0.state_dict()"
      ],
      "metadata": {
        "id": "yTFN7lKcZNtK",
        "outputId": "a497f560-c875-45e9-932f-1d3b6d74221a",
        "colab": {
          "base_uri": "https://localhost:8080/"
        }
      },
      "execution_count": 27,
      "outputs": [
        {
          "output_type": "execute_result",
          "data": {
            "text/plain": [
              "OrderedDict([('weights', tensor([0.7902], dtype=torch.float64)),\n",
              "             ('bias', tensor([0.2953], dtype=torch.float64))])"
            ]
          },
          "metadata": {},
          "execution_count": 27
        }
      ]
    },
    {
      "cell_type": "code",
      "source": [
        "with torch.inference_mode():\n",
        "  y_predict_new = model_0(X_test)"
      ],
      "metadata": {
        "id": "LTqicHcX9Vcq"
      },
      "execution_count": 28,
      "outputs": []
    },
    {
      "cell_type": "code",
      "source": [
        "plot_predictions(prediction=y_predict_new)"
      ],
      "metadata": {
        "id": "pVo9Gi8YV5e4",
        "outputId": "b746557a-839d-44d6-a4ac-2065f05ee488",
        "colab": {
          "base_uri": "https://localhost:8080/",
          "height": 599
        }
      },
      "execution_count": 29,
      "outputs": [
        {
          "output_type": "display_data",
          "data": {
            "text/plain": [
              "<Figure size 1000x700 with 1 Axes>"
            ],
            "image/png": "[encoded data removed]"
          },
          "metadata": {}
        }
      ]
    },
    {
      "cell_type": "code",
      "source": [
        " plot_predictions(prediction=y_test_prediction);"
      ],
      "metadata": {
        "id": "y5f-XHorXW5N",
        "colab": {
          "base_uri": "https://localhost:8080/",
          "height": 599
        },
        "outputId": "e1c1a06e-5d38-4992-9fcb-7227395624cb"
      },
      "execution_count": 30,
      "outputs": [
        {
          "output_type": "display_data",
          "data": {
            "text/plain": [
              "<Figure size 1000x700 with 1 Axes>"
            ],
            "image/png": "[encoded data removed]"
          },
          "metadata": {}
        }
      ]
    },
    {
      "cell_type": "code",
      "source": [
        "lossValues = np.array(torch.tensor(loss_values).numpy())\n",
        "testLossValues = np.array(torch.tensor(test_loss_values))"
      ],
      "metadata": {
        "id": "mZJy3QpWt-eO"
      },
      "execution_count": 31,
      "outputs": []
    },
    {
      "cell_type": "code",
      "source": [
        "# Plot the loss curves\n",
        "\n",
        "plt.plot(epoch_count, lossValues, label=\"Train Loss\")\n",
        "plt.plot(epoch_count, testLossValues, label=\"Test Loss\")\n",
        "plt.title(\"Training and test loss curves...\")\n",
        "plt.ylabel(\"Loss\")\n",
        "plt.xlabel(\"Epochs\")\n",
        "plt.legend()"
      ],
      "metadata": {
        "colab": {
          "base_uri": "https://localhost:8080/",
          "height": 490
        },
        "id": "68CL5IdytUmt",
        "outputId": "17f8d194-e07b-411b-de38-ad06b0f0cdd3"
      },
      "execution_count": 32,
      "outputs": [
        {
          "output_type": "execute_result",
          "data": {
            "text/plain": [
              "<matplotlib.legend.Legend at 0x7a286525dc30>"
            ]
          },
          "metadata": {},
          "execution_count": 32
        },
        {
          "output_type": "display_data",
          "data": {
            "text/plain": [
              "<Figure size 640x480 with 1 Axes>"
            ],
            "image/png": "[encoded data removed]"
          },
          "metadata": {}
        }
      ]
    },
    {
      "cell_type": "code",
      "source": [
        "loss_values\n"
      ],
      "metadata": {
        "colab": {
          "base_uri": "https://localhost:8080/"
        },
        "id": "Im2WZxuRtsES",
        "outputId": "2e6dec5d-bef2-48fe-8deb-f0d165d8735d"
      },
      "execution_count": 33,
      "outputs": [
        {
          "output_type": "execute_result",
          "data": {
            "text/plain": [
              "[tensor(0.3519, dtype=torch.float64, grad_fn=<MeanBackward0>),\n",
              " tensor(0.2367, dtype=torch.float64, grad_fn=<MeanBackward0>),\n",
              " tensor(0.1269, dtype=torch.float64, grad_fn=<MeanBackward0>),\n",
              " tensor(0.0792, dtype=torch.float64, grad_fn=<MeanBackward0>),\n",
              " tensor(0.0652, dtype=torch.float64, grad_fn=<MeanBackward0>),\n",
              " tensor(0.0598, dtype=torch.float64, grad_fn=<MeanBackward0>),\n",
              " tensor(0.0561, dtype=torch.float64, grad_fn=<MeanBackward0>),\n",
              " tensor(0.0526, dtype=torch.float64, grad_fn=<MeanBackward0>),\n",
              " tensor(0.0491, dtype=torch.float64, grad_fn=<MeanBackward0>),\n",
              " tensor(0.0457, dtype=torch.float64, grad_fn=<MeanBackward0>),\n",
              " tensor(0.0423, dtype=torch.float64, grad_fn=<MeanBackward0>),\n",
              " tensor(0.0388, dtype=torch.float64, grad_fn=<MeanBackward0>),\n",
              " tensor(0.0354, dtype=torch.float64, grad_fn=<MeanBackward0>),\n",
              " tensor(0.0320, dtype=torch.float64, grad_fn=<MeanBackward0>),\n",
              " tensor(0.0285, dtype=torch.float64, grad_fn=<MeanBackward0>),\n",
              " tensor(0.0251, dtype=torch.float64, grad_fn=<MeanBackward0>),\n",
              " tensor(0.0217, dtype=torch.float64, grad_fn=<MeanBackward0>),\n",
              " tensor(0.0182, dtype=torch.float64, grad_fn=<MeanBackward0>),\n",
              " tensor(0.0148, dtype=torch.float64, grad_fn=<MeanBackward0>),\n",
              " tensor(0.0114, dtype=torch.float64, grad_fn=<MeanBackward0>),\n",
              " tensor(0.0079, dtype=torch.float64, grad_fn=<MeanBackward0>),\n",
              " tensor(0.0045, dtype=torch.float64, grad_fn=<MeanBackward0>),\n",
              " tensor(0.0085, dtype=torch.float64, grad_fn=<MeanBackward0>),\n",
              " tensor(0.0085, dtype=torch.float64, grad_fn=<MeanBackward0>),\n",
              " tensor(0.0085, dtype=torch.float64, grad_fn=<MeanBackward0>),\n",
              " tensor(0.0085, dtype=torch.float64, grad_fn=<MeanBackward0>),\n",
              " tensor(0.0085, dtype=torch.float64, grad_fn=<MeanBackward0>),\n",
              " tensor(0.0085, dtype=torch.float64, grad_fn=<MeanBackward0>),\n",
              " tensor(0.0085, dtype=torch.float64, grad_fn=<MeanBackward0>),\n",
              " tensor(0.0085, dtype=torch.float64, grad_fn=<MeanBackward0>)]"
            ]
          },
          "metadata": {},
          "execution_count": 33
        }
      ]
    },
    {
      "cell_type": "markdown",
      "source": [
        "### SAVING A MODEL ON GOOGLE COLAB\n",
        "\n",
        "- There are three main ways to save and load the models in google colab.\n",
        "\n",
        "1. `torch.save()` -> Allows to save your pytorch object in python's pickle formate.\n",
        "2. `torch.load()` -> Allows to load the pytorch object.\n",
        "3. `torch.nn.Module.load_sate_dict()` -> This allows to load load a model's saved state dictionary."
      ],
      "metadata": {
        "id": "6kXdqIzX-77y"
      }
    },
    {
      "cell_type": "code",
      "source": [
        "model_0.state_dict()"
      ],
      "metadata": {
        "colab": {
          "base_uri": "https://localhost:8080/"
        },
        "id": "EmWnUjy5BDff",
        "outputId": "0459044e-3c2f-4733-90c0-2e20da9bc0b9"
      },
      "execution_count": 34,
      "outputs": [
        {
          "output_type": "execute_result",
          "data": {
            "text/plain": [
              "OrderedDict([('weights', tensor([0.7902], dtype=torch.float64)),\n",
              "             ('bias', tensor([0.2953], dtype=torch.float64))])"
            ]
          },
          "metadata": {},
          "execution_count": 34
        }
      ]
    },
    {
      "cell_type": "code",
      "source": [
        "# Saving our pytorch model\n",
        "from pathlib import Path\n",
        "\n",
        "# 1. Create models directory\n",
        "MODEL_PATH = Path(\"models\")\n",
        "MODEL_PATH.mkdir(parents=True, exist_ok=True)\n",
        "\n",
        "# 2. Create model save path\n",
        "MODEL_NAME = \"01_pytorch_workflow_model_0.pth\"\n",
        "MODEL_SAVE_PATH = MODEL_PATH / MODEL_NAME\n",
        "\n",
        "# 3. Save the model state_dict\n",
        "print(f\"Saving a model to: {MODEL_SAVE_PATH}\")\n",
        "torch.save(\n",
        "    obj=model_0.state_dict(),\n",
        "    f=MODEL_SAVE_PATH\n",
        ")\n",
        "\n",
        "MODEL_SAVE_PATH"
      ],
      "metadata": {
        "colab": {
          "base_uri": "https://localhost:8080/"
        },
        "id": "5lRJLDo6B4FQ",
        "outputId": "b9dd67df-9498-480e-fccb-1275ad63a30d"
      },
      "execution_count": 35,
      "outputs": [
        {
          "output_type": "stream",
          "name": "stdout",
          "text": [
            "Saving a model to: models/01_pytorch_workflow_model_0.pth\n"
          ]
        },
        {
          "output_type": "execute_result",
          "data": {
            "text/plain": [
              "PosixPath('models/01_pytorch_workflow_model_0.pth')"
            ]
          },
          "metadata": {},
          "execution_count": 35
        }
      ]
    },
    {
      "cell_type": "code",
      "source": [
        "!ls -l models"
      ],
      "metadata": {
        "id": "-GA9JkhFJyO0",
        "outputId": "44d67eaf-edd8-4274-b6e8-202a586e97b9",
        "colab": {
          "base_uri": "https://localhost:8080/"
        }
      },
      "execution_count": 36,
      "outputs": [
        {
          "output_type": "stream",
          "name": "stdout",
          "text": [
            "total 4\n",
            "-rw-r--r-- 1 root root 1207 Aug  7 15:34 01_pytorch_workflow_model_0.pth\n"
          ]
        }
      ]
    },
    {
      "cell_type": "markdown",
      "source": [
        "# Loading a pytorch model\n",
        "\n",
        "Since we've saved our model's `state_dict()` insted of the whole model, we'll create a new instance of our model class load the saved `state_dict()` into that."
      ],
      "metadata": {
        "id": "kF7c1xcEMDu7"
      }
    },
    {
      "cell_type": "code",
      "source": [
        "model_0.state_dict()"
      ],
      "metadata": {
        "id": "_VebR-9mMpnA",
        "outputId": "53e5a20d-e765-4fff-e9e5-659db2a3f11c",
        "colab": {
          "base_uri": "https://localhost:8080/"
        }
      },
      "execution_count": 37,
      "outputs": [
        {
          "output_type": "execute_result",
          "data": {
            "text/plain": [
              "OrderedDict([('weights', tensor([0.7902], dtype=torch.float64)),\n",
              "             ('bias', tensor([0.2953], dtype=torch.float64))])"
            ]
          },
          "metadata": {},
          "execution_count": 37
        }
      ]
    },
    {
      "cell_type": "code",
      "source": [
        "# To load in a saved state_dict() we have to instanciate a new instance of our model class...\n",
        "\n",
        "loaded_model_0 = LinearRegressionModel()\n",
        "\n",
        "# Load the saved state_dict() of model_0 (this will update the new instances with updated parameters)\n",
        "loaded_model_0.load_state_dict(torch.load(f=MODEL_SAVE_PATH))"
      ],
      "metadata": {
        "id": "yra5I4R9N28U",
        "outputId": "e8ed5d89-128a-4602-f298-4a550f1d6fdc",
        "colab": {
          "base_uri": "https://localhost:8080/"
        }
      },
      "execution_count": 38,
      "outputs": [
        {
          "output_type": "execute_result",
          "data": {
            "text/plain": [
              "<All keys matched successfully>"
            ]
          },
          "metadata": {},
          "execution_count": 38
        }
      ]
    },
    {
      "cell_type": "code",
      "source": [
        "loaded_model_0.state_dict()"
      ],
      "metadata": {
        "id": "qlfG14G5QUWH",
        "outputId": "e33428d4-d694-4bb3-a408-bbe52d42bfcc",
        "colab": {
          "base_uri": "https://localhost:8080/"
        }
      },
      "execution_count": 39,
      "outputs": [
        {
          "output_type": "execute_result",
          "data": {
            "text/plain": [
              "OrderedDict([('weights', tensor([0.7902], dtype=torch.float64)),\n",
              "             ('bias', tensor([0.2953], dtype=torch.float64))])"
            ]
          },
          "metadata": {},
          "execution_count": 39
        }
      ]
    },
    {
      "cell_type": "code",
      "source": [
        "# Making some perdictions with our loaded model\n",
        "\n",
        "loaded_model_0.eval()\n",
        "with torch.inference_mode():\n",
        "  loaded_model_predection = loaded_model_0(X_test)\n",
        "\n",
        "loaded_model_predection"
      ],
      "metadata": {
        "id": "x6bW6cH_V7Io",
        "outputId": "61310d2e-c9e3-486c-a408-7605d3034835",
        "colab": {
          "base_uri": "https://localhost:8080/"
        }
      },
      "execution_count": 40,
      "outputs": [
        {
          "output_type": "execute_result",
          "data": {
            "text/plain": [
              "tensor([[0.9275],\n",
              "        [0.9433],\n",
              "        [0.9591],\n",
              "        [0.9749],\n",
              "        [0.9907],\n",
              "        [1.0065],\n",
              "        [1.0223],\n",
              "        [1.0381],\n",
              "        [1.0539],\n",
              "        [1.0697]], dtype=torch.float64)"
            ]
          },
          "metadata": {},
          "execution_count": 40
        }
      ]
    },
    {
      "cell_type": "code",
      "source": [
        "# Compare loaded model predection with original model prediction...\n",
        "\n",
        "y_predict == loaded_model_predection"
      ],
      "metadata": {
        "id": "FWNTOVwpb1hU",
        "outputId": "4b28911f-2ddc-45a8-8640-eebaa49c8311",
        "colab": {
          "base_uri": "https://localhost:8080/"
        }
      },
      "execution_count": 41,
      "outputs": [
        {
          "output_type": "execute_result",
          "data": {
            "text/plain": [
              "tensor([[False],\n",
              "        [False],\n",
              "        [False],\n",
              "        [False],\n",
              "        [False],\n",
              "        [False],\n",
              "        [False],\n",
              "        [False],\n",
              "        [False],\n",
              "        [False]])"
            ]
          },
          "metadata": {},
          "execution_count": 41
        }
      ]
    },
    {
      "cell_type": "code",
      "source": [
        "y_predict"
      ],
      "metadata": {
        "id": "0k46OKdWdEcx",
        "outputId": "62ca5c31-8ae9-4a09-8a4c-5ea1c7499237",
        "colab": {
          "base_uri": "https://localhost:8080/"
        }
      },
      "execution_count": 42,
      "outputs": [
        {
          "output_type": "execute_result",
          "data": {
            "text/plain": [
              "tensor([[0.3982],\n",
              "        [0.4049],\n",
              "        [0.4116],\n",
              "        [0.4184],\n",
              "        [0.4251],\n",
              "        [0.4318],\n",
              "        [0.4386],\n",
              "        [0.4453],\n",
              "        [0.4520],\n",
              "        [0.4588]], dtype=torch.float64)"
            ]
          },
          "metadata": {},
          "execution_count": 42
        }
      ]
    },
    {
      "cell_type": "code",
      "source": [
        "# Making some model predictions\n",
        "\n",
        "model_0.eval()\n",
        "with torch.inference_mode():\n",
        "  y_predict__ = model_0(X_test)\n",
        "\n",
        "y_predict__"
      ],
      "metadata": {
        "id": "fV1WhZJhdP6g",
        "outputId": "c8a641f0-faa2-4079-8643-905941ffde46",
        "colab": {
          "base_uri": "https://localhost:8080/"
        }
      },
      "execution_count": 43,
      "outputs": [
        {
          "output_type": "execute_result",
          "data": {
            "text/plain": [
              "tensor([[0.9275],\n",
              "        [0.9433],\n",
              "        [0.9591],\n",
              "        [0.9749],\n",
              "        [0.9907],\n",
              "        [1.0065],\n",
              "        [1.0223],\n",
              "        [1.0381],\n",
              "        [1.0539],\n",
              "        [1.0697]], dtype=torch.float64)"
            ]
          },
          "metadata": {},
          "execution_count": 43
        }
      ]
    },
    {
      "cell_type": "code",
      "source": [
        "loaded_model_predection == y_predict__"
      ],
      "metadata": {
        "id": "vXCRlF6Ud-Bc",
        "outputId": "92eb84ef-ea4d-4601-be12-4ab14d165a1a",
        "colab": {
          "base_uri": "https://localhost:8080/"
        }
      },
      "execution_count": 44,
      "outputs": [
        {
          "output_type": "execute_result",
          "data": {
            "text/plain": [
              "tensor([[True],\n",
              "        [True],\n",
              "        [True],\n",
              "        [True],\n",
              "        [True],\n",
              "        [True],\n",
              "        [True],\n",
              "        [True],\n",
              "        [True],\n",
              "        [True]])"
            ]
          },
          "metadata": {},
          "execution_count": 44
        }
      ]
    },
    {
      "cell_type": "markdown",
      "source": [
        "## 6. Putting all together...\n",
        "\n",
        "Revising the all setps above..."
      ],
      "metadata": {
        "id": "3ru9Uz0xeGZs"
      }
    },
    {
      "cell_type": "code",
      "source": [
        "import torch\n",
        "from torch import nn\n",
        "import matplotlib.pyplot as plt\n",
        "\n",
        "torch.__version__"
      ],
      "metadata": {
        "id": "2caI12bGfKaL",
        "outputId": "f329d01d-62aa-4649-d80e-2e8b404602ca",
        "colab": {
          "base_uri": "https://localhost:8080/",
          "height": 35
        }
      },
      "execution_count": 45,
      "outputs": [
        {
          "output_type": "execute_result",
          "data": {
            "text/plain": [
              "'2.0.1+cu118'"
            ],
            "application/vnd.google.colaboratory.intrinsic+json": {
              "type": "string"
            }
          },
          "metadata": {},
          "execution_count": 45
        }
      ]
    },
    {
      "cell_type": "markdown",
      "source": [
        "Write device-agnositic code\n",
        "\n",
        "It means if we've got access to GPU, our code will use it (for faster computations)\n",
        "if no GPU is available, code will default back to CPU"
      ],
      "metadata": {
        "id": "SyZJ6wAqf18F"
      }
    },
    {
      "cell_type": "code",
      "source": [
        "# Setting up the device agnostic code\n",
        "device = \"Cuda \"if torch.cuda.is_available() else \"CPU\"\n",
        "\n",
        "print(f\"Using device:  {device}\")\n"
      ],
      "metadata": {
        "id": "ob8qz-Nugxeq",
        "outputId": "cd51535c-fdfa-4f81-ce97-0262fd2d929b",
        "colab": {
          "base_uri": "https://localhost:8080/"
        }
      },
      "execution_count": 46,
      "outputs": [
        {
          "output_type": "stream",
          "name": "stdout",
          "text": [
            "Using device:  Cuda \n"
          ]
        }
      ]
    },
    {
      "cell_type": "code",
      "source": [
        "!nvidia-smi"
      ],
      "metadata": {
        "id": "y7xfsatxhXlj",
        "outputId": "e81cfa2c-15d7-4d4e-e26d-5652e4b6eef7",
        "colab": {
          "base_uri": "https://localhost:8080/"
        }
      },
      "execution_count": 47,
      "outputs": [
        {
          "output_type": "stream",
          "name": "stdout",
          "text": [
            "Mon Aug  7 15:34:54 2023       \n",
            "+-----------------------------------------------------------------------------+\n",
            "| NVIDIA-SMI 525.105.17   Driver Version: 525.105.17   CUDA Version: 12.0     |\n",
            "|-------------------------------+----------------------+----------------------+\n",
            "| GPU  Name        Persistence-M| Bus-Id        Disp.A | Volatile Uncorr. ECC |\n",
            "| Fan  Temp  Perf  Pwr:Usage/Cap|         Memory-Usage | GPU-Util  Compute M. |\n",
            "|                               |                      |               MIG M. |\n",
            "|===============================+======================+======================|\n",
            "|   0  Tesla T4            Off  | 00000000:00:04.0 Off |                    0 |\n",
            "| N/A   35C    P8    10W /  70W |      3MiB / 15360MiB |      0%      Default |\n",
            "|                               |                      |                  N/A |\n",
            "+-------------------------------+----------------------+----------------------+\n",
            "                                                                               \n",
            "+-----------------------------------------------------------------------------+\n",
            "| Processes:                                                                  |\n",
            "|  GPU   GI   CI        PID   Type   Process name                  GPU Memory |\n",
            "|        ID   ID                                                   Usage      |\n",
            "|=============================================================================|\n",
            "|  No running processes found                                                 |\n",
            "+-----------------------------------------------------------------------------+\n"
          ]
        }
      ]
    },
    {
      "cell_type": "markdown",
      "source": [
        "# 6.1 Data"
      ],
      "metadata": {
        "id": "MTQZpA4Fet6-"
      }
    },
    {
      "cell_type": "code",
      "source": [
        " # Create some data using the Linear Reggression formula of y = weight * X + bias\n",
        "\n",
        " weight = 0.5\n",
        " bias = 0.1\n",
        "\n",
        " # Create range values\n",
        "\n",
        " start = 0\n",
        " end = 1\n",
        " step = 0.02\n",
        "\n",
        " # Create X and y (features and labels)\n",
        "\n",
        "X = torch.arange(start, end, step).unsqueeze(dim = 1)  # Without unsqueeze errors will popup\n",
        "y = weight * X + bias\n",
        "X[:10], y[:10]"
      ],
      "metadata": {
        "id": "NET-aJ9lfmti",
        "outputId": "88be19ba-b526-4e88-d46e-7a5857c45106",
        "colab": {
          "base_uri": "https://localhost:8080/"
        }
      },
      "execution_count": 48,
      "outputs": [
        {
          "output_type": "execute_result",
          "data": {
            "text/plain": [
              "(tensor([[0.0000],\n",
              "         [0.0200],\n",
              "         [0.0400],\n",
              "         [0.0600],\n",
              "         [0.0800],\n",
              "         [0.1000],\n",
              "         [0.1200],\n",
              "         [0.1400],\n",
              "         [0.1600],\n",
              "         [0.1800]]),\n",
              " tensor([[0.1000],\n",
              "         [0.1100],\n",
              "         [0.1200],\n",
              "         [0.1300],\n",
              "         [0.1400],\n",
              "         [0.1500],\n",
              "         [0.1600],\n",
              "         [0.1700],\n",
              "         [0.1800],\n",
              "         [0.1900]]))"
            ]
          },
          "metadata": {},
          "execution_count": 48
        }
      ]
    },
    {
      "cell_type": "code",
      "source": [
        "# Split the data\n",
        "\n",
        "train_split = int(0.8 * len(X))\n",
        "X_train, y_train = X[:train_split], y[:train_split]\n",
        "X_test, y_test = X[train_split:], y[train_split:]\n",
        "len(X_train), len(y_train), len(X_test), len(y_test)"
      ],
      "metadata": {
        "id": "mMU8nt2Skkwf",
        "outputId": "ca852772-3f4d-48ed-b02e-4ca11d6abd78",
        "colab": {
          "base_uri": "https://localhost:8080/"
        }
      },
      "execution_count": 49,
      "outputs": [
        {
          "output_type": "execute_result",
          "data": {
            "text/plain": [
              "(40, 40, 10, 10)"
            ]
          },
          "metadata": {},
          "execution_count": 49
        }
      ]
    },
    {
      "cell_type": "code",
      "source": [
        "# Plot the data\n",
        "plot_predictions(X_train, y_train, X_test, y_test )"
      ],
      "metadata": {
        "id": "sUboWjjaDJ8k",
        "outputId": "1d6db231-e59b-4865-8372-efc3dc395185",
        "colab": {
          "base_uri": "https://localhost:8080/",
          "height": 599
        }
      },
      "execution_count": 50,
      "outputs": [
        {
          "output_type": "display_data",
          "data": {
            "text/plain": [
              "<Figure size 1000x700 with 1 Axes>"
            ],
            "image/png": "[encoded data removed]"
          },
          "metadata": {}
        }
      ]
    },
    {
      "cell_type": "markdown",
      "source": [
        "## 6.2 Building a pytorch linear model"
      ],
      "metadata": {
        "id": "Oqee9WiYDlyI"
      }
    },
    {
      "cell_type": "code",
      "source": [
        "# Creating a linear model by subclassing nn.Module\n",
        "\n",
        "class LinearRegressionModelV2(nn.Module):\n",
        "  def __init__(self):\n",
        "    super().__init__()\n",
        "\n",
        "    # Use nn.Linear() for creating the model parameters / also called linear transform, probing layer, fully connected layer, dense layer...\n",
        "    self.linear_layer = nn.Linear(\n",
        "        in_features = 1,\n",
        "        out_features = 1)\n",
        "\n",
        "  def forward(self, x: torch.Tensor) -> torch.Tensor:\n",
        "    return self.linear_layer(x)\n",
        "\n",
        "  # Set manual seed\n",
        "torch.manual_seed(42)\n",
        "model_1 = LinearRegressionModelV2()\n",
        "model_1, model_1.state_dict()"
      ],
      "metadata": {
        "id": "YhTJ69iQDsH6",
        "outputId": "b3c4e9cc-efee-403f-d058-dd3c0d5ad9df",
        "colab": {
          "base_uri": "https://localhost:8080/"
        }
      },
      "execution_count": 58,
      "outputs": [
        {
          "output_type": "execute_result",
          "data": {
            "text/plain": [
              "(LinearRegressionModelV2(\n",
              "   (linear_layer): Linear(in_features=1, out_features=1, bias=True)\n",
              " ),\n",
              " OrderedDict([('linear_layer.weight', tensor([[0.7645]])),\n",
              "              ('linear_layer.bias', tensor([0.8300]))]))"
            ]
          },
          "metadata": {},
          "execution_count": 58
        }
      ]
    },
    {
      "cell_type": "code",
      "source": [
        "device"
      ],
      "metadata": {
        "id": "an7iwTpXpfPI",
        "outputId": "76118cb1-e6fa-4090-8462-126722a354ae",
        "colab": {
          "base_uri": "https://localhost:8080/",
          "height": 35
        }
      },
      "execution_count": 59,
      "outputs": [
        {
          "output_type": "execute_result",
          "data": {
            "text/plain": [
              "'Cuda '"
            ],
            "application/vnd.google.colaboratory.intrinsic+json": {
              "type": "string"
            }
          },
          "metadata": {},
          "execution_count": 59
        }
      ]
    }
  ],
  "metadata": {
    "colab": {
      "provenance": [],
      "gpuType": "T4",
      "authorship_tag": "ABX9TyO8oNx9WJJiSPXQaVWT1srm",
      "include_colab_link": true
    },
    "kernelspec": {
      "display_name": "Python 3",
      "name": "python3"
    },
    "language_info": {
      "name": "python"
    },
    "accelerator": "GPU"
  },
  "nbformat": 4,
  "nbformat_minor": 0
}