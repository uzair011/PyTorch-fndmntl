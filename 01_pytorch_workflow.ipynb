{
  "nbformat": 4,
  "nbformat_minor": 0,
  "metadata": {
    "colab": {
      "provenance": [],
      "authorship_tag": "ABX9TyPQ3mxnDb1phwtTmQx5NOMF",
      "include_colab_link": true
    },
    "kernelspec": {
      "name": "python3",
      "display_name": "Python 3"
    },
    "language_info": {
      "name": "python"
    }
  },
  "cells": [
    {
      "cell_type": "markdown",
      "metadata": {
        "id": "view-in-github",
        "colab_type": "text"
      },
      "source": [
        "<a href=\"https://colab.research.google.com/github/uzair011/PyTorch-fndmntl/blob/main/01_pytorch_workflow.ipynb\" target=\"_parent\"><img src=\"https://colab.research.google.com/assets/colab-badge.svg\" alt=\"Open In Colab\"/></a>"
      ]
    },
    {
      "cell_type": "code",
      "execution_count": 1,
      "metadata": {
        "colab": {
          "base_uri": "https://localhost:8080/"
        },
        "id": "0MWoTqPsMuTy",
        "outputId": "8a161207-cba5-448f-dce0-1d47e70a3d59"
      },
      "outputs": [
        {
          "output_type": "execute_result",
          "data": {
            "text/plain": [
              "{1: 'Data (prepare and load).',\n",
              " 2: 'Build model.',\n",
              " 3: 'Fitting the model to data (training).',\n",
              " 4: 'Making predictions and evaluating the model (inference).',\n",
              " 5: 'Saving and loading the model.',\n",
              " 6: 'Putting it all together.'}"
            ]
          },
          "metadata": {},
          "execution_count": 1
        }
      ],
      "source": [
        "what_we_are_covering = {\n",
        "    1: \"Data (prepare and load).\",\n",
        "    2: \"Build model.\",\n",
        "    3: \"Fitting the model to data (training).\",\n",
        "    4: \"Making predictions and evaluating the model (inference).\",\n",
        "    5: \"Saving and loading the model.\",\n",
        "    6: \"Putting it all together.\"\n",
        "}\n",
        "what_we_are_covering"
      ]
    },
    {
      "cell_type": "code",
      "source": [
        "import torch\n",
        "from torch import nn # nn contains all of the building blocks for neural networks. \n",
        "import matplotlib.pyplot as plt\n",
        "\n",
        "# check pytorch version\n",
        "torch.__version__"
      ],
      "metadata": {
        "colab": {
          "base_uri": "https://localhost:8080/",
          "height": 35
        },
        "id": "l1W8VO3XO2Ts",
        "outputId": "c7987b27-996d-470f-c744-37eb858b0b03"
      },
      "execution_count": 2,
      "outputs": [
        {
          "output_type": "execute_result",
          "data": {
            "text/plain": [
              "'2.0.1+cu118'"
            ],
            "application/vnd.google.colaboratory.intrinsic+json": {
              "type": "string"
            }
          },
          "metadata": {},
          "execution_count": 2
        }
      ]
    },
    {
      "cell_type": "markdown",
      "source": [
        "## Data (Preparing and Loading)\n",
        "\n",
        "* In maching learning data can be almost anything...\n",
        "  1. Execl spread sheet\n",
        "  2. Images\n",
        "  3. Videos\n",
        "  4. Texts\n",
        "  5. Audio files\n",
        "  5. DNA...\n",
        "\n",
        "   Main Concepts in ML\n",
        "   1. Get data in to numerical representation. \n",
        "   2. Build a model to learn patterns in the model.\n",
        "\n",
        "\n",
        "   * To showcase this, lets create some *KNOWN* data using linear regression formula.\n",
        "   * Here we'll use a linear regression formula to create straight line with known *parameters*."
      ],
      "metadata": {
        "id": "V6rcaoBtPaaf"
      }
    },
    {
      "cell_type": "code",
      "source": [
        "# create *known* parameters\n",
        "weight = 0.8\n",
        "bias = 0.3\n",
        "\n",
        "# create\n",
        "start = 0\n",
        "end = 1\n",
        "step = 0.02\n",
        "X = torch.arange(start, end, step).unsqueeze(dim=1)\n",
        "y = weight * X + bias\n",
        "\n",
        "print(X[:10])\n",
        "print(\"\")\n",
        "print(y[:10])"
      ],
      "metadata": {
        "colab": {
          "base_uri": "https://localhost:8080/"
        },
        "id": "Cze1EyoQPqMG",
        "outputId": "1533a34c-68eb-40a7-9245-7bf107c3684b"
      },
      "execution_count": 3,
      "outputs": [
        {
          "output_type": "stream",
          "name": "stdout",
          "text": [
            "tensor([[0.0000],\n",
            "        [0.0200],\n",
            "        [0.0400],\n",
            "        [0.0600],\n",
            "        [0.0800],\n",
            "        [0.1000],\n",
            "        [0.1200],\n",
            "        [0.1400],\n",
            "        [0.1600],\n",
            "        [0.1800]])\n",
            "\n",
            "tensor([[0.3000],\n",
            "        [0.3160],\n",
            "        [0.3320],\n",
            "        [0.3480],\n",
            "        [0.3640],\n",
            "        [0.3800],\n",
            "        [0.3960],\n",
            "        [0.4120],\n",
            "        [0.4280],\n",
            "        [0.4440]])\n"
          ]
        }
      ]
    },
    {
      "cell_type": "code",
      "source": [
        "len(X), len(y)"
      ],
      "metadata": {
        "colab": {
          "base_uri": "https://localhost:8080/"
        },
        "id": "nSbNvvNqXC32",
        "outputId": "2a2708e8-40d5-443a-b5d9-1f6f4649fcaf"
      },
      "execution_count": 4,
      "outputs": [
        {
          "output_type": "execute_result",
          "data": {
            "text/plain": [
              "(50, 50)"
            ]
          },
          "metadata": {},
          "execution_count": 4
        }
      ]
    },
    {
      "cell_type": "markdown",
      "source": [
        "## Splitting data into training and testing sets (one of the core concepts in ML, DL)\n",
        "\n"
      ],
      "metadata": {
        "id": "wRaJyhRYXH2_"
      }
    },
    {
      "cell_type": "code",
      "source": [
        "# creating a training and test set with our data\n",
        "\n",
        "train_split = int(0.8 * len(X))\n",
        "x_train, y_train = X[:train_split], y[:train_split]\n",
        "x_test, y_test = X[train_split:], y[train_split:]\n",
        "len(x_train), len(x_test), len(y_train), len(y_test)"
      ],
      "metadata": {
        "colab": {
          "base_uri": "https://localhost:8080/"
        },
        "id": "LKrklrPXaPn0",
        "outputId": "23bfb1f6-2660-4273-aa94-d636d9a5a482"
      },
      "execution_count": 5,
      "outputs": [
        {
          "output_type": "execute_result",
          "data": {
            "text/plain": [
              "(40, 10, 40, 10)"
            ]
          },
          "metadata": {},
          "execution_count": 5
        }
      ]
    },
    {
      "cell_type": "markdown",
      "source": [
        "Visualizing the data.\n",
        "explorer's moto :  \"Visualize, visualize, visualize.....\""
      ],
      "metadata": {
        "id": "QnKoBbE5dRQV"
      }
    },
    {
      "cell_type": "code",
      "source": [
        "def plot_predictions(train_data=x_train,\n",
        "                     train_labels=y_train,\n",
        "                     test_data=x_test,\n",
        "                     test_labels=y_test,\n",
        "                     prediction=None):\n",
        "  \"\"\"Plots trainning data, testing data and compares predictions...\"\"\"\n",
        "\n",
        "  plt.figure(figsize=(10, 7))\n",
        "\n",
        "  #plot training data into blue\n",
        "  plt.scatter(train_data, train_labels, c=\"blue\", s=4, label=\"training dataset\")\n",
        "  #plot testing data into yellow\n",
        "  plt.scatter(test_data, test_labels, c=\"purple\", s=4, label=\"testing dataset\")\n",
        "\n",
        "  # are there any predictions?\n",
        "  if prediction is not None:\n",
        "    #plot the predictions if they exist\n",
        "    plt.scatter(test_data, prediction, c=\"red\", s=4, label=\"predictions\")\n",
        "\n",
        "  # show the legend\n",
        "  plt.legend(prop={\"size\": 14})  "
      ],
      "metadata": {
        "id": "UdhPbxHSeS0_"
      },
      "execution_count": 6,
      "outputs": []
    },
    {
      "cell_type": "code",
      "source": [
        "plot_predictions()"
      ],
      "metadata": {
        "colab": {
          "base_uri": "https://localhost:8080/",
          "height": 599
        },
        "id": "GDcFNBefkfsv",
        "outputId": "6ac2e839-d071-42dc-9884-7b8f458551b3"
      },
      "execution_count": 7,
      "outputs": [
        {
          "output_type": "display_data",
          "data": {
            "text/plain": [
              "<Figure size 1000x700 with 1 Axes>"
            ],
            "image/png": "[encoded data removed]"
          },
          "metadata": {}
        }
      ]
    },
    {
      "cell_type": "markdown",
      "source": [
        "## Build a PyTorch Model"
      ],
      "metadata": {
        "id": "z2Cabs5wkngp"
      }
    },
    {
      "cell_type": "code",
      "source": [
        "\n",
        "class LinearRegressionModel(nn.module):\n",
        "  def __init__(self):\n",
        "    super().__init__()\n",
        "    self.weight = nn.Parameter(torch.randn(1, \n",
        "                                           requires_grad=True,\n",
        "                                           dtype = float))\n",
        "    \n"
      ],
      "metadata": {
        "id": "Uqe-lsrckrqR"
      },
      "execution_count": null,
      "outputs": []
    }
  ]
}