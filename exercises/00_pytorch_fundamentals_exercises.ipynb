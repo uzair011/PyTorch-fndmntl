{
  "nbformat": 4,
  "nbformat_minor": 0,
  "metadata": {
    "colab": {
      "name": "00_pytorch_fundamentals_exercises.ipynb",
      "provenance": [],
      "gpuType": "T4"
    },
    "kernelspec": {
      "name": "python3",
      "display_name": "Python 3"
    },
    "language_info": {
      "name": "python"
    },
    "accelerator": "GPU"
  },
  "cells": [
    {
      "cell_type": "markdown",
      "source": [
        "# 00. PyTorch Fundamentals Exercises\n",
        "\n",
        "### 1. Documentation reading \n",
        "\n",
        "A big part of deep learning (and learning to code in general) is getting familiar with the documentation of a certain framework you're using. We'll be using the PyTorch documentation a lot throughout the rest of this course. So I'd recommend spending 10-minutes reading the following (it's okay if you don't get some things for now, the focus is not yet full understanding, it's awareness):\n",
        "  * The documentation on [`torch.Tensor`](https://pytorch.org/docs/stable/tensors.html#torch-tensor).\n",
        "  * The documentation on [`torch.cuda`](https://pytorch.org/docs/master/notes/cuda.html#cuda-semantics).\n",
        "\n"
      ],
      "metadata": {
        "id": "AzDBM_v4iMe7"
      }
    },
    {
      "cell_type": "code",
      "source": [
        "# No code solution (reading)"
      ],
      "metadata": {
        "id": "bGD0oD8Kizak"
      },
      "execution_count": 2,
      "outputs": []
    },
    {
      "cell_type": "markdown",
      "source": [
        "### 2. Create a random tensor with shape `(7, 7)`.\n"
      ],
      "metadata": {
        "id": "__iXqqz-ioUJ"
      }
    },
    {
      "cell_type": "code",
      "source": [
        "import torch\n",
        "\n",
        "\n",
        "# Create random tensor\n",
        "tensor = torch.rand(7, 7)\n",
        "tensor"
      ],
      "metadata": {
        "id": "6pUq9Dc8i2L7",
        "outputId": "088b3199-e350-4954-cbe1-88591ca53e00",
        "colab": {
          "base_uri": "https://localhost:8080/"
        }
      },
      "execution_count": 3,
      "outputs": [
        {
          "output_type": "execute_result",
          "data": {
            "text/plain": [
              "tensor([[6.6167e-01, 2.6816e-02, 8.2354e-01, 7.7111e-01, 4.8274e-01, 2.8206e-01,\n",
              "         8.3826e-01],\n",
              "        [2.6614e-01, 7.9974e-01, 3.1098e-01, 6.7082e-02, 5.8370e-01, 4.8016e-01,\n",
              "         9.1436e-01],\n",
              "        [9.2552e-01, 2.2136e-01, 1.8252e-02, 9.0224e-01, 3.0994e-01, 5.1601e-01,\n",
              "         5.2142e-01],\n",
              "        [4.6776e-01, 9.3035e-01, 9.9472e-01, 7.6768e-02, 3.6333e-02, 1.9044e-02,\n",
              "         8.0264e-04],\n",
              "        [8.4723e-01, 1.5092e-01, 1.8048e-01, 2.2035e-01, 3.1636e-01, 2.7166e-01,\n",
              "         6.0646e-02],\n",
              "        [4.5391e-02, 3.1479e-01, 9.5587e-01, 1.3593e-01, 2.1889e-01, 4.4279e-01,\n",
              "         4.1444e-01],\n",
              "        [7.2041e-01, 2.5629e-01, 9.3132e-01, 6.4967e-01, 4.1300e-01, 2.7214e-01,\n",
              "         3.9158e-01]])"
            ]
          },
          "metadata": {},
          "execution_count": 3
        }
      ]
    },
    {
      "cell_type": "markdown",
      "source": [
        "### 3. Perform a matrix multiplication on the tensor from 2 with another random tensor with shape `(1, 7)` (hint: you may have to transpose the second tensor)."
      ],
      "metadata": {
        "id": "9-XxvRLfiqkR"
      }
    },
    {
      "cell_type": "code",
      "source": [
        "# Create another random tensor\n",
        "tensor2 = torch.rand(1, 7)\n",
        "tensor2\n",
        "# Perform matrix multiplication \n",
        "multipulated_tensor = torch.mm(tensor, tensor2.T)\n",
        "print(f\"{tensor.shape}, {tensor2.shape}, {multipulated_tensor.shape}\")\n",
        "print(f\"\\n{multipulated_tensor}\")"
      ],
      "metadata": {
        "id": "NcLqR0Sbi_vT",
        "outputId": "7ae9225d-5cff-497f-f360-7e3d909e1ae8",
        "colab": {
          "base_uri": "https://localhost:8080/"
        }
      },
      "execution_count": 4,
      "outputs": [
        {
          "output_type": "stream",
          "name": "stdout",
          "text": [
            "torch.Size([7, 7]), torch.Size([1, 7]), torch.Size([7, 1])\n",
            "\n",
            "tensor([[2.0900],\n",
            "        [1.5362],\n",
            "        [1.6928],\n",
            "        [2.1035],\n",
            "        [1.2427],\n",
            "        [1.5011],\n",
            "        [2.3000]])\n"
          ]
        }
      ]
    },
    {
      "cell_type": "markdown",
      "source": [
        "### 4. Set the random seed to `0` and do 2 & 3 over again.\n",
        "\n",
        "The output should be:\n",
        "```\n",
        "(tensor([[1.8542],\n",
        "         [1.9611],\n",
        "         [2.2884],\n",
        "         [3.0481],\n",
        "         [1.7067],\n",
        "         [2.5290],\n",
        "         [1.7989]]), torch.Size([7, 1]))\n",
        "```"
      ],
      "metadata": {
        "id": "eiutdKUFiryU"
      }
    },
    {
      "cell_type": "code",
      "source": [
        "# Set manual seed\n",
        "RANDOM_SEED = 42\n",
        "\n",
        "# Create two random tensors\n",
        "torch.manual_seed(RANDOM_SEED)\n",
        "tensorA = torch.rand(7, 7)\n",
        "torch.manual_seed(RANDOM_SEED)\n",
        "tensorB = torch.rand(7, 1)\n",
        "\n",
        "# Matrix multiply tensors\n",
        "randomSeedOutput = torch.mm(tensorA, tensorB)\n",
        "randomSeedOutput, randomSeedOutput.shape"
      ],
      "metadata": {
        "id": "D-lOWI_1jRMm",
        "outputId": "cf5f3d87-dfeb-45af-92d4-e760c03d00f8",
        "colab": {
          "base_uri": "https://localhost:8080/"
        }
      },
      "execution_count": 5,
      "outputs": [
        {
          "output_type": "execute_result",
          "data": {
            "text/plain": [
              "(tensor([[3.2618],\n",
              "         [3.4084],\n",
              "         [2.4866],\n",
              "         [1.4525],\n",
              "         [1.7079],\n",
              "         [2.7291],\n",
              "         [2.9204]]),\n",
              " torch.Size([7, 1]))"
            ]
          },
          "metadata": {},
          "execution_count": 5
        }
      ]
    },
    {
      "cell_type": "markdown",
      "source": [
        "### 5. Speaking of random seeds, we saw how to set it with `torch.manual_seed()` but is there a GPU equivalent? (hint: you'll need to look into the documentation for `torch.cuda` for this one)\n",
        "  * If there is, set the GPU random seed to `1234`."
      ],
      "metadata": {
        "id": "ezY6ks9Cis37"
      }
    },
    {
      "cell_type": "code",
      "source": [
        "# Set random seed on the GPU\n",
        "RANDOM_SEED = 1234\n",
        "\n",
        "torch.manual_seed(RANDOM_SEED)\n",
        "randomTensor1 = torch.rand(7, 7)\n",
        "torch.manual_seed(RANDOM_SEED)\n",
        "randomTensor2 = torch.rand(7, 1)\n",
        "\n",
        "randomSeedOutputGPU = torch.mm(randomTensor1, randomTensor2)\n",
        "randomSeedOutputGPU, randomSeedOutputGPU.shape"
      ],
      "metadata": {
        "id": "_LKWcfSTjp00",
        "outputId": "7c9a6127-d2b0-4a22-ebfc-d783b382ab1a",
        "colab": {
          "base_uri": "https://localhost:8080/"
        }
      },
      "execution_count": 6,
      "outputs": [
        {
          "output_type": "execute_result",
          "data": {
            "text/plain": [
              "(tensor([[0.8613],\n",
              "         [1.2761],\n",
              "         [1.1540],\n",
              "         [1.0134],\n",
              "         [0.6783],\n",
              "         [1.1122],\n",
              "         [0.7266]]),\n",
              " torch.Size([7, 1]))"
            ]
          },
          "metadata": {},
          "execution_count": 6
        }
      ]
    },
    {
      "cell_type": "markdown",
      "source": [
        "\n",
        "### 6. Create two random tensors of shape `(2, 3)` and send them both to the GPU (you'll need access to a GPU for this). Set `torch.manual_seed(1234)` when creating the tensors (this doesn't have to be the GPU random seed). The output should be something like:\n",
        "\n",
        "```\n",
        "Device: cuda\n",
        "(tensor([[0.0290, 0.4019, 0.2598],\n",
        "         [0.3666, 0.0583, 0.7006]], device='cuda:0'),\n",
        " tensor([[0.0518, 0.4681, 0.6738],\n",
        "         [0.3315, 0.7837, 0.5631]], device='cuda:0'))\n",
        "```"
      ],
      "metadata": {
        "id": "Ir9qSaj6it4n"
      }
    },
    {
      "cell_type": "code",
      "source": [
        "# Set random seed\n",
        "RANDOM_SEED = 1234\n",
        "\n",
        "# Check for access to GPU\n",
        "device = \"cuda\" if torch.cuda.is_available() else \"GPU\" \n",
        "device\n",
        "# Create two random tensors on GPU\n",
        "tensor__a = torch.rand(size=(2, 3)).to(device)\n",
        "tensor__b = torch.rand(size=(2, 3)).to(device)\n",
        "\n",
        "tensor__a, tensor__b"
      ],
      "metadata": {
        "id": "azXExiFZj5nm",
        "outputId": "c1a4797e-18df-41c7-a806-d293763bdafb",
        "colab": {
          "base_uri": "https://localhost:8080/"
        }
      },
      "execution_count": 13,
      "outputs": [
        {
          "output_type": "execute_result",
          "data": {
            "text/plain": [
              "(tensor([[0.4681, 0.6738, 0.3315],\n",
              "         [0.7837, 0.5631, 0.7749]], device='cuda:0'),\n",
              " tensor([[0.8208, 0.2793, 0.6817],\n",
              "         [0.2837, 0.6567, 0.2388]], device='cuda:0'))"
            ]
          },
          "metadata": {},
          "execution_count": 13
        }
      ]
    },
    {
      "cell_type": "markdown",
      "source": [
        "\n",
        "### 7. Perform a matrix multiplication on the tensors you created in 6 (again, you may have to adjust the shapes of one of the tensors).\n",
        "\n",
        "The output should look like:\n",
        "```\n",
        "(tensor([[0.3647, 0.4709],\n",
        "         [0.5184, 0.5617]], device='cuda:0'), torch.Size([2, 2]))\n",
        "```"
      ],
      "metadata": {
        "id": "5TlAxeiSiu1y"
      }
    },
    {
      "cell_type": "code",
      "source": [
        "# Perform matmul on tensor_A and tensor_B\n"
      ],
      "metadata": {
        "id": "fAeG7ox0lHEO"
      },
      "execution_count": 8,
      "outputs": []
    },
    {
      "cell_type": "markdown",
      "source": [
        "### 8. Find the maximum and minimum values of the output of 7."
      ],
      "metadata": {
        "id": "G7qfa5CSivwg"
      }
    },
    {
      "cell_type": "code",
      "source": [
        "# Find max\n",
        "\n",
        "# Find min\n"
      ],
      "metadata": {
        "id": "Fu8_3mZpllOd"
      },
      "execution_count": 9,
      "outputs": []
    },
    {
      "cell_type": "markdown",
      "source": [
        "### 9. Find the maximum and minimum index values of the output of 7."
      ],
      "metadata": {
        "id": "wrTj5FgNiw47"
      }
    },
    {
      "cell_type": "code",
      "source": [
        "# Find arg max\n",
        "\n",
        "\n",
        "# Find arg min\n"
      ],
      "metadata": {
        "id": "CCEKt4K2lsfQ"
      },
      "execution_count": 10,
      "outputs": []
    },
    {
      "cell_type": "markdown",
      "source": [
        "\n",
        "### 10. Make a random tensor with shape `(1, 1, 1, 10)` and then create a new tensor with all the `1` dimensions removed to be left with a tensor of shape `(10)`. Set the seed to `7` when you create it and print out the first tensor and it's shape as well as the second tensor and it's shape.\n",
        "\n",
        "The output should look like:\n",
        "\n",
        "```\n",
        "tensor([[[[0.5349, 0.1988, 0.6592, 0.6569, 0.2328, 0.4251, 0.2071, 0.6297,\n",
        "           0.3653, 0.8513]]]]) torch.Size([1, 1, 1, 10])\n",
        "tensor([0.5349, 0.1988, 0.6592, 0.6569, 0.2328, 0.4251, 0.2071, 0.6297, 0.3653,\n",
        "        0.8513]) torch.Size([10])\n",
        "```"
      ],
      "metadata": {
        "id": "hmeybz4uixy7"
      }
    },
    {
      "cell_type": "code",
      "source": [
        "# Set seed\n",
        "\n",
        "\n",
        "# Create random tensor\n",
        "\n",
        "\n",
        "# Remove single dimensions\n",
        "\n",
        "\n",
        "# Print out tensors and their shapes\n"
      ],
      "metadata": {
        "id": "TQ9zbRzVl1jV"
      },
      "execution_count": 11,
      "outputs": []
    }
  ]
}