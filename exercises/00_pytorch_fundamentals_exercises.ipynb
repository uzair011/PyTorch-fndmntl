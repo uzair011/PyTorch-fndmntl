{
  "nbformat": 4,
  "nbformat_minor": 0,
  "metadata": {
    "colab": {
      "name": "00_pytorch_fundamentals_exercises.ipynb",
      "provenance": [],
      "gpuType": "T4"
    },
    "kernelspec": {
      "name": "python3",
      "display_name": "Python 3"
    },
    "language_info": {
      "name": "python"
    },
    "accelerator": "GPU"
  },
  "cells": [
    {
      "cell_type": "markdown",
      "source": [
        "# 00. PyTorch Fundamentals Exercises\n",
        "\n",
        "### 1. Documentation reading \n",
        "\n",
        "A big part of deep learning (and learning to code in general) is getting familiar with the documentation of a certain framework you're using. We'll be using the PyTorch documentation a lot throughout the rest of this course. So I'd recommend spending 10-minutes reading the following (it's okay if you don't get some things for now, the focus is not yet full understanding, it's awareness):\n",
        "  * The documentation on [`torch.Tensor`](https://pytorch.org/docs/stable/tensors.html#torch-tensor).\n",
        "  * The documentation on [`torch.cuda`](https://pytorch.org/docs/master/notes/cuda.html#cuda-semantics).\n",
        "\n"
      ],
      "metadata": {
        "id": "AzDBM_v4iMe7"
      }
    },
    {
      "cell_type": "code",
      "source": [
        "# No code solution (reading)"
      ],
      "metadata": {
        "id": "bGD0oD8Kizak"
      },
      "execution_count": 1,
      "outputs": []
    },
    {
      "cell_type": "markdown",
      "source": [
        "### 2. Create a random tensor with shape `(7, 7)`.\n"
      ],
      "metadata": {
        "id": "__iXqqz-ioUJ"
      }
    },
    {
      "cell_type": "code",
      "source": [
        "import torch\n",
        "\n",
        "\n",
        "# Create random tensor\n",
        "tensor = torch.rand(7, 7)\n",
        "tensor"
      ],
      "metadata": {
        "id": "6pUq9Dc8i2L7",
        "colab": {
          "base_uri": "https://localhost:8080/"
        },
        "outputId": "6e536c84-849b-40f4-8761-5b75c37f5748"
      },
      "execution_count": 2,
      "outputs": [
        {
          "output_type": "execute_result",
          "data": {
            "text/plain": [
              "tensor([[0.6682, 0.5610, 0.7983, 0.0954, 0.5672, 0.4382, 0.0139],\n",
              "        [0.3753, 0.6822, 0.4732, 0.1650, 0.3479, 0.6138, 0.6758],\n",
              "        [0.7893, 0.3978, 0.2222, 0.5248, 0.5716, 0.2467, 0.4832],\n",
              "        [0.9369, 0.7323, 0.1805, 0.6691, 0.8096, 0.0169, 0.5004],\n",
              "        [0.6113, 0.2766, 0.3359, 0.3508, 0.7731, 0.4397, 0.3182],\n",
              "        [0.7986, 0.6775, 0.1145, 0.6748, 0.8468, 0.9574, 0.2447],\n",
              "        [0.1519, 0.9280, 0.6256, 0.3211, 0.3942, 0.8700, 0.8572]])"
            ]
          },
          "metadata": {},
          "execution_count": 2
        }
      ]
    },
    {
      "cell_type": "markdown",
      "source": [
        "### 3. Perform a matrix multiplication on the tensor from 2 with another random tensor with shape `(1, 7)` (hint: you may have to transpose the second tensor)."
      ],
      "metadata": {
        "id": "9-XxvRLfiqkR"
      }
    },
    {
      "cell_type": "code",
      "source": [
        "# Create another random tensor\n",
        "tensor2 = torch.rand(1, 7)\n",
        "tensor2\n",
        "# Perform matrix multiplication \n",
        "multipulated_tensor = torch.mm(tensor, tensor2.T)\n",
        "print(f\"{tensor.shape}, {tensor2.shape}, {multipulated_tensor.shape}\")\n",
        "print(f\"\\n{multipulated_tensor}\")"
      ],
      "metadata": {
        "id": "NcLqR0Sbi_vT",
        "colab": {
          "base_uri": "https://localhost:8080/"
        },
        "outputId": "b5a28c32-8464-4db6-d7ca-cddee2c2ea63"
      },
      "execution_count": 3,
      "outputs": [
        {
          "output_type": "stream",
          "name": "stdout",
          "text": [
            "torch.Size([7, 7]), torch.Size([1, 7]), torch.Size([7, 1])\n",
            "\n",
            "tensor([[1.6365],\n",
            "        [1.5963],\n",
            "        [1.8785],\n",
            "        [2.5389],\n",
            "        [1.7296],\n",
            "        [2.5601],\n",
            "        [2.0305]])\n"
          ]
        }
      ]
    },
    {
      "cell_type": "markdown",
      "source": [
        "### 4. Set the random seed to `0` and do 2 & 3 over again.\n",
        "\n",
        "The output should be:\n",
        "```\n",
        "(tensor([[1.8542],\n",
        "         [1.9611],\n",
        "         [2.2884],\n",
        "         [3.0481],\n",
        "         [1.7067],\n",
        "         [2.5290],\n",
        "         [1.7989]]), torch.Size([7, 1]))\n",
        "```"
      ],
      "metadata": {
        "id": "eiutdKUFiryU"
      }
    },
    {
      "cell_type": "code",
      "source": [
        "# Set manual seed\n",
        "RANDOM_SEED = 42\n",
        "\n",
        "# Create two random tensors\n",
        "torch.manual_seed(RANDOM_SEED)\n",
        "tensorA = torch.rand(7, 7)\n",
        "torch.manual_seed(RANDOM_SEED)\n",
        "tensorB = torch.rand(7, 1)\n",
        "\n",
        "# Matrix multiply tensors\n",
        "randomSeedOutput = torch.mm(tensorA, tensorB)\n",
        "randomSeedOutput, randomSeedOutput.shape"
      ],
      "metadata": {
        "id": "D-lOWI_1jRMm",
        "colab": {
          "base_uri": "https://localhost:8080/"
        },
        "outputId": "2043e296-4f59-40bb-d266-4a47b38b3828"
      },
      "execution_count": 4,
      "outputs": [
        {
          "output_type": "execute_result",
          "data": {
            "text/plain": [
              "(tensor([[3.2618],\n",
              "         [3.4084],\n",
              "         [2.4866],\n",
              "         [1.4525],\n",
              "         [1.7079],\n",
              "         [2.7291],\n",
              "         [2.9204]]),\n",
              " torch.Size([7, 1]))"
            ]
          },
          "metadata": {},
          "execution_count": 4
        }
      ]
    },
    {
      "cell_type": "markdown",
      "source": [
        "### 5. Speaking of random seeds, we saw how to set it with `torch.manual_seed()` but is there a GPU equivalent? (hint: you'll need to look into the documentation for `torch.cuda` for this one)\n",
        "  * If there is, set the GPU random seed to `1234`."
      ],
      "metadata": {
        "id": "ezY6ks9Cis37"
      }
    },
    {
      "cell_type": "code",
      "source": [
        "# Set random seed on the GPU\n",
        "RANDOM_SEED = 1234\n",
        "\n",
        "torch.manual_seed(RANDOM_SEED)\n",
        "randomTensor1 = torch.rand(7, 7)\n",
        "torch.manual_seed(RANDOM_SEED)\n",
        "randomTensor2 = torch.rand(7, 1)\n",
        "\n",
        "randomSeedOutputGPU = torch.mm(randomTensor1, randomTensor2)\n",
        "randomSeedOutputGPU, randomSeedOutputGPU.shape"
      ],
      "metadata": {
        "id": "_LKWcfSTjp00",
        "colab": {
          "base_uri": "https://localhost:8080/"
        },
        "outputId": "19361b1c-ab64-4285-de40-dec36051f385"
      },
      "execution_count": 5,
      "outputs": [
        {
          "output_type": "execute_result",
          "data": {
            "text/plain": [
              "(tensor([[0.8613],\n",
              "         [1.2761],\n",
              "         [1.1540],\n",
              "         [1.0134],\n",
              "         [0.6783],\n",
              "         [1.1122],\n",
              "         [0.7266]]),\n",
              " torch.Size([7, 1]))"
            ]
          },
          "metadata": {},
          "execution_count": 5
        }
      ]
    },
    {
      "cell_type": "markdown",
      "source": [
        "\n",
        "### 6. Create two random tensors of shape `(2, 3)` and send them both to the GPU (you'll need access to a GPU for this). Set `torch.manual_seed(1234)` when creating the tensors (this doesn't have to be the GPU random seed). The output should be something like:\n",
        "\n",
        "```\n",
        "Device: cuda\n",
        "(tensor([[0.0290, 0.4019, 0.2598],\n",
        "         [0.3666, 0.0583, 0.7006]], device='cuda:0'),\n",
        " tensor([[0.0518, 0.4681, 0.6738],\n",
        "         [0.3315, 0.7837, 0.5631]], device='cuda:0'))\n",
        "```"
      ],
      "metadata": {
        "id": "Ir9qSaj6it4n"
      }
    },
    {
      "cell_type": "code",
      "source": [
        "# Set random seed\n",
        "RANDOM_SEED = 1234\n",
        "\n",
        "# Check for access to GPU\n",
        "device = \"cuda\" if torch.cuda.is_available() else \"GPU\" \n",
        "device\n",
        "# Create two random tensors on GPU\n",
        "tensor__a = torch.rand(size=(2, 3)).to(device)\n",
        "tensor__b = torch.rand(size=(2, 3)).to(device)\n",
        "\n",
        "tensor__a, tensor__b"
      ],
      "metadata": {
        "id": "azXExiFZj5nm",
        "colab": {
          "base_uri": "https://localhost:8080/"
        },
        "outputId": "93605b27-df7d-433c-f5a5-fe8aebed2c8e"
      },
      "execution_count": 6,
      "outputs": [
        {
          "output_type": "execute_result",
          "data": {
            "text/plain": [
              "(tensor([[0.4681, 0.6738, 0.3315],\n",
              "         [0.7837, 0.5631, 0.7749]], device='cuda:0'),\n",
              " tensor([[0.8208, 0.2793, 0.6817],\n",
              "         [0.2837, 0.6567, 0.2388]], device='cuda:0'))"
            ]
          },
          "metadata": {},
          "execution_count": 6
        }
      ]
    },
    {
      "cell_type": "markdown",
      "source": [
        "\n",
        "### 7. Perform a matrix multiplication on the tensors you created in 6 (again, you may have to adjust the shapes of one of the tensors).\n",
        "\n",
        "The output should look like:\n",
        "```\n",
        "(tensor([[0.3647, 0.4709],\n",
        "         [0.5184, 0.5617]], device='cuda:0'), torch.Size([2, 2]))\n",
        "```"
      ],
      "metadata": {
        "id": "5TlAxeiSiu1y"
      }
    },
    {
      "cell_type": "code",
      "source": [
        "# Perform matmul on tensor_A and tensor_B\n",
        "tensor_mm = torch.mm(tensor__a, tensor__b.T)\n",
        "tensor_mm, tensor_mm.shape"
      ],
      "metadata": {
        "id": "fAeG7ox0lHEO",
        "colab": {
          "base_uri": "https://localhost:8080/"
        },
        "outputId": "214e9715-05cf-479c-e00d-689a68fb8379"
      },
      "execution_count": 13,
      "outputs": [
        {
          "output_type": "execute_result",
          "data": {
            "text/plain": [
              "(tensor([[0.7984, 0.6544],\n",
              "         [1.3287, 0.7771]], device='cuda:0'),\n",
              " torch.Size([2, 2]))"
            ]
          },
          "metadata": {},
          "execution_count": 13
        }
      ]
    },
    {
      "cell_type": "markdown",
      "source": [
        "### 8. Find the maximum and minimum values of the output of 7."
      ],
      "metadata": {
        "id": "G7qfa5CSivwg"
      }
    },
    {
      "cell_type": "code",
      "source": [
        "# Find max\n",
        "tensor_max = torch.max(tensor_mm)\n",
        "print(tensor_max)\n",
        "\n",
        "# Find min\n",
        "tensor_min = torch.min(tensor_mm)\n",
        "print(tensor_min)"
      ],
      "metadata": {
        "id": "Fu8_3mZpllOd",
        "colab": {
          "base_uri": "https://localhost:8080/"
        },
        "outputId": "51ead129-9bc5-4de2-878f-66cc54686b7e"
      },
      "execution_count": 23,
      "outputs": [
        {
          "output_type": "stream",
          "name": "stdout",
          "text": [
            "tensor(1.3287, device='cuda:0')\n",
            "tensor(0.6544, device='cuda:0')\n"
          ]
        }
      ]
    },
    {
      "cell_type": "markdown",
      "source": [
        "### 9. Find the maximum and minimum index values of the output of 7."
      ],
      "metadata": {
        "id": "wrTj5FgNiw47"
      }
    },
    {
      "cell_type": "code",
      "source": [
        "# Find arg max\n",
        "argmax_ = torch.argmax(tensor_mm)\n",
        "print(argmax_)\n",
        "\n",
        "# Find arg min\n",
        "argmin_ = torch.argmin(tensor_mm)\n",
        "print(argmin_)"
      ],
      "metadata": {
        "id": "CCEKt4K2lsfQ",
        "colab": {
          "base_uri": "https://localhost:8080/"
        },
        "outputId": "b6af8794-5a5d-42e2-bdf3-db3deecc1c1f"
      },
      "execution_count": 25,
      "outputs": [
        {
          "output_type": "stream",
          "name": "stdout",
          "text": [
            "tensor(2, device='cuda:0')\n",
            "tensor(1, device='cuda:0')\n"
          ]
        }
      ]
    },
    {
      "cell_type": "markdown",
      "source": [
        "\n",
        "### 10. Make a random tensor with shape `(1, 1, 1, 10)` and then create a new tensor with all the `1` dimensions removed to be left with a tensor of shape `(10)`. Set the seed to `7` when you create it and print out the first tensor and it's shape as well as the second tensor and it's shape.\n",
        "\n",
        "The output should look like:\n",
        "\n",
        "```\n",
        "tensor([[[[0.5349, 0.1988, 0.6592, 0.6569, 0.2328, 0.4251, 0.2071, 0.6297,\n",
        "           0.3653, 0.8513]]]]) torch.Size([1, 1, 1, 10])\n",
        "tensor([0.5349, 0.1988, 0.6592, 0.6569, 0.2328, 0.4251, 0.2071, 0.6297, 0.3653,\n",
        "        0.8513]) torch.Size([10])\n",
        "```"
      ],
      "metadata": {
        "id": "hmeybz4uixy7"
      }
    },
    {
      "cell_type": "code",
      "source": [
        "# Set seed\n",
        "MANUAL_SEED = 7\n",
        "\n",
        "# Create random tensor\n",
        "random_tensor = torch.rand(size=(1, 1, 1, 10))\n",
        "\n",
        "# Remove single dimensions\n",
        "remove1_dim = random_tensor.squeeze()\n",
        "\n",
        "# Print out tensors and their shapes\n",
        "remove1_dim, remove1_dim.size"
      ],
      "metadata": {
        "id": "TQ9zbRzVl1jV",
        "colab": {
          "base_uri": "https://localhost:8080/"
        },
        "outputId": "d16a54b6-74dc-4a7c-9d1c-33528ea3e809"
      },
      "execution_count": 27,
      "outputs": [
        {
          "output_type": "execute_result",
          "data": {
            "text/plain": [
              "(tensor([0.1525, 0.6662, 0.3343, 0.7893, 0.3216, 0.5247, 0.6688, 0.8436, 0.4265,\n",
              "         0.9561]),\n",
              " <function Tensor.size>)"
            ]
          },
          "metadata": {},
          "execution_count": 27
        }
      ]
    }
  ]
}