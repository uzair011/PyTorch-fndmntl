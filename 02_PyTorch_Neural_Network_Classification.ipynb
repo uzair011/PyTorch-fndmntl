{
  "nbformat": 4,
  "nbformat_minor": 0,
  "metadata": {
    "colab": {
      "provenance": [],
      "gpuType": "T4",
      "authorship_tag": "ABX9TyMrHLUDy2sRAZH7ahkWiWvJ",
      "include_colab_link": true
    },
    "kernelspec": {
      "name": "python3",
      "display_name": "Python 3"
    },
    "language_info": {
      "name": "python"
    },
    "accelerator": "GPU"
  },
  "cells": [
    {
      "cell_type": "markdown",
      "metadata": {
        "id": "view-in-github",
        "colab_type": "text"
      },
      "source": [
        "<a href=\"https://colab.research.google.com/github/uzair011/PyTorch-fndmntl/blob/main/02_PyTorch_Neural_Network_Classification.ipynb\" target=\"_parent\"><img src=\"https://colab.research.google.com/assets/colab-badge.svg\" alt=\"Open In Colab\"/></a>"
      ]
    },
    {
      "cell_type": "markdown",
      "source": [
        "### 02. Neural network classification with pytorch\n",
        "Classification is a problem of predicting whether something is onething or another (there can be multiple things as te options)"
      ],
      "metadata": {
        "id": "leaptS5ubwPK"
      }
    },
    {
      "cell_type": "markdown",
      "source": [
        "### 01. Make classification data and get it ready\n"
      ],
      "metadata": {
        "id": "aUmB_jtQid9Y"
      }
    },
    {
      "cell_type": "code",
      "source": [
        "import sklearn"
      ],
      "metadata": {
        "id": "ca2zQk3_BBjg"
      },
      "execution_count": null,
      "outputs": []
    },
    {
      "cell_type": "code",
      "source": [
        "from sklearn.datasets import make_circles\n",
        "\n",
        "# make 1000 samples\n",
        "n_circles = 1000\n",
        "\n",
        "# create circles\n",
        "X, y = make_circles(n_circles,\n",
        "                    noise=0.03,\n",
        "                    random_state=42)"
      ],
      "metadata": {
        "id": "UYQdevw0BcH5"
      },
      "execution_count": null,
      "outputs": []
    },
    {
      "cell_type": "code",
      "source": [
        "len(X), len(y)"
      ],
      "metadata": {
        "colab": {
          "base_uri": "https://localhost:8080/"
        },
        "id": "mbZAs2dLCCFC",
        "outputId": "5fc8c809-3ef3-4078-81a6-abc1b0e0f66e"
      },
      "execution_count": null,
      "outputs": [
        {
          "output_type": "execute_result",
          "data": {
            "text/plain": [
              "(1000, 1000)"
            ]
          },
          "metadata": {},
          "execution_count": 157
        }
      ]
    },
    {
      "cell_type": "code",
      "source": [
        "print(f\"First 5 samples of X are: \\n{X[:5]}\")\n",
        "print(f\"\\nFirst 5 samples of y are: \\n{y[:5]}\")"
      ],
      "metadata": {
        "colab": {
          "base_uri": "https://localhost:8080/"
        },
        "id": "zyJm0vjdCK4e",
        "outputId": "577da6d8-36c1-42c2-a346-36d4e559e376"
      },
      "execution_count": null,
      "outputs": [
        {
          "output_type": "stream",
          "name": "stdout",
          "text": [
            "First 5 samples of X are: \n",
            "[[ 0.75424625  0.23148074]\n",
            " [-0.75615888  0.15325888]\n",
            " [-0.81539193  0.17328203]\n",
            " [-0.39373073  0.69288277]\n",
            " [ 0.44220765 -0.89672343]]\n",
            "\n",
            "First 5 samples of y are: \n",
            "[1 1 1 1 0]\n"
          ]
        }
      ]
    },
    {
      "cell_type": "code",
      "source": [
        "y # Binary classification"
      ],
      "metadata": {
        "colab": {
          "base_uri": "https://localhost:8080/"
        },
        "id": "ukjACNxeClkv",
        "outputId": "963a2e50-4da8-472b-d4fd-419b7e055cbd"
      },
      "execution_count": null,
      "outputs": [
        {
          "output_type": "execute_result",
          "data": {
            "text/plain": [
              "array([1, 1, 1, 1, 0, 1, 1, 1, 1, 0, 1, 0, 1, 1, 1, 1, 0, 1, 1, 0, 1, 0,\n",
              "       0, 1, 0, 0, 0, 1, 1, 1, 0, 0, 1, 0, 0, 0, 1, 1, 1, 0, 0, 0, 0, 1,\n",
              "       0, 0, 1, 1, 0, 1, 1, 1, 0, 1, 0, 0, 1, 0, 0, 1, 0, 0, 1, 0, 1, 1,\n",
              "       1, 1, 0, 1, 0, 0, 1, 1, 0, 0, 1, 0, 1, 0, 1, 0, 0, 0, 0, 1, 1, 1,\n",
              "       1, 0, 0, 0, 1, 0, 1, 0, 1, 0, 0, 1, 1, 0, 1, 0, 1, 1, 1, 1, 0, 1,\n",
              "       1, 1, 1, 1, 0, 0, 0, 1, 1, 0, 1, 0, 1, 0, 0, 1, 1, 0, 1, 1, 1, 1,\n",
              "       0, 1, 1, 0, 0, 0, 0, 0, 0, 0, 1, 0, 1, 1, 1, 0, 1, 0, 1, 0, 1, 0,\n",
              "       1, 0, 0, 1, 0, 1, 1, 1, 1, 1, 1, 1, 0, 1, 0, 0, 0, 0, 0, 1, 0, 0,\n",
              "       0, 0, 1, 1, 0, 1, 0, 1, 1, 0, 0, 0, 1, 1, 1, 1, 1, 0, 0, 0, 0, 0,\n",
              "       1, 0, 0, 1, 1, 1, 1, 1, 0, 1, 0, 1, 0, 0, 1, 1, 1, 0, 1, 0, 1, 1,\n",
              "       0, 1, 1, 0, 1, 0, 1, 0, 1, 1, 0, 1, 0, 1, 0, 0, 0, 1, 0, 0, 0, 0,\n",
              "       1, 1, 0, 0, 0, 0, 0, 0, 0, 1, 1, 1, 0, 0, 1, 1, 1, 0, 1, 0, 0, 0,\n",
              "       0, 1, 1, 0, 1, 0, 0, 0, 1, 0, 1, 0, 0, 1, 0, 1, 1, 1, 0, 0, 0, 1,\n",
              "       0, 0, 0, 1, 1, 1, 1, 0, 0, 0, 1, 0, 0, 0, 1, 0, 0, 0, 1, 1, 0, 1,\n",
              "       1, 1, 1, 1, 1, 1, 0, 0, 0, 0, 1, 0, 0, 0, 0, 1, 1, 1, 0, 0, 1, 0,\n",
              "       1, 0, 1, 1, 0, 0, 1, 1, 1, 1, 0, 0, 0, 0, 0, 0, 1, 1, 0, 1, 0, 0,\n",
              "       1, 0, 0, 0, 0, 0, 0, 0, 0, 1, 0, 0, 0, 0, 1, 0, 0, 1, 0, 1, 0, 0,\n",
              "       0, 1, 0, 0, 1, 1, 0, 0, 1, 0, 0, 1, 1, 0, 1, 1, 0, 0, 1, 0, 1, 0,\n",
              "       0, 0, 1, 1, 0, 0, 1, 1, 1, 1, 1, 0, 0, 1, 1, 1, 1, 0, 1, 1, 1, 1,\n",
              "       1, 0, 0, 1, 0, 1, 0, 0, 0, 0, 1, 0, 0, 0, 0, 0, 0, 0, 0, 0, 1, 1,\n",
              "       0, 1, 1, 1, 1, 1, 1, 0, 1, 1, 1, 1, 0, 0, 0, 1, 1, 1, 0, 0, 0, 0,\n",
              "       1, 1, 0, 0, 0, 0, 1, 0, 0, 0, 1, 0, 0, 1, 1, 1, 1, 1, 1, 0, 0, 0,\n",
              "       1, 0, 0, 0, 0, 0, 1, 1, 1, 0, 0, 0, 0, 0, 1, 1, 1, 0, 0, 1, 1, 1,\n",
              "       1, 0, 1, 1, 0, 1, 0, 0, 0, 1, 0, 0, 1, 0, 0, 1, 1, 0, 0, 1, 1, 0,\n",
              "       1, 0, 1, 0, 1, 0, 1, 0, 0, 0, 1, 0, 0, 0, 0, 0, 0, 1, 1, 1, 1, 0,\n",
              "       0, 0, 1, 0, 1, 1, 0, 0, 0, 0, 0, 1, 1, 1, 0, 0, 1, 0, 0, 1, 0, 0,\n",
              "       1, 0, 0, 1, 0, 0, 0, 1, 0, 0, 1, 1, 1, 0, 1, 1, 0, 0, 0, 1, 1, 1,\n",
              "       1, 0, 0, 1, 1, 1, 0, 0, 0, 0, 1, 1, 0, 0, 1, 1, 0, 0, 1, 1, 1, 1,\n",
              "       1, 1, 1, 0, 1, 0, 1, 0, 0, 1, 0, 1, 1, 1, 1, 0, 0, 1, 1, 0, 0, 1,\n",
              "       0, 1, 0, 0, 0, 1, 0, 0, 1, 1, 1, 1, 0, 1, 1, 1, 1, 1, 1, 1, 0, 1,\n",
              "       0, 1, 1, 1, 0, 0, 1, 0, 0, 0, 1, 1, 1, 1, 0, 0, 0, 0, 1, 0, 1, 1,\n",
              "       1, 0, 1, 0, 0, 1, 0, 0, 1, 1, 1, 1, 1, 0, 1, 0, 0, 0, 1, 1, 1, 1,\n",
              "       1, 0, 0, 0, 1, 1, 1, 1, 0, 0, 0, 0, 0, 1, 1, 0, 1, 0, 1, 0, 0, 0,\n",
              "       0, 0, 0, 0, 0, 0, 1, 1, 1, 1, 1, 0, 1, 0, 1, 1, 1, 1, 0, 1, 1, 1,\n",
              "       1, 1, 1, 1, 1, 0, 1, 1, 0, 1, 0, 0, 0, 1, 0, 1, 1, 1, 0, 1, 1, 0,\n",
              "       1, 1, 0, 1, 0, 1, 1, 0, 0, 1, 1, 1, 0, 0, 0, 0, 1, 1, 0, 0, 1, 1,\n",
              "       1, 1, 1, 1, 1, 1, 1, 1, 1, 1, 1, 1, 0, 0, 1, 0, 1, 0, 1, 0, 1, 1,\n",
              "       1, 1, 1, 1, 0, 1, 0, 1, 1, 1, 0, 1, 1, 0, 0, 1, 0, 1, 1, 0, 0, 1,\n",
              "       1, 1, 1, 1, 1, 1, 1, 0, 1, 1, 1, 0, 1, 0, 0, 1, 1, 0, 0, 0, 1, 0,\n",
              "       0, 1, 0, 0, 0, 1, 0, 1, 0, 0, 0, 0, 1, 0, 1, 1, 1, 1, 0, 1, 0, 0,\n",
              "       0, 0, 0, 0, 1, 0, 1, 0, 1, 0, 1, 1, 1, 0, 1, 0, 1, 0, 0, 1, 1, 1,\n",
              "       0, 0, 0, 1, 1, 0, 1, 0, 1, 1, 0, 1, 0, 0, 1, 1, 1, 0, 0, 0, 1, 1,\n",
              "       0, 0, 0, 0, 0, 1, 1, 0, 1, 0, 0, 0, 1, 0, 0, 0, 1, 1, 1, 1, 0, 1,\n",
              "       1, 1, 0, 1, 1, 1, 1, 0, 1, 1, 0, 1, 1, 0, 0, 1, 1, 1, 0, 0, 0, 0,\n",
              "       0, 0, 1, 0, 0, 1, 0, 0, 0, 1, 0, 1, 0, 1, 1, 0, 0, 0, 0, 0, 0, 0,\n",
              "       0, 1, 0, 1, 0, 0, 0, 1, 0, 0])"
            ]
          },
          "metadata": {},
          "execution_count": 159
        }
      ]
    },
    {
      "cell_type": "code",
      "source": [
        "# Make dataframe of circle data\n",
        "import pandas as pd\n",
        "\n",
        "circles = pd.DataFrame({ \"X1\": X[:, 0],\n",
        "                         \"X2\": X[:, 1],\n",
        "                         \"Label\": y })\n",
        "\n",
        "circles.head(10)"
      ],
      "metadata": {
        "colab": {
          "base_uri": "https://localhost:8080/",
          "height": 362
        },
        "id": "lQrNJL7pDO20",
        "outputId": "9b318a6e-1b54-49fb-e88e-c234987c5926"
      },
      "execution_count": null,
      "outputs": [
        {
          "output_type": "execute_result",
          "data": {
            "text/plain": [
              "         X1        X2  Label\n",
              "0  0.754246  0.231481      1\n",
              "1 -0.756159  0.153259      1\n",
              "2 -0.815392  0.173282      1\n",
              "3 -0.393731  0.692883      1\n",
              "4  0.442208 -0.896723      0\n",
              "5 -0.479646  0.676435      1\n",
              "6 -0.013648  0.803349      1\n",
              "7  0.771513  0.147760      1\n",
              "8 -0.169322 -0.793456      1\n",
              "9 -0.121486  1.021509      0"
            ],
            "text/html": [
              "\n",
              "  <div id=\"df-dd86f275-5a3e-4914-928c-e46fa7a4dedb\" class=\"colab-df-container\">\n",
              "    <div>\n",
              "<style scoped>\n",
              "    .dataframe tbody tr th:only-of-type {\n",
              "        vertical-align: middle;\n",
              "    }\n",
              "\n",
              "    .dataframe tbody tr th {\n",
              "        vertical-align: top;\n",
              "    }\n",
              "\n",
              "    .dataframe thead th {\n",
              "        text-align: right;\n",
              "    }\n",
              "</style>\n",
              "<table border=\"1\" class=\"dataframe\">\n",
              "  <thead>\n",
              "    <tr style=\"text-align: right;\">\n",
              "      <th></th>\n",
              "      <th>X1</th>\n",
              "      <th>X2</th>\n",
              "      <th>Label</th>\n",
              "    </tr>\n",
              "  </thead>\n",
              "  <tbody>\n",
              "    <tr>\n",
              "      <th>0</th>\n",
              "      <td>0.754246</td>\n",
              "      <td>0.231481</td>\n",
              "      <td>1</td>\n",
              "    </tr>\n",
              "    <tr>\n",
              "      <th>1</th>\n",
              "      <td>-0.756159</td>\n",
              "      <td>0.153259</td>\n",
              "      <td>1</td>\n",
              "    </tr>\n",
              "    <tr>\n",
              "      <th>2</th>\n",
              "      <td>-0.815392</td>\n",
              "      <td>0.173282</td>\n",
              "      <td>1</td>\n",
              "    </tr>\n",
              "    <tr>\n",
              "      <th>3</th>\n",
              "      <td>-0.393731</td>\n",
              "      <td>0.692883</td>\n",
              "      <td>1</td>\n",
              "    </tr>\n",
              "    <tr>\n",
              "      <th>4</th>\n",
              "      <td>0.442208</td>\n",
              "      <td>-0.896723</td>\n",
              "      <td>0</td>\n",
              "    </tr>\n",
              "    <tr>\n",
              "      <th>5</th>\n",
              "      <td>-0.479646</td>\n",
              "      <td>0.676435</td>\n",
              "      <td>1</td>\n",
              "    </tr>\n",
              "    <tr>\n",
              "      <th>6</th>\n",
              "      <td>-0.013648</td>\n",
              "      <td>0.803349</td>\n",
              "      <td>1</td>\n",
              "    </tr>\n",
              "    <tr>\n",
              "      <th>7</th>\n",
              "      <td>0.771513</td>\n",
              "      <td>0.147760</td>\n",
              "      <td>1</td>\n",
              "    </tr>\n",
              "    <tr>\n",
              "      <th>8</th>\n",
              "      <td>-0.169322</td>\n",
              "      <td>-0.793456</td>\n",
              "      <td>1</td>\n",
              "    </tr>\n",
              "    <tr>\n",
              "      <th>9</th>\n",
              "      <td>-0.121486</td>\n",
              "      <td>1.021509</td>\n",
              "      <td>0</td>\n",
              "    </tr>\n",
              "  </tbody>\n",
              "</table>\n",
              "</div>\n",
              "    <div class=\"colab-df-buttons\">\n",
              "\n",
              "  <div class=\"colab-df-container\">\n",
              "    <button class=\"colab-df-convert\" onclick=\"convertToInteractive('df-dd86f275-5a3e-4914-928c-e46fa7a4dedb')\"\n",
              "            title=\"Convert this dataframe to an interactive table.\"\n",
              "            style=\"display:none;\">\n",
              "\n",
              "  <svg xmlns=\"http://www.w3.org/2000/svg\" height=\"24px\" viewBox=\"0 -960 960 960\">\n",
              "    <path d=\"M120-120v-720h720v720H120Zm60-500h600v-160H180v160Zm220 220h160v-160H400v160Zm0 220h160v-160H400v160ZM180-400h160v-160H180v160Zm440 0h160v-160H620v160ZM180-180h160v-160H180v160Zm440 0h160v-160H620v160Z\"/>\n",
              "  </svg>\n",
              "    </button>\n",
              "\n",
              "  <style>\n",
              "    .colab-df-container {\n",
              "      display:flex;\n",
              "      gap: 12px;\n",
              "    }\n",
              "\n",
              "    .colab-df-convert {\n",
              "      background-color: #E8F0FE;\n",
              "      border: none;\n",
              "      border-radius: 50%;\n",
              "      cursor: pointer;\n",
              "      display: none;\n",
              "      fill: #1967D2;\n",
              "      height: 32px;\n",
              "      padding: 0 0 0 0;\n",
              "      width: 32px;\n",
              "    }\n",
              "\n",
              "    .colab-df-convert:hover {\n",
              "      background-color: #E2EBFA;\n",
              "      box-shadow: 0px 1px 2px rgba(60, 64, 67, 0.3), 0px 1px 3px 1px rgba(60, 64, 67, 0.15);\n",
              "      fill: #174EA6;\n",
              "    }\n",
              "\n",
              "    .colab-df-buttons div {\n",
              "      margin-bottom: 4px;\n",
              "    }\n",
              "\n",
              "    [theme=dark] .colab-df-convert {\n",
              "      background-color: #3B4455;\n",
              "      fill: #D2E3FC;\n",
              "    }\n",
              "\n",
              "    [theme=dark] .colab-df-convert:hover {\n",
              "      background-color: #434B5C;\n",
              "      box-shadow: 0px 1px 3px 1px rgba(0, 0, 0, 0.15);\n",
              "      filter: drop-shadow(0px 1px 2px rgba(0, 0, 0, 0.3));\n",
              "      fill: #FFFFFF;\n",
              "    }\n",
              "  </style>\n",
              "\n",
              "    <script>\n",
              "      const buttonEl =\n",
              "        document.querySelector('#df-dd86f275-5a3e-4914-928c-e46fa7a4dedb button.colab-df-convert');\n",
              "      buttonEl.style.display =\n",
              "        google.colab.kernel.accessAllowed ? 'block' : 'none';\n",
              "\n",
              "      async function convertToInteractive(key) {\n",
              "        const element = document.querySelector('#df-dd86f275-5a3e-4914-928c-e46fa7a4dedb');\n",
              "        const dataTable =\n",
              "          await google.colab.kernel.invokeFunction('convertToInteractive',\n",
              "                                                    [key], {});\n",
              "        if (!dataTable) return;\n",
              "\n",
              "        const docLinkHtml = 'Like what you see? Visit the ' +\n",
              "          '<a target=\"_blank\" href=https://colab.research.google.com/notebooks/data_table.ipynb>data table notebook</a>'\n",
              "          + ' to learn more about interactive tables.';\n",
              "        element.innerHTML = '';\n",
              "        dataTable['output_type'] = 'display_data';\n",
              "        await google.colab.output.renderOutput(dataTable, element);\n",
              "        const docLink = document.createElement('div');\n",
              "        docLink.innerHTML = docLinkHtml;\n",
              "        element.appendChild(docLink);\n",
              "      }\n",
              "    </script>\n",
              "  </div>\n",
              "\n",
              "\n",
              "<div id=\"df-2a42b9cd-6b9e-4b00-b6e3-eb686a054809\">\n",
              "  <button class=\"colab-df-quickchart\" onclick=\"quickchart('df-2a42b9cd-6b9e-4b00-b6e3-eb686a054809')\"\n",
              "            title=\"Suggest charts.\"\n",
              "            style=\"display:none;\">\n",
              "\n",
              "<svg xmlns=\"http://www.w3.org/2000/svg\" height=\"24px\"viewBox=\"0 0 24 24\"\n",
              "     width=\"24px\">\n",
              "    <g>\n",
              "        <path d=\"M19 3H5c-1.1 0-2 .9-2 2v14c0 1.1.9 2 2 2h14c1.1 0 2-.9 2-2V5c0-1.1-.9-2-2-2zM9 17H7v-7h2v7zm4 0h-2V7h2v10zm4 0h-2v-4h2v4z\"/>\n",
              "    </g>\n",
              "</svg>\n",
              "  </button>\n",
              "\n",
              "<style>\n",
              "  .colab-df-quickchart {\n",
              "      --bg-color: #E8F0FE;\n",
              "      --fill-color: #1967D2;\n",
              "      --hover-bg-color: #E2EBFA;\n",
              "      --hover-fill-color: #174EA6;\n",
              "      --disabled-fill-color: #AAA;\n",
              "      --disabled-bg-color: #DDD;\n",
              "  }\n",
              "\n",
              "  [theme=dark] .colab-df-quickchart {\n",
              "      --bg-color: #3B4455;\n",
              "      --fill-color: #D2E3FC;\n",
              "      --hover-bg-color: #434B5C;\n",
              "      --hover-fill-color: #FFFFFF;\n",
              "      --disabled-bg-color: #3B4455;\n",
              "      --disabled-fill-color: #666;\n",
              "  }\n",
              "\n",
              "  .colab-df-quickchart {\n",
              "    background-color: var(--bg-color);\n",
              "    border: none;\n",
              "    border-radius: 50%;\n",
              "    cursor: pointer;\n",
              "    display: none;\n",
              "    fill: var(--fill-color);\n",
              "    height: 32px;\n",
              "    padding: 0;\n",
              "    width: 32px;\n",
              "  }\n",
              "\n",
              "  .colab-df-quickchart:hover {\n",
              "    background-color: var(--hover-bg-color);\n",
              "    box-shadow: 0 1px 2px rgba(60, 64, 67, 0.3), 0 1px 3px 1px rgba(60, 64, 67, 0.15);\n",
              "    fill: var(--button-hover-fill-color);\n",
              "  }\n",
              "\n",
              "  .colab-df-quickchart-complete:disabled,\n",
              "  .colab-df-quickchart-complete:disabled:hover {\n",
              "    background-color: var(--disabled-bg-color);\n",
              "    fill: var(--disabled-fill-color);\n",
              "    box-shadow: none;\n",
              "  }\n",
              "\n",
              "  .colab-df-spinner {\n",
              "    border: 2px solid var(--fill-color);\n",
              "    border-color: transparent;\n",
              "    border-bottom-color: var(--fill-color);\n",
              "    animation:\n",
              "      spin 1s steps(1) infinite;\n",
              "  }\n",
              "\n",
              "  @keyframes spin {\n",
              "    0% {\n",
              "      border-color: transparent;\n",
              "      border-bottom-color: var(--fill-color);\n",
              "      border-left-color: var(--fill-color);\n",
              "    }\n",
              "    20% {\n",
              "      border-color: transparent;\n",
              "      border-left-color: var(--fill-color);\n",
              "      border-top-color: var(--fill-color);\n",
              "    }\n",
              "    30% {\n",
              "      border-color: transparent;\n",
              "      border-left-color: var(--fill-color);\n",
              "      border-top-color: var(--fill-color);\n",
              "      border-right-color: var(--fill-color);\n",
              "    }\n",
              "    40% {\n",
              "      border-color: transparent;\n",
              "      border-right-color: var(--fill-color);\n",
              "      border-top-color: var(--fill-color);\n",
              "    }\n",
              "    60% {\n",
              "      border-color: transparent;\n",
              "      border-right-color: var(--fill-color);\n",
              "    }\n",
              "    80% {\n",
              "      border-color: transparent;\n",
              "      border-right-color: var(--fill-color);\n",
              "      border-bottom-color: var(--fill-color);\n",
              "    }\n",
              "    90% {\n",
              "      border-color: transparent;\n",
              "      border-bottom-color: var(--fill-color);\n",
              "    }\n",
              "  }\n",
              "</style>\n",
              "\n",
              "  <script>\n",
              "    async function quickchart(key) {\n",
              "      const quickchartButtonEl =\n",
              "        document.querySelector('#' + key + ' button');\n",
              "      quickchartButtonEl.disabled = true;  // To prevent multiple clicks.\n",
              "      quickchartButtonEl.classList.add('colab-df-spinner');\n",
              "      try {\n",
              "        const charts = await google.colab.kernel.invokeFunction(\n",
              "            'suggestCharts', [key], {});\n",
              "      } catch (error) {\n",
              "        console.error('Error during call to suggestCharts:', error);\n",
              "      }\n",
              "      quickchartButtonEl.classList.remove('colab-df-spinner');\n",
              "      quickchartButtonEl.classList.add('colab-df-quickchart-complete');\n",
              "    }\n",
              "    (() => {\n",
              "      let quickchartButtonEl =\n",
              "        document.querySelector('#df-2a42b9cd-6b9e-4b00-b6e3-eb686a054809 button');\n",
              "      quickchartButtonEl.style.display =\n",
              "        google.colab.kernel.accessAllowed ? 'block' : 'none';\n",
              "    })();\n",
              "  </script>\n",
              "</div>\n",
              "    </div>\n",
              "  </div>\n"
            ]
          },
          "metadata": {},
          "execution_count": 160
        }
      ]
    },
    {
      "cell_type": "code",
      "source": [
        "circles.Label.value_counts()\n"
      ],
      "metadata": {
        "colab": {
          "base_uri": "https://localhost:8080/"
        },
        "id": "JspcoEfVJ5tf",
        "outputId": "6e9e5ab5-104f-46c3-8c3d-c71f6d264730"
      },
      "execution_count": null,
      "outputs": [
        {
          "output_type": "execute_result",
          "data": {
            "text/plain": [
              "1    500\n",
              "0    500\n",
              "Name: Label, dtype: int64"
            ]
          },
          "metadata": {},
          "execution_count": 161
        }
      ]
    },
    {
      "cell_type": "code",
      "source": [
        "# VisUAliZE,...\n",
        "import matplotlib.pyplot as plt\n",
        "\n",
        "plt.scatter(\n",
        "    x = X[:, 0],\n",
        "    y = X[:, 1],\n",
        "    c = y, # labels\n",
        "    cmap=plt.cm.RdYlBu\n",
        ");"
      ],
      "metadata": {
        "colab": {
          "base_uri": "https://localhost:8080/",
          "height": 430
        },
        "id": "f6_nE00zIVGz",
        "outputId": "8b00f607-b53a-4d76-8f3a-f72384d22b48"
      },
      "execution_count": null,
      "outputs": [
        {
          "output_type": "display_data",
          "data": {
            "text/plain": [
              "<Figure size 640x480 with 1 Axes>"
            ],
            "image/png": "[encoded data removed]"
          },
          "metadata": {}
        }
      ]
    },
    {
      "cell_type": "markdown",
      "source": [
        "**NOTE:** The data we are working with is often reffered to as Toy dataset, a dataset that is small enouth to experiment with but, still sizeable enough to practice the fundermentals."
      ],
      "metadata": {
        "id": "Q4t50T1hQr6w"
      }
    },
    {
      "cell_type": "code",
      "source": [
        "X.shape, y.shape"
      ],
      "metadata": {
        "colab": {
          "base_uri": "https://localhost:8080/"
        },
        "id": "mYyNDuHRRUGe",
        "outputId": "149c9ddb-6afb-41b5-ea6f-317b7ef51b79"
      },
      "execution_count": null,
      "outputs": [
        {
          "output_type": "execute_result",
          "data": {
            "text/plain": [
              "((1000, 2), (1000,))"
            ]
          },
          "metadata": {},
          "execution_count": 163
        }
      ]
    },
    {
      "cell_type": "code",
      "source": [
        "# View the first example of features and labels\n",
        "\n",
        "X_sample = X[0]\n",
        "y_sample = y[0]\n",
        "\n",
        "print(f\" Values for one sample of X{X_sample} and the same for {y_sample}\")\n",
        "print(f\" Shapes for one sample of X{X_sample.shape} and the same for {y_sample.shape}\")"
      ],
      "metadata": {
        "colab": {
          "base_uri": "https://localhost:8080/"
        },
        "id": "WOKTMXuyXYh_",
        "outputId": "ba395463-5358-46ae-c69f-4446513bbc9b"
      },
      "execution_count": null,
      "outputs": [
        {
          "output_type": "stream",
          "name": "stdout",
          "text": [
            " Values for one sample of X[0.75424625 0.23148074] and the same for 1\n",
            " Shapes for one sample of X(2,) and the same for ()\n"
          ]
        }
      ]
    },
    {
      "cell_type": "markdown",
      "source": [
        "###1.2 Turn data into Tensors and training splits"
      ],
      "metadata": {
        "id": "b71YgL-vZLlU"
      }
    },
    {
      "cell_type": "code",
      "source": [
        "import torch\n",
        "torch.__version__"
      ],
      "metadata": {
        "colab": {
          "base_uri": "https://localhost:8080/",
          "height": 35
        },
        "id": "us-nO8jOZVDe",
        "outputId": "ea71d389-c742-4767-bec4-0a75f38534cc"
      },
      "execution_count": null,
      "outputs": [
        {
          "output_type": "execute_result",
          "data": {
            "text/plain": [
              "'2.1.0+cu118'"
            ],
            "application/vnd.google.colaboratory.intrinsic+json": {
              "type": "string"
            }
          },
          "metadata": {},
          "execution_count": 165
        }
      ]
    },
    {
      "cell_type": "code",
      "source": [
        "type(X), X.dtype"
      ],
      "metadata": {
        "colab": {
          "base_uri": "https://localhost:8080/"
        },
        "id": "fQnFoqGIiXt3",
        "outputId": "3a12fb15-13c0-4698-90f8-10d13857fb09"
      },
      "execution_count": null,
      "outputs": [
        {
          "output_type": "execute_result",
          "data": {
            "text/plain": [
              "(numpy.ndarray, dtype('float64'))"
            ]
          },
          "metadata": {},
          "execution_count": 166
        }
      ]
    },
    {
      "cell_type": "code",
      "source": [
        "# Turn data into tensors\n",
        "\n",
        "X = torch.from_numpy(X).type(torch.float)\n",
        "y = torch.from_numpy(y).type(torch.float)\n",
        "\n",
        "X[:5], y[:5]"
      ],
      "metadata": {
        "colab": {
          "base_uri": "https://localhost:8080/"
        },
        "id": "1dxLCudRZen4",
        "outputId": "681120c0-5e18-43e3-b014-e3719ad21402"
      },
      "execution_count": null,
      "outputs": [
        {
          "output_type": "execute_result",
          "data": {
            "text/plain": [
              "(tensor([[ 0.7542,  0.2315],\n",
              "         [-0.7562,  0.1533],\n",
              "         [-0.8154,  0.1733],\n",
              "         [-0.3937,  0.6929],\n",
              "         [ 0.4422, -0.8967]]),\n",
              " tensor([1., 1., 1., 1., 0.]))"
            ]
          },
          "metadata": {},
          "execution_count": 167
        }
      ]
    },
    {
      "cell_type": "code",
      "source": [
        "type(X), X.dtype"
      ],
      "metadata": {
        "colab": {
          "base_uri": "https://localhost:8080/"
        },
        "id": "kmJ4MShfo469",
        "outputId": "b422ec58-b863-458a-e334-2d70795d4c21"
      },
      "execution_count": null,
      "outputs": [
        {
          "output_type": "execute_result",
          "data": {
            "text/plain": [
              "(torch.Tensor, torch.float32)"
            ]
          },
          "metadata": {},
          "execution_count": 168
        }
      ]
    },
    {
      "cell_type": "code",
      "source": [
        "type(y)"
      ],
      "metadata": {
        "colab": {
          "base_uri": "https://localhost:8080/"
        },
        "id": "KjFW3B5Yo7p1",
        "outputId": "32d99413-6957-44fb-fd30-d13bd8a49ea1"
      },
      "execution_count": null,
      "outputs": [
        {
          "output_type": "execute_result",
          "data": {
            "text/plain": [
              "torch.Tensor"
            ]
          },
          "metadata": {},
          "execution_count": 169
        }
      ]
    },
    {
      "cell_type": "code",
      "source": [
        "X[:5], y[:5]"
      ],
      "metadata": {
        "colab": {
          "base_uri": "https://localhost:8080/"
        },
        "id": "qhopYeyYo-G7",
        "outputId": "ad93efd6-233f-438c-d2ef-26bbc1b0d0ab"
      },
      "execution_count": null,
      "outputs": [
        {
          "output_type": "execute_result",
          "data": {
            "text/plain": [
              "(tensor([[ 0.7542,  0.2315],\n",
              "         [-0.7562,  0.1533],\n",
              "         [-0.8154,  0.1733],\n",
              "         [-0.3937,  0.6929],\n",
              "         [ 0.4422, -0.8967]]),\n",
              " tensor([1., 1., 1., 1., 0.]))"
            ]
          },
          "metadata": {},
          "execution_count": 170
        }
      ]
    },
    {
      "cell_type": "code",
      "source": [
        "torch.manual_seed(42)"
      ],
      "metadata": {
        "colab": {
          "base_uri": "https://localhost:8080/"
        },
        "id": "gspdgj_JsgNS",
        "outputId": "17905e42-b8c1-44ec-963d-6624f9357885"
      },
      "execution_count": null,
      "outputs": [
        {
          "output_type": "execute_result",
          "data": {
            "text/plain": [
              "<torch._C.Generator at 0x7e4ff0bd0430>"
            ]
          },
          "metadata": {},
          "execution_count": 171
        }
      ]
    },
    {
      "cell_type": "code",
      "source": [
        "# Split the data into train and test data sets.\n",
        "from sklearn.model_selection import train_test_split\n",
        "\n",
        "X_train, X_test, y_train, y_test = train_test_split(\n",
        "    X,\n",
        "    y,\n",
        "    test_size=0.2, # 20% of the data will be used to testing, 80% will be used to training...\n",
        "    random_state=42\n",
        ")"
      ],
      "metadata": {
        "id": "C2isN7BEtKM1"
      },
      "execution_count": null,
      "outputs": []
    },
    {
      "cell_type": "code",
      "source": [
        "len(X_train), len(X_test), len(y_train), len(y_test)"
      ],
      "metadata": {
        "colab": {
          "base_uri": "https://localhost:8080/"
        },
        "id": "hhIetEXstLQZ",
        "outputId": "75be3db6-aa16-48cd-af46-dbcc31acb27b"
      },
      "execution_count": null,
      "outputs": [
        {
          "output_type": "execute_result",
          "data": {
            "text/plain": [
              "(800, 200, 800, 200)"
            ]
          },
          "metadata": {},
          "execution_count": 173
        }
      ]
    },
    {
      "cell_type": "code",
      "source": [
        "from scipy.optimize._lsq.bvls import OptimizeResult"
      ],
      "metadata": {
        "id": "aeCYnUW91rf0"
      },
      "execution_count": null,
      "outputs": []
    },
    {
      "cell_type": "markdown",
      "source": [
        "\n",
        "## 2. Build hte model\n",
        "\n",
        "Build a model to classify the blue and red dots.\n",
        "\n",
        "To do so, we want to:\n",
        "1. Setup the device agonistic code so, the code will run on accelerator (GPU) if there is one\n",
        "2. Construct a model by subclassing `nn.Module`\n",
        "3. Define a loss function and a Optimizer.\n",
        "4. Create a training and testing loop.\n"
      ],
      "metadata": {
        "id": "Ih1XJGcztbn1"
      }
    },
    {
      "cell_type": "code",
      "source": [
        "# Import pytorch and nn\n",
        "import torch\n",
        "from torch import nn\n",
        "\n",
        "# Make device agnostic code\n",
        "device = \"cuda\" if torch.cuda.is_available() else \"cpu\"\n",
        "device"
      ],
      "metadata": {
        "colab": {
          "base_uri": "https://localhost:8080/",
          "height": 35
        },
        "id": "j30jVdNIw0Lm",
        "outputId": "e10450b5-b597-4a96-d152-093703e1c9c5"
      },
      "execution_count": null,
      "outputs": [
        {
          "output_type": "execute_result",
          "data": {
            "text/plain": [
              "'cuda'"
            ],
            "application/vnd.google.colaboratory.intrinsic+json": {
              "type": "string"
            }
          },
          "metadata": {},
          "execution_count": 175
        }
      ]
    },
    {
      "cell_type": "code",
      "source": [
        "X_train"
      ],
      "metadata": {
        "colab": {
          "base_uri": "https://localhost:8080/"
        },
        "id": "1plnhJ61yVY9",
        "outputId": "dbdd97c8-4fb6-4570-fd34-51e108ce1432"
      },
      "execution_count": null,
      "outputs": [
        {
          "output_type": "execute_result",
          "data": {
            "text/plain": [
              "tensor([[ 0.6579, -0.4651],\n",
              "        [ 0.6319, -0.7347],\n",
              "        [-1.0086, -0.1240],\n",
              "        ...,\n",
              "        [ 0.0157, -1.0300],\n",
              "        [ 1.0110,  0.1680],\n",
              "        [ 0.5578, -0.5709]])"
            ]
          },
          "metadata": {},
          "execution_count": 176
        }
      ]
    },
    {
      "cell_type": "code",
      "source": [
        "X_train.shape"
      ],
      "metadata": {
        "colab": {
          "base_uri": "https://localhost:8080/"
        },
        "id": "6KYBcMjj2AtU",
        "outputId": "4c5fd957-9e71-43b7-e68f-32f3253f7c1b"
      },
      "execution_count": null,
      "outputs": [
        {
          "output_type": "execute_result",
          "data": {
            "text/plain": [
              "torch.Size([800, 2])"
            ]
          },
          "metadata": {},
          "execution_count": 177
        }
      ]
    },
    {
      "cell_type": "markdown",
      "source": [
        " Create a model that,\n",
        " 1. Subclasses `nn.Module` (almost all the models in pytorch subclasses `nn.Module`).\n",
        " 2. Create 2 `nn.Linear()` layers that are capable of handling shapes of our data.\n",
        " 3. Define a `forward()` that outlines the forward pass ( of forward computation) of the model.\n",
        " 4. Instanciate an instance of our model class and send it to the target device."
      ],
      "metadata": {
        "id": "Zt2jHyHFyfMo"
      }
    },
    {
      "cell_type": "code",
      "source": [
        "from sklearn import datasets\n",
        "#1. Construct a model that subclasses nn.module\n",
        "\n",
        "class CircleModelV0(nn.Module):\n",
        "  def __init__(self):\n",
        "    super().__init__()\n",
        "\n",
        "    #2. Create 2 nn.Linear() layers that are capable of handling shapes of our data.\n",
        "    self.layer_1 = nn.Linear(in_features=2, out_features=64)  # Takes 2 features and upscale it to 5 features...\n",
        "    self.layer_2 = nn.Linear(in_features=64, out_features=128)\n",
        "    #self.layer_3 = nn.Linear(in_features=128, out_features=256)\n",
        "    self.layer_4 = nn.Linear(in_features=256, out_features=1)  # Takes 5 features from previous layer and output 1 feature. (Same as y)\n",
        "\n",
        "  #3. Define a forward() that outlines the forward pass\n",
        "  def forward(slef, x):\n",
        "    return self.layer_2(self.layer_1(x)) # x -> layer_1 -> layer_2 -> output\n",
        "\n",
        "  #4. Instanciate an instance of our model class and send it to the target device\n",
        "model_0 = CircleModelV0().to(device)\n",
        "model_0"
      ],
      "metadata": {
        "colab": {
          "base_uri": "https://localhost:8080/"
        },
        "id": "fqCSsY6l0JKz",
        "outputId": "32fb5c65-8496-4174-f7c7-bbca00506dfe"
      },
      "execution_count": null,
      "outputs": [
        {
          "output_type": "execute_result",
          "data": {
            "text/plain": [
              "CircleModelV0(\n",
              "  (layer_1): Linear(in_features=2, out_features=64, bias=True)\n",
              "  (layer_2): Linear(in_features=64, out_features=128, bias=True)\n",
              "  (layer_4): Linear(in_features=256, out_features=1, bias=True)\n",
              ")"
            ]
          },
          "metadata": {},
          "execution_count": 178
        }
      ]
    },
    {
      "cell_type": "code",
      "source": [
        "device"
      ],
      "metadata": {
        "colab": {
          "base_uri": "https://localhost:8080/",
          "height": 35
        },
        "id": "VtlWI_-9_gJV",
        "outputId": "424336d3-a581-4954-af70-4529cc8597a8"
      },
      "execution_count": null,
      "outputs": [
        {
          "output_type": "execute_result",
          "data": {
            "text/plain": [
              "'cuda'"
            ],
            "application/vnd.google.colaboratory.intrinsic+json": {
              "type": "string"
            }
          },
          "metadata": {},
          "execution_count": 179
        }
      ]
    },
    {
      "cell_type": "code",
      "source": [
        "next(model_0.parameters()).device"
      ],
      "metadata": {
        "colab": {
          "base_uri": "https://localhost:8080/"
        },
        "id": "1t25f99A_sde",
        "outputId": "63c02117-0dee-44bc-8737-c07a456fb5e4"
      },
      "execution_count": null,
      "outputs": [
        {
          "output_type": "execute_result",
          "data": {
            "text/plain": [
              "device(type='cuda', index=0)"
            ]
          },
          "metadata": {},
          "execution_count": 180
        }
      ]
    },
    {
      "cell_type": "code",
      "source": [
        "# Replicate the model above using nn.Sequential()\n",
        "\n",
        "model_0 = nn.Sequential(\n",
        "    nn.Linear(in_features = 2, out_features = 64),\n",
        "    nn.Linear(in_features=64, out_features=128),\n",
        "    #nn.Linear(in_features=128, out_features = 256),\n",
        "    nn.Linear(in_features = 128, out_features = 1)\n",
        ").to(device)\n",
        "\n",
        "model_0"
      ],
      "metadata": {
        "colab": {
          "base_uri": "https://localhost:8080/"
        },
        "id": "3ipC8tDI_-bp",
        "outputId": "b42cb030-56d3-43b5-8113-8a824a3d2bee"
      },
      "execution_count": null,
      "outputs": [
        {
          "output_type": "execute_result",
          "data": {
            "text/plain": [
              "Sequential(\n",
              "  (0): Linear(in_features=2, out_features=64, bias=True)\n",
              "  (1): Linear(in_features=64, out_features=128, bias=True)\n",
              "  (2): Linear(in_features=128, out_features=1, bias=True)\n",
              ")"
            ]
          },
          "metadata": {},
          "execution_count": 181
        }
      ]
    },
    {
      "cell_type": "code",
      "source": [
        "model_0.state_dict()"
      ],
      "metadata": {
        "colab": {
          "base_uri": "https://localhost:8080/"
        },
        "id": "N9suvs_VEseT",
        "outputId": "66402cac-05db-49cc-d124-e5766dca0910"
      },
      "execution_count": null,
      "outputs": [
        {
          "output_type": "execute_result",
          "data": {
            "text/plain": [
              "OrderedDict([('0.weight',\n",
              "              tensor([[ 0.2426,  0.4464],\n",
              "                      [-0.6016,  0.2920],\n",
              "                      [-0.6132, -0.0483],\n",
              "                      [ 0.5530, -0.5799],\n",
              "                      [-0.5379, -0.3099],\n",
              "                      [ 0.0266, -0.0978],\n",
              "                      [-0.5550,  0.0921],\n",
              "                      [-0.1776, -0.3303],\n",
              "                      [ 0.0077,  0.2401],\n",
              "                      [ 0.1134, -0.4687],\n",
              "                      [ 0.4793,  0.1334],\n",
              "                      [-0.2895,  0.6121],\n",
              "                      [ 0.1425,  0.3677],\n",
              "                      [ 0.5000, -0.0126],\n",
              "                      [ 0.5828, -0.0032],\n",
              "                      [ 0.5657,  0.0858],\n",
              "                      [ 0.3254,  0.3561],\n",
              "                      [-0.3919,  0.6179],\n",
              "                      [ 0.0214,  0.2599],\n",
              "                      [-0.5217, -0.2639],\n",
              "                      [ 0.4609, -0.4463],\n",
              "                      [ 0.0980,  0.6209],\n",
              "                      [-0.6716, -0.0078],\n",
              "                      [ 0.1149,  0.4634],\n",
              "                      [-0.2376, -0.6911],\n",
              "                      [-0.4376,  0.2122],\n",
              "                      [-0.5207, -0.6053],\n",
              "                      [-0.0178,  0.1855],\n",
              "                      [-0.4434, -0.2746],\n",
              "                      [ 0.3868, -0.4781],\n",
              "                      [-0.5816, -0.2137],\n",
              "                      [ 0.5681, -0.2073],\n",
              "                      [-0.4793, -0.5016],\n",
              "                      [-0.1662,  0.5022],\n",
              "                      [ 0.2658, -0.2361],\n",
              "                      [-0.6134, -0.4291],\n",
              "                      [ 0.1493,  0.5946],\n",
              "                      [ 0.3642, -0.0904],\n",
              "                      [ 0.3751,  0.0509],\n",
              "                      [ 0.0972,  0.3297],\n",
              "                      [-0.1741,  0.2060],\n",
              "                      [ 0.0630,  0.2157],\n",
              "                      [-0.1513,  0.4571],\n",
              "                      [-0.6370,  0.4697],\n",
              "                      [-0.5834, -0.4757],\n",
              "                      [-0.4348, -0.0683],\n",
              "                      [-0.0701, -0.6876],\n",
              "                      [ 0.3752,  0.1740],\n",
              "                      [ 0.6909, -0.5046],\n",
              "                      [-0.5686,  0.1699],\n",
              "                      [ 0.5447,  0.4721],\n",
              "                      [ 0.2868,  0.1189],\n",
              "                      [ 0.3525, -0.2814],\n",
              "                      [-0.7053, -0.5887],\n",
              "                      [-0.4522,  0.1579],\n",
              "                      [ 0.6331,  0.4563],\n",
              "                      [-0.4615,  0.1972],\n",
              "                      [ 0.6255,  0.0174],\n",
              "                      [-0.1317, -0.3831],\n",
              "                      [-0.0514,  0.5321],\n",
              "                      [-0.1997, -0.1068],\n",
              "                      [ 0.3431, -0.2711],\n",
              "                      [-0.3267,  0.1194],\n",
              "                      [ 0.5120,  0.0754]], device='cuda:0')),\n",
              "             ('0.bias',\n",
              "              tensor([-0.0285, -0.5617,  0.4222,  0.0323, -0.3113, -0.6221, -0.3355, -0.4969,\n",
              "                       0.1448,  0.5181, -0.1398,  0.4304, -0.1503, -0.3365, -0.6471, -0.4738,\n",
              "                       0.5308,  0.4763,  0.6823, -0.0713,  0.2390, -0.0868,  0.6999, -0.5638,\n",
              "                      -0.1920, -0.6780,  0.0698, -0.5505, -0.4959,  0.1635,  0.7035,  0.5894,\n",
              "                       0.4858, -0.1750, -0.0213, -0.6357,  0.4753,  0.1932,  0.6002, -0.6874,\n",
              "                      -0.1724, -0.4554, -0.5411, -0.4204,  0.2234,  0.4701,  0.3193, -0.2422,\n",
              "                       0.3119,  0.6965,  0.0346, -0.2545, -0.5584,  0.4999, -0.1616, -0.5548,\n",
              "                       0.4089,  0.1410, -0.2854, -0.6960,  0.0887, -0.2094, -0.1226, -0.2359],\n",
              "                     device='cuda:0')),\n",
              "             ('1.weight',\n",
              "              tensor([[ 0.1028,  0.0663,  0.0991,  ...,  0.0606,  0.0227, -0.0240],\n",
              "                      [ 0.1046, -0.0814,  0.0975,  ...,  0.0052,  0.0600, -0.0050],\n",
              "                      [-0.0610,  0.0844,  0.0847,  ..., -0.1187, -0.0743, -0.0913],\n",
              "                      ...,\n",
              "                      [-0.0147, -0.0073, -0.0588,  ...,  0.0825,  0.0587, -0.0185],\n",
              "                      [-0.0147, -0.0910, -0.0277,  ...,  0.0610, -0.0557,  0.1005],\n",
              "                      [ 0.0861, -0.0025,  0.0897,  ...,  0.0962,  0.0277, -0.0079]],\n",
              "                     device='cuda:0')),\n",
              "             ('1.bias',\n",
              "              tensor([-0.0817, -0.0645,  0.0720, -0.0766, -0.0615,  0.0638, -0.0635, -0.0967,\n",
              "                       0.0278,  0.0539, -0.1133,  0.0160, -0.0964,  0.0527,  0.0684,  0.0421,\n",
              "                       0.1221, -0.0243, -0.0497,  0.0338,  0.0375, -0.0559, -0.0823, -0.0381,\n",
              "                       0.0518,  0.0528, -0.0554,  0.1057, -0.0929, -0.0145,  0.0305, -0.0900,\n",
              "                       0.1138, -0.0614,  0.0740,  0.0050, -0.0702,  0.1168, -0.0139,  0.0222,\n",
              "                       0.1176, -0.1177,  0.1006, -0.0617, -0.1015,  0.0695, -0.0382, -0.0998,\n",
              "                      -0.0613,  0.0808,  0.0548, -0.0061,  0.0642,  0.0248, -0.0936,  0.0240,\n",
              "                       0.0890, -0.0117, -0.0143,  0.1227, -0.0357,  0.1165,  0.1094,  0.1011,\n",
              "                       0.0332,  0.0343,  0.0322, -0.1146, -0.0495, -0.0700, -0.0184, -0.0625,\n",
              "                      -0.0403, -0.0851, -0.0909,  0.0404,  0.1220, -0.0507, -0.0826, -0.0420,\n",
              "                      -0.0472, -0.1217,  0.1098,  0.0849,  0.0927, -0.0646, -0.0827,  0.1198,\n",
              "                      -0.0756, -0.1050, -0.1041,  0.0380, -0.0167, -0.0763,  0.1064, -0.0693,\n",
              "                       0.0081,  0.0623,  0.0598,  0.1046, -0.0155,  0.0644, -0.0099,  0.0165,\n",
              "                      -0.0734,  0.0774,  0.0284,  0.0251, -0.0096,  0.0506, -0.1207,  0.1021,\n",
              "                       0.0981,  0.0670, -0.0046, -0.1166, -0.0339, -0.1004, -0.0599,  0.0983,\n",
              "                      -0.0144,  0.1245, -0.0630, -0.0582, -0.1002,  0.0476,  0.0463,  0.0631],\n",
              "                     device='cuda:0')),\n",
              "             ('2.weight',\n",
              "              tensor([[ 0.0764,  0.0531, -0.0811,  0.0025,  0.0771,  0.0617,  0.0342, -0.0415,\n",
              "                       -0.0746,  0.0852, -0.0289,  0.0302, -0.0239, -0.0298,  0.0315,  0.0818,\n",
              "                       -0.0210,  0.0383,  0.0356, -0.0141,  0.0176,  0.0294,  0.0789, -0.0334,\n",
              "                        0.0680, -0.0057,  0.0349, -0.0717,  0.0594,  0.0745,  0.0206,  0.0027,\n",
              "                        0.0231, -0.0698, -0.0762,  0.0658, -0.0794, -0.0198, -0.0541, -0.0825,\n",
              "                       -0.0375, -0.0007, -0.0709, -0.0678, -0.0713, -0.0032, -0.0235,  0.0650,\n",
              "                       -0.0846, -0.0772, -0.0269,  0.0884,  0.0805, -0.0114, -0.0241,  0.0122,\n",
              "                        0.0037,  0.0083, -0.0382, -0.0043,  0.0170,  0.0528, -0.0558, -0.0180,\n",
              "                        0.0444,  0.0582,  0.0479, -0.0214,  0.0202, -0.0303,  0.0751,  0.0502,\n",
              "                       -0.0798,  0.0429,  0.0868,  0.0236, -0.0701,  0.0569,  0.0047, -0.0237,\n",
              "                        0.0386,  0.0686,  0.0401, -0.0697,  0.0369, -0.0545, -0.0826, -0.0438,\n",
              "                        0.0465,  0.0680,  0.0261,  0.0543, -0.0843, -0.0430, -0.0504, -0.0751,\n",
              "                       -0.0552, -0.0631, -0.0739,  0.0129, -0.0412,  0.0036, -0.0142,  0.0061,\n",
              "                       -0.0803, -0.0725, -0.0799,  0.0615,  0.0029, -0.0752, -0.0340, -0.0009,\n",
              "                       -0.0585,  0.0715,  0.0634,  0.0212, -0.0152,  0.0514,  0.0231,  0.0075,\n",
              "                        0.0109, -0.0769,  0.0250,  0.0323,  0.0545,  0.0419,  0.0752, -0.0470]],\n",
              "                     device='cuda:0')),\n",
              "             ('2.bias', tensor([0.0073], device='cuda:0'))])"
            ]
          },
          "metadata": {},
          "execution_count": 182
        }
      ]
    },
    {
      "cell_type": "code",
      "source": [
        "# Make Predictions\n",
        "\n",
        "with torch.inference_mode():\n",
        "  untrained_preds = model_0(X_test.to(device))\n",
        "print(f\"Length of predictions: {len(untrained_preds)}, Shape: {untrained_preds.shape}\")\n",
        "print(f\"Length of test samples: {len(X_test)}, Shape: {X_test.shape}\")\n",
        "print(f\"\\n First 10 predictions: \\n {torch.round(untrained_preds[:10])}\")\n",
        "print(f\"\\n First 10 labels: \\n {y_test[:10]}\")"
      ],
      "metadata": {
        "colab": {
          "base_uri": "https://localhost:8080/"
        },
        "id": "ugx8kNw6E7D2",
        "outputId": "ed59bc9d-1a29-4be2-f896-b4673da955ae"
      },
      "execution_count": null,
      "outputs": [
        {
          "output_type": "stream",
          "name": "stdout",
          "text": [
            "Length of predictions: 200, Shape: torch.Size([200, 1])\n",
            "Length of test samples: 200, Shape: torch.Size([200, 2])\n",
            "\n",
            " First 10 predictions: \n",
            " tensor([[-0.],\n",
            "        [-0.],\n",
            "        [-0.],\n",
            "        [-0.],\n",
            "        [-0.],\n",
            "        [-0.],\n",
            "        [-0.],\n",
            "        [-1.],\n",
            "        [-0.],\n",
            "        [-0.]], device='cuda:0')\n",
            "\n",
            " First 10 labels: \n",
            " tensor([1., 0., 1., 0., 1., 1., 0., 0., 1., 0.])\n"
          ]
        }
      ]
    },
    {
      "cell_type": "markdown",
      "source": [
        "### 2.1 Setup a loss function and an optimizer\n",
        "\n",
        "This is problem specific...\n",
        "\n",
        "for example, For regression we want to use MAE or MSE (Mean absalute error or Mean squared error)\n",
        "For Classification we want to use Binary cross entrophy or Categorical cross entrophy (Cross entropy)\n",
        "\n",
        "the Loss function measures how *wrong* our models predictions are...\n",
        "\n",
        "And for the optimizers, two of the most common optimizers are SGD and Adam. however, pytorch has multiple built-in options.\n",
        "\n",
        "- read about common choices for pytorch and optimizers on the work book.\n",
        "- Learn about the BCEWithLogitsLoss()\n",
        "\n"
      ],
      "metadata": {
        "id": "dyyc20MEgLMx"
      }
    },
    {
      "cell_type": "code",
      "source": [
        "from pandas.compat.pyarrow import pa   # CHECK THIS LINE\n",
        "# Setup the loss function.\n",
        "# loss_fn = BECLoss() - requires inputs to gothrough sigmoid function before to input to BCELoss()\n",
        "\n",
        "loss_fn = nn.BCEWithLogitsLoss() # Sigmoid activation function built-in\n",
        "\n",
        "optimizer = torch.optim.SGD(params=model_0.parameters(),\n",
        "                            lr = 0.1)"
      ],
      "metadata": {
        "id": "8wq9erMEkA2V"
      },
      "execution_count": null,
      "outputs": []
    },
    {
      "cell_type": "code",
      "source": [
        "model_0.state_dict()"
      ],
      "metadata": {
        "colab": {
          "base_uri": "https://localhost:8080/"
        },
        "id": "zKIj5ugiHXTp",
        "outputId": "56523fe2-5793-47c5-aaf6-26dce82a7ca7"
      },
      "execution_count": null,
      "outputs": [
        {
          "output_type": "execute_result",
          "data": {
            "text/plain": [
              "OrderedDict([('0.weight',\n",
              "              tensor([[ 0.2426,  0.4464],\n",
              "                      [-0.6016,  0.2920],\n",
              "                      [-0.6132, -0.0483],\n",
              "                      [ 0.5530, -0.5799],\n",
              "                      [-0.5379, -0.3099],\n",
              "                      [ 0.0266, -0.0978],\n",
              "                      [-0.5550,  0.0921],\n",
              "                      [-0.1776, -0.3303],\n",
              "                      [ 0.0077,  0.2401],\n",
              "                      [ 0.1134, -0.4687],\n",
              "                      [ 0.4793,  0.1334],\n",
              "                      [-0.2895,  0.6121],\n",
              "                      [ 0.1425,  0.3677],\n",
              "                      [ 0.5000, -0.0126],\n",
              "                      [ 0.5828, -0.0032],\n",
              "                      [ 0.5657,  0.0858],\n",
              "                      [ 0.3254,  0.3561],\n",
              "                      [-0.3919,  0.6179],\n",
              "                      [ 0.0214,  0.2599],\n",
              "                      [-0.5217, -0.2639],\n",
              "                      [ 0.4609, -0.4463],\n",
              "                      [ 0.0980,  0.6209],\n",
              "                      [-0.6716, -0.0078],\n",
              "                      [ 0.1149,  0.4634],\n",
              "                      [-0.2376, -0.6911],\n",
              "                      [-0.4376,  0.2122],\n",
              "                      [-0.5207, -0.6053],\n",
              "                      [-0.0178,  0.1855],\n",
              "                      [-0.4434, -0.2746],\n",
              "                      [ 0.3868, -0.4781],\n",
              "                      [-0.5816, -0.2137],\n",
              "                      [ 0.5681, -0.2073],\n",
              "                      [-0.4793, -0.5016],\n",
              "                      [-0.1662,  0.5022],\n",
              "                      [ 0.2658, -0.2361],\n",
              "                      [-0.6134, -0.4291],\n",
              "                      [ 0.1493,  0.5946],\n",
              "                      [ 0.3642, -0.0904],\n",
              "                      [ 0.3751,  0.0509],\n",
              "                      [ 0.0972,  0.3297],\n",
              "                      [-0.1741,  0.2060],\n",
              "                      [ 0.0630,  0.2157],\n",
              "                      [-0.1513,  0.4571],\n",
              "                      [-0.6370,  0.4697],\n",
              "                      [-0.5834, -0.4757],\n",
              "                      [-0.4348, -0.0683],\n",
              "                      [-0.0701, -0.6876],\n",
              "                      [ 0.3752,  0.1740],\n",
              "                      [ 0.6909, -0.5046],\n",
              "                      [-0.5686,  0.1699],\n",
              "                      [ 0.5447,  0.4721],\n",
              "                      [ 0.2868,  0.1189],\n",
              "                      [ 0.3525, -0.2814],\n",
              "                      [-0.7053, -0.5887],\n",
              "                      [-0.4522,  0.1579],\n",
              "                      [ 0.6331,  0.4563],\n",
              "                      [-0.4615,  0.1972],\n",
              "                      [ 0.6255,  0.0174],\n",
              "                      [-0.1317, -0.3831],\n",
              "                      [-0.0514,  0.5321],\n",
              "                      [-0.1997, -0.1068],\n",
              "                      [ 0.3431, -0.2711],\n",
              "                      [-0.3267,  0.1194],\n",
              "                      [ 0.5120,  0.0754]], device='cuda:0')),\n",
              "             ('0.bias',\n",
              "              tensor([-0.0285, -0.5617,  0.4222,  0.0323, -0.3113, -0.6221, -0.3355, -0.4969,\n",
              "                       0.1448,  0.5181, -0.1398,  0.4304, -0.1503, -0.3365, -0.6471, -0.4738,\n",
              "                       0.5308,  0.4763,  0.6823, -0.0713,  0.2390, -0.0868,  0.6999, -0.5638,\n",
              "                      -0.1920, -0.6780,  0.0698, -0.5505, -0.4959,  0.1635,  0.7035,  0.5894,\n",
              "                       0.4858, -0.1750, -0.0213, -0.6357,  0.4753,  0.1932,  0.6002, -0.6874,\n",
              "                      -0.1724, -0.4554, -0.5411, -0.4204,  0.2234,  0.4701,  0.3193, -0.2422,\n",
              "                       0.3119,  0.6965,  0.0346, -0.2545, -0.5584,  0.4999, -0.1616, -0.5548,\n",
              "                       0.4089,  0.1410, -0.2854, -0.6960,  0.0887, -0.2094, -0.1226, -0.2359],\n",
              "                     device='cuda:0')),\n",
              "             ('1.weight',\n",
              "              tensor([[ 0.1028,  0.0663,  0.0991,  ...,  0.0606,  0.0227, -0.0240],\n",
              "                      [ 0.1046, -0.0814,  0.0975,  ...,  0.0052,  0.0600, -0.0050],\n",
              "                      [-0.0610,  0.0844,  0.0847,  ..., -0.1187, -0.0743, -0.0913],\n",
              "                      ...,\n",
              "                      [-0.0147, -0.0073, -0.0588,  ...,  0.0825,  0.0587, -0.0185],\n",
              "                      [-0.0147, -0.0910, -0.0277,  ...,  0.0610, -0.0557,  0.1005],\n",
              "                      [ 0.0861, -0.0025,  0.0897,  ...,  0.0962,  0.0277, -0.0079]],\n",
              "                     device='cuda:0')),\n",
              "             ('1.bias',\n",
              "              tensor([-0.0817, -0.0645,  0.0720, -0.0766, -0.0615,  0.0638, -0.0635, -0.0967,\n",
              "                       0.0278,  0.0539, -0.1133,  0.0160, -0.0964,  0.0527,  0.0684,  0.0421,\n",
              "                       0.1221, -0.0243, -0.0497,  0.0338,  0.0375, -0.0559, -0.0823, -0.0381,\n",
              "                       0.0518,  0.0528, -0.0554,  0.1057, -0.0929, -0.0145,  0.0305, -0.0900,\n",
              "                       0.1138, -0.0614,  0.0740,  0.0050, -0.0702,  0.1168, -0.0139,  0.0222,\n",
              "                       0.1176, -0.1177,  0.1006, -0.0617, -0.1015,  0.0695, -0.0382, -0.0998,\n",
              "                      -0.0613,  0.0808,  0.0548, -0.0061,  0.0642,  0.0248, -0.0936,  0.0240,\n",
              "                       0.0890, -0.0117, -0.0143,  0.1227, -0.0357,  0.1165,  0.1094,  0.1011,\n",
              "                       0.0332,  0.0343,  0.0322, -0.1146, -0.0495, -0.0700, -0.0184, -0.0625,\n",
              "                      -0.0403, -0.0851, -0.0909,  0.0404,  0.1220, -0.0507, -0.0826, -0.0420,\n",
              "                      -0.0472, -0.1217,  0.1098,  0.0849,  0.0927, -0.0646, -0.0827,  0.1198,\n",
              "                      -0.0756, -0.1050, -0.1041,  0.0380, -0.0167, -0.0763,  0.1064, -0.0693,\n",
              "                       0.0081,  0.0623,  0.0598,  0.1046, -0.0155,  0.0644, -0.0099,  0.0165,\n",
              "                      -0.0734,  0.0774,  0.0284,  0.0251, -0.0096,  0.0506, -0.1207,  0.1021,\n",
              "                       0.0981,  0.0670, -0.0046, -0.1166, -0.0339, -0.1004, -0.0599,  0.0983,\n",
              "                      -0.0144,  0.1245, -0.0630, -0.0582, -0.1002,  0.0476,  0.0463,  0.0631],\n",
              "                     device='cuda:0')),\n",
              "             ('2.weight',\n",
              "              tensor([[ 0.0764,  0.0531, -0.0811,  0.0025,  0.0771,  0.0617,  0.0342, -0.0415,\n",
              "                       -0.0746,  0.0852, -0.0289,  0.0302, -0.0239, -0.0298,  0.0315,  0.0818,\n",
              "                       -0.0210,  0.0383,  0.0356, -0.0141,  0.0176,  0.0294,  0.0789, -0.0334,\n",
              "                        0.0680, -0.0057,  0.0349, -0.0717,  0.0594,  0.0745,  0.0206,  0.0027,\n",
              "                        0.0231, -0.0698, -0.0762,  0.0658, -0.0794, -0.0198, -0.0541, -0.0825,\n",
              "                       -0.0375, -0.0007, -0.0709, -0.0678, -0.0713, -0.0032, -0.0235,  0.0650,\n",
              "                       -0.0846, -0.0772, -0.0269,  0.0884,  0.0805, -0.0114, -0.0241,  0.0122,\n",
              "                        0.0037,  0.0083, -0.0382, -0.0043,  0.0170,  0.0528, -0.0558, -0.0180,\n",
              "                        0.0444,  0.0582,  0.0479, -0.0214,  0.0202, -0.0303,  0.0751,  0.0502,\n",
              "                       -0.0798,  0.0429,  0.0868,  0.0236, -0.0701,  0.0569,  0.0047, -0.0237,\n",
              "                        0.0386,  0.0686,  0.0401, -0.0697,  0.0369, -0.0545, -0.0826, -0.0438,\n",
              "                        0.0465,  0.0680,  0.0261,  0.0543, -0.0843, -0.0430, -0.0504, -0.0751,\n",
              "                       -0.0552, -0.0631, -0.0739,  0.0129, -0.0412,  0.0036, -0.0142,  0.0061,\n",
              "                       -0.0803, -0.0725, -0.0799,  0.0615,  0.0029, -0.0752, -0.0340, -0.0009,\n",
              "                       -0.0585,  0.0715,  0.0634,  0.0212, -0.0152,  0.0514,  0.0231,  0.0075,\n",
              "                        0.0109, -0.0769,  0.0250,  0.0323,  0.0545,  0.0419,  0.0752, -0.0470]],\n",
              "                     device='cuda:0')),\n",
              "             ('2.bias', tensor([0.0073], device='cuda:0'))])"
            ]
          },
          "metadata": {},
          "execution_count": 185
        }
      ]
    },
    {
      "cell_type": "code",
      "source": [
        "# Calculate accuracy - out of 100 predictions, what percentage of our model gets correct?\n",
        "def accuracy_fn(y_true, y_pred):\n",
        "  correct = torch.eq(y_true, y_pred).sum().item()\n",
        "  accuracy = (correct / len(y_pred)) * 100\n",
        "  return accuracy"
      ],
      "metadata": {
        "id": "_T-oI-1HMl0R"
      },
      "execution_count": null,
      "outputs": []
    },
    {
      "cell_type": "markdown",
      "source": [
        "# 3. Training loop\n",
        "\n",
        "* To train our model, we need to build a training loop.\n",
        "\n",
        "  1. Forwrd pass\n",
        "  2. Calculate the loss\n",
        "  3. Zero grad\n",
        "  4. Loss backward (back propagation)\n",
        "  5. Optimizer step (gradient descent)"
      ],
      "metadata": {
        "id": "kxsvmFZVlT1N"
      }
    },
    {
      "cell_type": "markdown",
      "source": [
        "# 3.1 Going from   raw logits  - > prediction probabilities - > prediction labels\n",
        "\n",
        "Our model outputs are going to be raw **Logits**.\n",
        "\n",
        "We can convert these **logits** to prediction probabilities by passing them to some kind of activation function.\n",
        " (Eg: Sigmoid for binary classificaiton and Softmax for Multiclass classification)\n",
        "\n",
        " Then we can convert our model's **prediction probabilities** to prediction lables by rounding up them or taking the `argmax()`."
      ],
      "metadata": {
        "id": "fVUgcPuXP72h"
      }
    },
    {
      "cell_type": "code",
      "source": [
        "# View the first 5 outputs of the forward pass on the test data.\n",
        "\n",
        "model_0.eval()\n",
        "with torch.inference_mode():\n",
        "  y_logits = model_0(X_test.to(device))[:5]\n",
        "y_logits"
      ],
      "metadata": {
        "colab": {
          "base_uri": "https://localhost:8080/"
        },
        "id": "8YAwLas3Ibaq",
        "outputId": "67c09d2a-afa2-43a7-c35a-049a10faf761"
      },
      "execution_count": null,
      "outputs": [
        {
          "output_type": "execute_result",
          "data": {
            "text/plain": [
              "tensor([[-0.1465],\n",
              "        [-0.2457],\n",
              "        [-0.0795],\n",
              "        [-0.1647],\n",
              "        [-0.3861]], device='cuda:0')"
            ]
          },
          "metadata": {},
          "execution_count": 187
        }
      ]
    },
    {
      "cell_type": "code",
      "source": [
        "y_test[:5]"
      ],
      "metadata": {
        "colab": {
          "base_uri": "https://localhost:8080/"
        },
        "id": "lQUlNMrFK3Pn",
        "outputId": "48f0bd04-7487-482f-c5b0-1667c43fc6d5"
      },
      "execution_count": null,
      "outputs": [
        {
          "output_type": "execute_result",
          "data": {
            "text/plain": [
              "tensor([1., 0., 1., 0., 1.])"
            ]
          },
          "metadata": {},
          "execution_count": 188
        }
      ]
    },
    {
      "cell_type": "code",
      "source": [
        "# Use the sigmoid activation on our model logits to turn them into prediction probabilities...\n",
        "\n",
        "y_pred_probs = torch.sigmoid(y_logits)\n",
        "y_pred_probs"
      ],
      "metadata": {
        "colab": {
          "base_uri": "https://localhost:8080/"
        },
        "id": "1q4RDEIqLjO6",
        "outputId": "470570ab-8d14-462b-d44c-63314a302248"
      },
      "execution_count": null,
      "outputs": [
        {
          "output_type": "execute_result",
          "data": {
            "text/plain": [
              "tensor([[0.4634],\n",
              "        [0.4389],\n",
              "        [0.4801],\n",
              "        [0.4589],\n",
              "        [0.4047]], device='cuda:0')"
            ]
          },
          "metadata": {},
          "execution_count": 189
        }
      ]
    },
    {
      "cell_type": "markdown",
      "source": [
        "For our prediction probabilities, we need to perform a range-style rounding on them,\n",
        "* if `y_pred_probs` >= 0.5 then, y = 1 (Class 1)\n",
        "* if `y_pred_probs` < 0.5 then, y = 0 (Class 0)"
      ],
      "metadata": {
        "id": "oP_T2xC9RNCy"
      }
    },
    {
      "cell_type": "code",
      "source": [
        "#torch.round(y_pred_probs)\n",
        "\n",
        "# Find the predicted lables\n",
        "y_preds = torch.round(y_pred_probs)\n",
        "\n",
        "# In full  (Logits -> prediction probabilities -> prediction labels)\n",
        "y_pred_labels = torch.round(torch.sigmoid(model_0(X_test.to(device))[:5]))\n",
        "\n",
        "# Check for equality\n",
        "print(torch.eq(y_preds.squeeze(), y_pred_labels.squeeze()))\n",
        "\n",
        "# Get rid of the dimentions\n",
        "y_preds.squeeze()"
      ],
      "metadata": {
        "colab": {
          "base_uri": "https://localhost:8080/"
        },
        "id": "HXb1wEXIHZ5G",
        "outputId": "8bc63b66-ecef-4a56-c668-91028d3fe11c"
      },
      "execution_count": null,
      "outputs": [
        {
          "output_type": "stream",
          "name": "stdout",
          "text": [
            "tensor([True, True, True, True, True], device='cuda:0')\n"
          ]
        },
        {
          "output_type": "execute_result",
          "data": {
            "text/plain": [
              "tensor([0., 0., 0., 0., 0.], device='cuda:0')"
            ]
          },
          "metadata": {},
          "execution_count": 190
        }
      ]
    },
    {
      "cell_type": "markdown",
      "source": [
        "### 3.2 Building a Training and a Testing loop"
      ],
      "metadata": {
        "id": "npYNCfr_Vo4E"
      }
    },
    {
      "cell_type": "code",
      "source": [
        " model_0.state_dict()"
      ],
      "metadata": {
        "colab": {
          "base_uri": "https://localhost:8080/"
        },
        "id": "OxmyMxyxoYuI",
        "outputId": "17f4ecee-0743-448f-d162-234029899a9e"
      },
      "execution_count": null,
      "outputs": [
        {
          "output_type": "execute_result",
          "data": {
            "text/plain": [
              "OrderedDict([('0.weight',\n",
              "              tensor([[ 0.2426,  0.4464],\n",
              "                      [-0.6016,  0.2920],\n",
              "                      [-0.6132, -0.0483],\n",
              "                      [ 0.5530, -0.5799],\n",
              "                      [-0.5379, -0.3099],\n",
              "                      [ 0.0266, -0.0978],\n",
              "                      [-0.5550,  0.0921],\n",
              "                      [-0.1776, -0.3303],\n",
              "                      [ 0.0077,  0.2401],\n",
              "                      [ 0.1134, -0.4687],\n",
              "                      [ 0.4793,  0.1334],\n",
              "                      [-0.2895,  0.6121],\n",
              "                      [ 0.1425,  0.3677],\n",
              "                      [ 0.5000, -0.0126],\n",
              "                      [ 0.5828, -0.0032],\n",
              "                      [ 0.5657,  0.0858],\n",
              "                      [ 0.3254,  0.3561],\n",
              "                      [-0.3919,  0.6179],\n",
              "                      [ 0.0214,  0.2599],\n",
              "                      [-0.5217, -0.2639],\n",
              "                      [ 0.4609, -0.4463],\n",
              "                      [ 0.0980,  0.6209],\n",
              "                      [-0.6716, -0.0078],\n",
              "                      [ 0.1149,  0.4634],\n",
              "                      [-0.2376, -0.6911],\n",
              "                      [-0.4376,  0.2122],\n",
              "                      [-0.5207, -0.6053],\n",
              "                      [-0.0178,  0.1855],\n",
              "                      [-0.4434, -0.2746],\n",
              "                      [ 0.3868, -0.4781],\n",
              "                      [-0.5816, -0.2137],\n",
              "                      [ 0.5681, -0.2073],\n",
              "                      [-0.4793, -0.5016],\n",
              "                      [-0.1662,  0.5022],\n",
              "                      [ 0.2658, -0.2361],\n",
              "                      [-0.6134, -0.4291],\n",
              "                      [ 0.1493,  0.5946],\n",
              "                      [ 0.3642, -0.0904],\n",
              "                      [ 0.3751,  0.0509],\n",
              "                      [ 0.0972,  0.3297],\n",
              "                      [-0.1741,  0.2060],\n",
              "                      [ 0.0630,  0.2157],\n",
              "                      [-0.1513,  0.4571],\n",
              "                      [-0.6370,  0.4697],\n",
              "                      [-0.5834, -0.4757],\n",
              "                      [-0.4348, -0.0683],\n",
              "                      [-0.0701, -0.6876],\n",
              "                      [ 0.3752,  0.1740],\n",
              "                      [ 0.6909, -0.5046],\n",
              "                      [-0.5686,  0.1699],\n",
              "                      [ 0.5447,  0.4721],\n",
              "                      [ 0.2868,  0.1189],\n",
              "                      [ 0.3525, -0.2814],\n",
              "                      [-0.7053, -0.5887],\n",
              "                      [-0.4522,  0.1579],\n",
              "                      [ 0.6331,  0.4563],\n",
              "                      [-0.4615,  0.1972],\n",
              "                      [ 0.6255,  0.0174],\n",
              "                      [-0.1317, -0.3831],\n",
              "                      [-0.0514,  0.5321],\n",
              "                      [-0.1997, -0.1068],\n",
              "                      [ 0.3431, -0.2711],\n",
              "                      [-0.3267,  0.1194],\n",
              "                      [ 0.5120,  0.0754]], device='cuda:0')),\n",
              "             ('0.bias',\n",
              "              tensor([-0.0285, -0.5617,  0.4222,  0.0323, -0.3113, -0.6221, -0.3355, -0.4969,\n",
              "                       0.1448,  0.5181, -0.1398,  0.4304, -0.1503, -0.3365, -0.6471, -0.4738,\n",
              "                       0.5308,  0.4763,  0.6823, -0.0713,  0.2390, -0.0868,  0.6999, -0.5638,\n",
              "                      -0.1920, -0.6780,  0.0698, -0.5505, -0.4959,  0.1635,  0.7035,  0.5894,\n",
              "                       0.4858, -0.1750, -0.0213, -0.6357,  0.4753,  0.1932,  0.6002, -0.6874,\n",
              "                      -0.1724, -0.4554, -0.5411, -0.4204,  0.2234,  0.4701,  0.3193, -0.2422,\n",
              "                       0.3119,  0.6965,  0.0346, -0.2545, -0.5584,  0.4999, -0.1616, -0.5548,\n",
              "                       0.4089,  0.1410, -0.2854, -0.6960,  0.0887, -0.2094, -0.1226, -0.2359],\n",
              "                     device='cuda:0')),\n",
              "             ('1.weight',\n",
              "              tensor([[ 0.1028,  0.0663,  0.0991,  ...,  0.0606,  0.0227, -0.0240],\n",
              "                      [ 0.1046, -0.0814,  0.0975,  ...,  0.0052,  0.0600, -0.0050],\n",
              "                      [-0.0610,  0.0844,  0.0847,  ..., -0.1187, -0.0743, -0.0913],\n",
              "                      ...,\n",
              "                      [-0.0147, -0.0073, -0.0588,  ...,  0.0825,  0.0587, -0.0185],\n",
              "                      [-0.0147, -0.0910, -0.0277,  ...,  0.0610, -0.0557,  0.1005],\n",
              "                      [ 0.0861, -0.0025,  0.0897,  ...,  0.0962,  0.0277, -0.0079]],\n",
              "                     device='cuda:0')),\n",
              "             ('1.bias',\n",
              "              tensor([-0.0817, -0.0645,  0.0720, -0.0766, -0.0615,  0.0638, -0.0635, -0.0967,\n",
              "                       0.0278,  0.0539, -0.1133,  0.0160, -0.0964,  0.0527,  0.0684,  0.0421,\n",
              "                       0.1221, -0.0243, -0.0497,  0.0338,  0.0375, -0.0559, -0.0823, -0.0381,\n",
              "                       0.0518,  0.0528, -0.0554,  0.1057, -0.0929, -0.0145,  0.0305, -0.0900,\n",
              "                       0.1138, -0.0614,  0.0740,  0.0050, -0.0702,  0.1168, -0.0139,  0.0222,\n",
              "                       0.1176, -0.1177,  0.1006, -0.0617, -0.1015,  0.0695, -0.0382, -0.0998,\n",
              "                      -0.0613,  0.0808,  0.0548, -0.0061,  0.0642,  0.0248, -0.0936,  0.0240,\n",
              "                       0.0890, -0.0117, -0.0143,  0.1227, -0.0357,  0.1165,  0.1094,  0.1011,\n",
              "                       0.0332,  0.0343,  0.0322, -0.1146, -0.0495, -0.0700, -0.0184, -0.0625,\n",
              "                      -0.0403, -0.0851, -0.0909,  0.0404,  0.1220, -0.0507, -0.0826, -0.0420,\n",
              "                      -0.0472, -0.1217,  0.1098,  0.0849,  0.0927, -0.0646, -0.0827,  0.1198,\n",
              "                      -0.0756, -0.1050, -0.1041,  0.0380, -0.0167, -0.0763,  0.1064, -0.0693,\n",
              "                       0.0081,  0.0623,  0.0598,  0.1046, -0.0155,  0.0644, -0.0099,  0.0165,\n",
              "                      -0.0734,  0.0774,  0.0284,  0.0251, -0.0096,  0.0506, -0.1207,  0.1021,\n",
              "                       0.0981,  0.0670, -0.0046, -0.1166, -0.0339, -0.1004, -0.0599,  0.0983,\n",
              "                      -0.0144,  0.1245, -0.0630, -0.0582, -0.1002,  0.0476,  0.0463,  0.0631],\n",
              "                     device='cuda:0')),\n",
              "             ('2.weight',\n",
              "              tensor([[ 0.0764,  0.0531, -0.0811,  0.0025,  0.0771,  0.0617,  0.0342, -0.0415,\n",
              "                       -0.0746,  0.0852, -0.0289,  0.0302, -0.0239, -0.0298,  0.0315,  0.0818,\n",
              "                       -0.0210,  0.0383,  0.0356, -0.0141,  0.0176,  0.0294,  0.0789, -0.0334,\n",
              "                        0.0680, -0.0057,  0.0349, -0.0717,  0.0594,  0.0745,  0.0206,  0.0027,\n",
              "                        0.0231, -0.0698, -0.0762,  0.0658, -0.0794, -0.0198, -0.0541, -0.0825,\n",
              "                       -0.0375, -0.0007, -0.0709, -0.0678, -0.0713, -0.0032, -0.0235,  0.0650,\n",
              "                       -0.0846, -0.0772, -0.0269,  0.0884,  0.0805, -0.0114, -0.0241,  0.0122,\n",
              "                        0.0037,  0.0083, -0.0382, -0.0043,  0.0170,  0.0528, -0.0558, -0.0180,\n",
              "                        0.0444,  0.0582,  0.0479, -0.0214,  0.0202, -0.0303,  0.0751,  0.0502,\n",
              "                       -0.0798,  0.0429,  0.0868,  0.0236, -0.0701,  0.0569,  0.0047, -0.0237,\n",
              "                        0.0386,  0.0686,  0.0401, -0.0697,  0.0369, -0.0545, -0.0826, -0.0438,\n",
              "                        0.0465,  0.0680,  0.0261,  0.0543, -0.0843, -0.0430, -0.0504, -0.0751,\n",
              "                       -0.0552, -0.0631, -0.0739,  0.0129, -0.0412,  0.0036, -0.0142,  0.0061,\n",
              "                       -0.0803, -0.0725, -0.0799,  0.0615,  0.0029, -0.0752, -0.0340, -0.0009,\n",
              "                       -0.0585,  0.0715,  0.0634,  0.0212, -0.0152,  0.0514,  0.0231,  0.0075,\n",
              "                        0.0109, -0.0769,  0.0250,  0.0323,  0.0545,  0.0419,  0.0752, -0.0470]],\n",
              "                     device='cuda:0')),\n",
              "             ('2.bias', tensor([0.0073], device='cuda:0'))])"
            ]
          },
          "metadata": {},
          "execution_count": 191
        }
      ]
    },
    {
      "cell_type": "code",
      "source": [
        "# Forwrd pass\n",
        "# Calculate the loss\n",
        "# Zero grad\n",
        "# Loss backward (back propagation)\n",
        "# Optimizer step (gradient descent)\n",
        "\n",
        "torch.manual_seed(42)\n",
        "torch.cuda.manual_seed(42)\n",
        "\n",
        "epochs = 1000\n",
        "\n",
        "#Put the data to target device\n",
        "X_train, y_train = X_train.to(device), y_train.to(device)\n",
        "X_test, y_test = X_test.to(device), y_test.to(device)\n",
        "\n",
        "# Build the training and evaluation loop\n",
        "for epoch in range(epochs):\n",
        "  ## Training\n",
        "  model_0.train()\n",
        "\n",
        "  # 1.Forward Pass()\n",
        "  y_logits = model_0(X_train).squeeze()\n",
        "  y_pred = torch.round(torch.sigmoid(y_logits))  # Turn logits -> predict probs -> prediction labels\n",
        "\n",
        "  # 2. Calculate Loss & Accuracy\n",
        "\n",
        "  #loss = loss_fn(torch.sigmoid(y_logits,    # nnBCELoss expects prediction probabilities as inputs\n",
        "  #                            y_train))\n",
        "\n",
        "  loss = loss_fn(y_logits,     # nn.BCEWithLogitsLoss expects raw logits as input\n",
        "                 y_train)\n",
        "\n",
        "  accuracy = accuracy_fn(y_true = y_train,\n",
        "                         y_pred = y_pred)\n",
        "\n",
        "\n",
        "  # 3.Optimizer\n",
        "  optimizer.zero_grad()\n",
        "\n",
        "  # 4. Loss backward\n",
        "  loss.backward() # Backpropagation\n",
        "\n",
        "  # 5. Optimizer step\n",
        "  optimizer.step() # Gradient descent\n",
        "\n",
        "\n",
        "  ## Testing\n",
        "  model_0.eval()\n",
        "  with torch.inference_mode():\n",
        "\n",
        "    # 1. Forward pass\n",
        "    test_logits = model_0(X_test).squeeze()\n",
        "    test_prediction = torch.round(torch.sigmoid(test_logits))\n",
        "\n",
        "    # 2. Calculate the loss/accuracy\n",
        "\n",
        "    test_loss = loss_fn(test_logits,\n",
        "                      y_test)\n",
        "\n",
        "    test_accuracy = accuracy_fn(y_true= y_test,\n",
        "                                y_pred= test_prediction)\n",
        "\n",
        "\n",
        "    # Print whats hapenin' in our code\n",
        "    if epoch % 10 == 0:\n",
        "      print(f\"Epoch = {epoch} | Loss = {loss:5f} Accuracy = {accuracy:2f}% | Test Loss = {test_loss:.5f} Test_accuracy = {test_accuracy:.2f}%\")\n",
        "\n"
      ],
      "metadata": {
        "id": "oyw0c_hvWGgD",
        "colab": {
          "base_uri": "https://localhost:8080/"
        },
        "outputId": "e286c3e6-b3f2-4e0a-f11d-e92828b8eabf"
      },
      "execution_count": null,
      "outputs": [
        {
          "output_type": "stream",
          "name": "stdout",
          "text": [
            "Epoch = 0 | Loss = 0.705891 Accuracy = 46.500000% | Test Loss = 0.69751 Test_accuracy = 45.50%\n",
            "Epoch = 10 | Loss = 0.693306 Accuracy = 49.375000% | Test Loss = 0.69370 Test_accuracy = 49.50%\n",
            "Epoch = 20 | Loss = 0.692997 Accuracy = 50.500000% | Test Loss = 0.69441 Test_accuracy = 48.00%\n",
            "Epoch = 30 | Loss = 0.692981 Accuracy = 51.000000% | Test Loss = 0.69462 Test_accuracy = 46.00%\n",
            "Epoch = 40 | Loss = 0.692980 Accuracy = 51.500000% | Test Loss = 0.69467 Test_accuracy = 45.00%\n",
            "Epoch = 50 | Loss = 0.692980 Accuracy = 51.125000% | Test Loss = 0.69468 Test_accuracy = 45.50%\n",
            "Epoch = 60 | Loss = 0.692980 Accuracy = 51.000000% | Test Loss = 0.69468 Test_accuracy = 46.00%\n",
            "Epoch = 70 | Loss = 0.692980 Accuracy = 51.000000% | Test Loss = 0.69468 Test_accuracy = 46.00%\n",
            "Epoch = 80 | Loss = 0.692980 Accuracy = 51.000000% | Test Loss = 0.69468 Test_accuracy = 46.00%\n",
            "Epoch = 90 | Loss = 0.692980 Accuracy = 51.000000% | Test Loss = 0.69468 Test_accuracy = 46.00%\n",
            "Epoch = 100 | Loss = 0.692980 Accuracy = 51.000000% | Test Loss = 0.69468 Test_accuracy = 46.00%\n",
            "Epoch = 110 | Loss = 0.692980 Accuracy = 51.000000% | Test Loss = 0.69468 Test_accuracy = 46.00%\n",
            "Epoch = 120 | Loss = 0.692980 Accuracy = 51.000000% | Test Loss = 0.69468 Test_accuracy = 46.00%\n",
            "Epoch = 130 | Loss = 0.692980 Accuracy = 51.000000% | Test Loss = 0.69468 Test_accuracy = 46.00%\n",
            "Epoch = 140 | Loss = 0.692980 Accuracy = 51.000000% | Test Loss = 0.69468 Test_accuracy = 46.00%\n",
            "Epoch = 150 | Loss = 0.692980 Accuracy = 51.000000% | Test Loss = 0.69468 Test_accuracy = 46.00%\n",
            "Epoch = 160 | Loss = 0.692980 Accuracy = 51.000000% | Test Loss = 0.69468 Test_accuracy = 46.00%\n",
            "Epoch = 170 | Loss = 0.692980 Accuracy = 51.000000% | Test Loss = 0.69468 Test_accuracy = 46.00%\n",
            "Epoch = 180 | Loss = 0.692980 Accuracy = 51.000000% | Test Loss = 0.69468 Test_accuracy = 46.00%\n",
            "Epoch = 190 | Loss = 0.692980 Accuracy = 51.000000% | Test Loss = 0.69468 Test_accuracy = 46.00%\n",
            "Epoch = 200 | Loss = 0.692980 Accuracy = 51.000000% | Test Loss = 0.69468 Test_accuracy = 46.00%\n",
            "Epoch = 210 | Loss = 0.692980 Accuracy = 51.000000% | Test Loss = 0.69468 Test_accuracy = 46.00%\n",
            "Epoch = 220 | Loss = 0.692980 Accuracy = 51.000000% | Test Loss = 0.69468 Test_accuracy = 46.00%\n",
            "Epoch = 230 | Loss = 0.692980 Accuracy = 51.000000% | Test Loss = 0.69468 Test_accuracy = 46.00%\n",
            "Epoch = 240 | Loss = 0.692980 Accuracy = 51.000000% | Test Loss = 0.69468 Test_accuracy = 46.00%\n",
            "Epoch = 250 | Loss = 0.692980 Accuracy = 51.000000% | Test Loss = 0.69468 Test_accuracy = 46.00%\n",
            "Epoch = 260 | Loss = 0.692980 Accuracy = 51.000000% | Test Loss = 0.69468 Test_accuracy = 46.00%\n",
            "Epoch = 270 | Loss = 0.692980 Accuracy = 51.000000% | Test Loss = 0.69468 Test_accuracy = 46.00%\n",
            "Epoch = 280 | Loss = 0.692980 Accuracy = 51.000000% | Test Loss = 0.69468 Test_accuracy = 46.00%\n",
            "Epoch = 290 | Loss = 0.692980 Accuracy = 51.000000% | Test Loss = 0.69468 Test_accuracy = 46.00%\n",
            "Epoch = 300 | Loss = 0.692980 Accuracy = 51.000000% | Test Loss = 0.69468 Test_accuracy = 46.00%\n",
            "Epoch = 310 | Loss = 0.692980 Accuracy = 51.000000% | Test Loss = 0.69468 Test_accuracy = 46.00%\n",
            "Epoch = 320 | Loss = 0.692980 Accuracy = 51.000000% | Test Loss = 0.69468 Test_accuracy = 46.00%\n",
            "Epoch = 330 | Loss = 0.692980 Accuracy = 51.000000% | Test Loss = 0.69468 Test_accuracy = 46.00%\n",
            "Epoch = 340 | Loss = 0.692980 Accuracy = 51.000000% | Test Loss = 0.69468 Test_accuracy = 46.00%\n",
            "Epoch = 350 | Loss = 0.692980 Accuracy = 51.000000% | Test Loss = 0.69468 Test_accuracy = 46.00%\n",
            "Epoch = 360 | Loss = 0.692980 Accuracy = 51.000000% | Test Loss = 0.69468 Test_accuracy = 46.00%\n",
            "Epoch = 370 | Loss = 0.692980 Accuracy = 51.000000% | Test Loss = 0.69468 Test_accuracy = 46.00%\n",
            "Epoch = 380 | Loss = 0.692980 Accuracy = 51.000000% | Test Loss = 0.69468 Test_accuracy = 46.00%\n",
            "Epoch = 390 | Loss = 0.692980 Accuracy = 51.000000% | Test Loss = 0.69468 Test_accuracy = 46.00%\n",
            "Epoch = 400 | Loss = 0.692980 Accuracy = 51.000000% | Test Loss = 0.69468 Test_accuracy = 46.00%\n",
            "Epoch = 410 | Loss = 0.692980 Accuracy = 51.000000% | Test Loss = 0.69468 Test_accuracy = 46.00%\n",
            "Epoch = 420 | Loss = 0.692980 Accuracy = 51.000000% | Test Loss = 0.69468 Test_accuracy = 46.00%\n",
            "Epoch = 430 | Loss = 0.692980 Accuracy = 51.000000% | Test Loss = 0.69468 Test_accuracy = 46.00%\n",
            "Epoch = 440 | Loss = 0.692980 Accuracy = 51.000000% | Test Loss = 0.69468 Test_accuracy = 46.00%\n",
            "Epoch = 450 | Loss = 0.692980 Accuracy = 51.000000% | Test Loss = 0.69468 Test_accuracy = 46.00%\n",
            "Epoch = 460 | Loss = 0.692980 Accuracy = 51.000000% | Test Loss = 0.69468 Test_accuracy = 46.00%\n",
            "Epoch = 470 | Loss = 0.692980 Accuracy = 51.000000% | Test Loss = 0.69468 Test_accuracy = 46.00%\n",
            "Epoch = 480 | Loss = 0.692980 Accuracy = 51.000000% | Test Loss = 0.69468 Test_accuracy = 46.00%\n",
            "Epoch = 490 | Loss = 0.692980 Accuracy = 51.000000% | Test Loss = 0.69468 Test_accuracy = 46.00%\n",
            "Epoch = 500 | Loss = 0.692980 Accuracy = 51.000000% | Test Loss = 0.69468 Test_accuracy = 46.00%\n",
            "Epoch = 510 | Loss = 0.692980 Accuracy = 51.000000% | Test Loss = 0.69468 Test_accuracy = 46.00%\n",
            "Epoch = 520 | Loss = 0.692980 Accuracy = 51.000000% | Test Loss = 0.69468 Test_accuracy = 46.00%\n",
            "Epoch = 530 | Loss = 0.692980 Accuracy = 51.000000% | Test Loss = 0.69468 Test_accuracy = 46.00%\n",
            "Epoch = 540 | Loss = 0.692980 Accuracy = 51.000000% | Test Loss = 0.69468 Test_accuracy = 46.00%\n",
            "Epoch = 550 | Loss = 0.692980 Accuracy = 51.000000% | Test Loss = 0.69468 Test_accuracy = 46.00%\n",
            "Epoch = 560 | Loss = 0.692980 Accuracy = 51.000000% | Test Loss = 0.69468 Test_accuracy = 46.00%\n",
            "Epoch = 570 | Loss = 0.692980 Accuracy = 51.000000% | Test Loss = 0.69468 Test_accuracy = 46.00%\n",
            "Epoch = 580 | Loss = 0.692980 Accuracy = 51.000000% | Test Loss = 0.69468 Test_accuracy = 46.00%\n",
            "Epoch = 590 | Loss = 0.692980 Accuracy = 51.000000% | Test Loss = 0.69468 Test_accuracy = 46.00%\n",
            "Epoch = 600 | Loss = 0.692980 Accuracy = 51.000000% | Test Loss = 0.69468 Test_accuracy = 46.00%\n",
            "Epoch = 610 | Loss = 0.692980 Accuracy = 51.000000% | Test Loss = 0.69468 Test_accuracy = 46.00%\n",
            "Epoch = 620 | Loss = 0.692980 Accuracy = 51.000000% | Test Loss = 0.69468 Test_accuracy = 46.00%\n",
            "Epoch = 630 | Loss = 0.692980 Accuracy = 51.000000% | Test Loss = 0.69468 Test_accuracy = 46.00%\n",
            "Epoch = 640 | Loss = 0.692980 Accuracy = 51.000000% | Test Loss = 0.69468 Test_accuracy = 46.00%\n",
            "Epoch = 650 | Loss = 0.692980 Accuracy = 51.000000% | Test Loss = 0.69468 Test_accuracy = 46.00%\n",
            "Epoch = 660 | Loss = 0.692980 Accuracy = 51.000000% | Test Loss = 0.69468 Test_accuracy = 46.00%\n",
            "Epoch = 670 | Loss = 0.692980 Accuracy = 51.000000% | Test Loss = 0.69468 Test_accuracy = 46.00%\n",
            "Epoch = 680 | Loss = 0.692980 Accuracy = 51.000000% | Test Loss = 0.69468 Test_accuracy = 46.00%\n",
            "Epoch = 690 | Loss = 0.692980 Accuracy = 51.000000% | Test Loss = 0.69468 Test_accuracy = 46.00%\n",
            "Epoch = 700 | Loss = 0.692980 Accuracy = 51.000000% | Test Loss = 0.69468 Test_accuracy = 46.00%\n",
            "Epoch = 710 | Loss = 0.692980 Accuracy = 51.000000% | Test Loss = 0.69468 Test_accuracy = 46.00%\n",
            "Epoch = 720 | Loss = 0.692980 Accuracy = 51.000000% | Test Loss = 0.69468 Test_accuracy = 46.00%\n",
            "Epoch = 730 | Loss = 0.692980 Accuracy = 51.000000% | Test Loss = 0.69468 Test_accuracy = 46.00%\n",
            "Epoch = 740 | Loss = 0.692980 Accuracy = 51.000000% | Test Loss = 0.69468 Test_accuracy = 46.00%\n",
            "Epoch = 750 | Loss = 0.692980 Accuracy = 51.000000% | Test Loss = 0.69468 Test_accuracy = 46.00%\n",
            "Epoch = 760 | Loss = 0.692980 Accuracy = 51.000000% | Test Loss = 0.69468 Test_accuracy = 46.00%\n",
            "Epoch = 770 | Loss = 0.692980 Accuracy = 51.000000% | Test Loss = 0.69468 Test_accuracy = 46.00%\n",
            "Epoch = 780 | Loss = 0.692980 Accuracy = 51.000000% | Test Loss = 0.69468 Test_accuracy = 46.00%\n",
            "Epoch = 790 | Loss = 0.692980 Accuracy = 51.000000% | Test Loss = 0.69468 Test_accuracy = 46.00%\n",
            "Epoch = 800 | Loss = 0.692980 Accuracy = 51.000000% | Test Loss = 0.69468 Test_accuracy = 46.00%\n",
            "Epoch = 810 | Loss = 0.692980 Accuracy = 51.000000% | Test Loss = 0.69468 Test_accuracy = 46.00%\n",
            "Epoch = 820 | Loss = 0.692980 Accuracy = 51.000000% | Test Loss = 0.69468 Test_accuracy = 46.00%\n",
            "Epoch = 830 | Loss = 0.692980 Accuracy = 51.000000% | Test Loss = 0.69468 Test_accuracy = 46.00%\n",
            "Epoch = 840 | Loss = 0.692980 Accuracy = 51.000000% | Test Loss = 0.69468 Test_accuracy = 46.00%\n",
            "Epoch = 850 | Loss = 0.692980 Accuracy = 51.000000% | Test Loss = 0.69468 Test_accuracy = 46.00%\n",
            "Epoch = 860 | Loss = 0.692980 Accuracy = 51.000000% | Test Loss = 0.69468 Test_accuracy = 46.00%\n",
            "Epoch = 870 | Loss = 0.692980 Accuracy = 51.000000% | Test Loss = 0.69468 Test_accuracy = 46.00%\n",
            "Epoch = 880 | Loss = 0.692980 Accuracy = 51.000000% | Test Loss = 0.69468 Test_accuracy = 46.00%\n",
            "Epoch = 890 | Loss = 0.692980 Accuracy = 51.000000% | Test Loss = 0.69468 Test_accuracy = 46.00%\n",
            "Epoch = 900 | Loss = 0.692980 Accuracy = 51.000000% | Test Loss = 0.69468 Test_accuracy = 46.00%\n",
            "Epoch = 910 | Loss = 0.692980 Accuracy = 51.000000% | Test Loss = 0.69468 Test_accuracy = 46.00%\n",
            "Epoch = 920 | Loss = 0.692980 Accuracy = 51.000000% | Test Loss = 0.69468 Test_accuracy = 46.00%\n",
            "Epoch = 930 | Loss = 0.692980 Accuracy = 51.000000% | Test Loss = 0.69468 Test_accuracy = 46.00%\n",
            "Epoch = 940 | Loss = 0.692980 Accuracy = 51.000000% | Test Loss = 0.69468 Test_accuracy = 46.00%\n",
            "Epoch = 950 | Loss = 0.692980 Accuracy = 51.000000% | Test Loss = 0.69468 Test_accuracy = 46.00%\n",
            "Epoch = 960 | Loss = 0.692980 Accuracy = 51.000000% | Test Loss = 0.69468 Test_accuracy = 46.00%\n",
            "Epoch = 970 | Loss = 0.692980 Accuracy = 51.000000% | Test Loss = 0.69468 Test_accuracy = 46.00%\n",
            "Epoch = 980 | Loss = 0.692980 Accuracy = 51.000000% | Test Loss = 0.69468 Test_accuracy = 46.00%\n",
            "Epoch = 990 | Loss = 0.692980 Accuracy = 51.000000% | Test Loss = 0.69468 Test_accuracy = 46.00%\n"
          ]
        }
      ]
    },
    {
      "cell_type": "markdown",
      "source": [
        "## 4. Make predictions and evaluate the model\n",
        "\n",
        "It looks like the model is not learning...\n",
        "\n",
        "To check lets visualize it...\n",
        "\n",
        "To do that, we are going to import `plot_decision_boundary()`"
      ],
      "metadata": {
        "id": "MNBt18PuVNQ7"
      }
    },
    {
      "cell_type": "code",
      "source": [
        "import requests\n",
        "from pathlib import Path\n",
        "\n",
        "# download helper functions from Learn pyTorch repository if it is not already downloaded...\n",
        "\n",
        "if Path(\"helper_functions.py\").is_file():\n",
        "  print(\"helper_functions.py already exists... Skipping download\")\n",
        "else:\n",
        "  print(\"Downloading helper_functions.py ...\")\n",
        "  request = requests.get(\"https://raw.githubusercontent.com/mrdbourke/pytorch-deep-learning/main/helper_functions.py\")\n",
        "\n",
        "  with open(\"helper_functions.py\", \"wb\") as f:\n",
        "    f.write(request.content)\n",
        "\n",
        "from helper_functions import plot_predictions, plot_decision_boundary"
      ],
      "metadata": {
        "colab": {
          "base_uri": "https://localhost:8080/"
        },
        "id": "gHz_DkjwYFQ6",
        "outputId": "19710f65-2815-43e1-f98a-85eccaeaf9c6"
      },
      "execution_count": null,
      "outputs": [
        {
          "output_type": "stream",
          "name": "stdout",
          "text": [
            "helper_functions.py already exists... Skipping download\n"
          ]
        }
      ]
    },
    {
      "cell_type": "code",
      "source": [
        "# Plot decision boundary of the model\n",
        "\n",
        "import matplotlib.pyplot as plt\n",
        "\n",
        "plt.figure(figsize=(12, 6))\n",
        "plt.subplot(1, 2, 1)\n",
        "plt.title(\"Train\")\n",
        "plot_decision_boundary(model_0, X_train, y_train)\n",
        "\n",
        "plt.subplot(1, 2, 2)\n",
        "plt.title(\"test\")\n",
        "plot_decision_boundary(model_0, X_test, y_test)\n"
      ],
      "metadata": {
        "colab": {
          "base_uri": "https://localhost:8080/",
          "height": 545
        },
        "id": "xAENLkN_dxOG",
        "outputId": "431f94cb-9c31-4d11-804c-01b4aedb5b58"
      },
      "execution_count": null,
      "outputs": [
        {
          "output_type": "display_data",
          "data": {
            "text/plain": [
              "<Figure size 1200x600 with 2 Axes>"
            ],
            "image/png": "[encoded data removed]"
          },
          "metadata": {}
        }
      ]
    },
    {
      "cell_type": "markdown",
      "source": [
        "## 5. Improving the model - (from the model's perspective)\n",
        "\n",
        "* Add more layers - More chances to the model to learn\n",
        "* Add more HIDDEN layers - from 5 to maybe 10\n",
        "* Fit for longer - increase the epochs count\n",
        "* Change the activation function - sigmoid to other ...\n",
        "* Change the learning rate\n",
        "* Change the loss function\n",
        "\n",
        "# All these options are for model's perspective because they all directly deal with the model, rather than the data."
      ],
      "metadata": {
        "id": "XfI_MFCOYZwE"
      }
    },
    {
      "cell_type": "code",
      "source": [
        "model_0.state_dict()"
      ],
      "metadata": {
        "colab": {
          "base_uri": "https://localhost:8080/"
        },
        "id": "W1K1KEcXZILX",
        "outputId": "a841ae82-1225-490d-d236-04570ea990b4"
      },
      "execution_count": null,
      "outputs": [
        {
          "output_type": "execute_result",
          "data": {
            "text/plain": [
              "OrderedDict([('0.weight',\n",
              "              tensor([[ 0.2439,  0.4466],\n",
              "                      [-0.6008,  0.2921],\n",
              "                      [-0.6112, -0.0480],\n",
              "                      [ 0.5518, -0.5800],\n",
              "                      [-0.5384, -0.3100],\n",
              "                      [ 0.0289, -0.0975],\n",
              "                      [-0.5552,  0.0921],\n",
              "                      [-0.1774, -0.3302],\n",
              "                      [ 0.0091,  0.2403],\n",
              "                      [ 0.1119, -0.4689],\n",
              "                      [ 0.4794,  0.1334],\n",
              "                      [-0.2884,  0.6122],\n",
              "                      [ 0.1414,  0.3676],\n",
              "                      [ 0.5000, -0.0126],\n",
              "                      [ 0.5817, -0.0033],\n",
              "                      [ 0.5653,  0.0857],\n",
              "                      [ 0.3248,  0.3560],\n",
              "                      [-0.3910,  0.6180],\n",
              "                      [ 0.0218,  0.2599],\n",
              "                      [-0.5224, -0.2640],\n",
              "                      [ 0.4609, -0.4463],\n",
              "                      [ 0.0976,  0.6209],\n",
              "                      [-0.6716, -0.0078],\n",
              "                      [ 0.1140,  0.4633],\n",
              "                      [-0.2359, -0.6909],\n",
              "                      [-0.4377,  0.2122],\n",
              "                      [-0.5218, -0.6054],\n",
              "                      [-0.0176,  0.1856],\n",
              "                      [-0.4443, -0.2748],\n",
              "                      [ 0.3868, -0.4781],\n",
              "                      [-0.5824, -0.2138],\n",
              "                      [ 0.5694, -0.2071],\n",
              "                      [-0.4783, -0.5015],\n",
              "                      [-0.1653,  0.5023],\n",
              "                      [ 0.2651, -0.2362],\n",
              "                      [-0.6126, -0.4290],\n",
              "                      [ 0.1486,  0.5945],\n",
              "                      [ 0.3640, -0.0904],\n",
              "                      [ 0.3761,  0.0511],\n",
              "                      [ 0.0950,  0.3294],\n",
              "                      [-0.1745,  0.2059],\n",
              "                      [ 0.0637,  0.2158],\n",
              "                      [-0.1530,  0.4569],\n",
              "                      [-0.6357,  0.4698],\n",
              "                      [-0.5829, -0.4757],\n",
              "                      [-0.4342, -0.0682],\n",
              "                      [-0.0691, -0.6875],\n",
              "                      [ 0.3732,  0.1737],\n",
              "                      [ 0.6901, -0.5047],\n",
              "                      [-0.5701,  0.1697],\n",
              "                      [ 0.5434,  0.4719],\n",
              "                      [ 0.2867,  0.1189],\n",
              "                      [ 0.3530, -0.2813],\n",
              "                      [-0.7052, -0.5887],\n",
              "                      [-0.4528,  0.1578],\n",
              "                      [ 0.6341,  0.4565],\n",
              "                      [-0.4617,  0.1972],\n",
              "                      [ 0.6256,  0.0174],\n",
              "                      [-0.1321, -0.3831],\n",
              "                      [-0.0485,  0.5325],\n",
              "                      [-0.2000, -0.1068],\n",
              "                      [ 0.3442, -0.2709],\n",
              "                      [-0.3252,  0.1196],\n",
              "                      [ 0.5136,  0.0756]])),\n",
              "             ('0.bias',\n",
              "              tensor([-0.0273, -0.5609,  0.4240,  0.0312, -0.3116, -0.6200, -0.3355, -0.4966,\n",
              "                       0.1460,  0.5167, -0.1398,  0.4314, -0.1514, -0.3366, -0.6480, -0.4742,\n",
              "                       0.5302,  0.4770,  0.6826, -0.0718,  0.2389, -0.0871,  0.6998, -0.5646,\n",
              "                      -0.1905, -0.6779,  0.0689, -0.5502, -0.4966,  0.1635,  0.7029,  0.5904,\n",
              "                       0.4868, -0.1742, -0.0220, -0.6348,  0.4746,  0.1930,  0.6010, -0.6893,\n",
              "                      -0.1728, -0.4548, -0.5427, -0.4192,  0.2240,  0.4706,  0.3202, -0.2441,\n",
              "                       0.3111,  0.6952,  0.0333, -0.2546, -0.5578,  0.4999, -0.1620, -0.5538,\n",
              "                       0.4087,  0.1410, -0.2857, -0.6934,  0.0884, -0.2084, -0.1212, -0.2345])),\n",
              "             ('1.weight',\n",
              "              tensor([[ 0.1032,  0.0646,  0.0988,  ...,  0.0607,  0.0221, -0.0235],\n",
              "                      [ 0.1049, -0.0827,  0.0972,  ...,  0.0054,  0.0594, -0.0046],\n",
              "                      [-0.0615,  0.0864,  0.0852,  ..., -0.1190, -0.0735, -0.0919],\n",
              "                      ...,\n",
              "                      [-0.0145, -0.0084, -0.0590,  ...,  0.0826,  0.0583, -0.0182],\n",
              "                      [-0.0142, -0.0928, -0.0280,  ...,  0.0611, -0.0564,  0.1010],\n",
              "                      [ 0.0857, -0.0012,  0.0900,  ...,  0.0960,  0.0282, -0.0083]])),\n",
              "             ('1.bias',\n",
              "              tensor([-0.0802, -0.0634,  0.0703, -0.0766, -0.0598,  0.0650, -0.0629, -0.0975,\n",
              "                       0.0263,  0.0558, -0.1140,  0.0166, -0.0968,  0.0522,  0.0692,  0.0439,\n",
              "                       0.1217, -0.0234, -0.0490,  0.0335,  0.0379, -0.0552, -0.0805, -0.0387,\n",
              "                       0.0533,  0.0528, -0.0545,  0.1043, -0.0917, -0.0129,  0.0309, -0.0900,\n",
              "                       0.1143, -0.0629,  0.0725,  0.0064, -0.0719,  0.1165, -0.0150,  0.0205,\n",
              "                       0.1167, -0.1178,  0.0991, -0.0631, -0.1029,  0.0695, -0.0387, -0.0984,\n",
              "                      -0.0631,  0.0792,  0.0543, -0.0042,  0.0659,  0.0246, -0.0941,  0.0242,\n",
              "                       0.0892, -0.0116, -0.0152,  0.1227, -0.0354,  0.1177,  0.1083,  0.1007,\n",
              "                       0.0343,  0.0355,  0.0332, -0.1150, -0.0491, -0.0705, -0.0168, -0.0615,\n",
              "                      -0.0420, -0.0842, -0.0892,  0.0409,  0.1207, -0.0495, -0.0826, -0.0425,\n",
              "                      -0.0464, -0.1203,  0.1106,  0.0835,  0.0934, -0.0657, -0.0844,  0.1189,\n",
              "                      -0.0746, -0.1036, -0.1036,  0.0392, -0.0184, -0.0771,  0.1055, -0.0708,\n",
              "                       0.0070,  0.0609,  0.0582,  0.1049, -0.0164,  0.0645, -0.0102,  0.0166,\n",
              "                      -0.0751,  0.0758,  0.0267,  0.0264, -0.0096,  0.0490, -0.1215,  0.1022,\n",
              "                       0.0967,  0.0685, -0.0033, -0.1162, -0.0342, -0.0994, -0.0593,  0.0984,\n",
              "                      -0.0142,  0.1230, -0.0625, -0.0575, -0.0991,  0.0485,  0.0477,  0.0621])),\n",
              "             ('2.weight',\n",
              "              tensor([[ 0.0565,  0.0582, -0.0811, -0.0030,  0.0729,  0.0605,  0.0221, -0.0354,\n",
              "                       -0.0607,  0.0983, -0.0353,  0.0259, -0.0147, -0.0215,  0.0456,  0.0969,\n",
              "                       -0.0142,  0.0420,  0.0296, -0.0262,  0.0254,  0.0331,  0.0933, -0.0316,\n",
              "                        0.0638,  0.0089,  0.0452, -0.0622,  0.0572,  0.0754,  0.0142,  0.0029,\n",
              "                        0.0325, -0.0750, -0.0701,  0.0647, -0.0854, -0.0019, -0.0467, -0.0905,\n",
              "                       -0.0445, -0.0110, -0.0641, -0.0722, -0.0605, -0.0026, -0.0191,  0.0597,\n",
              "                       -0.0908, -0.0778, -0.0132,  0.0918,  0.0844, -0.0160, -0.0217,  0.0056,\n",
              "                        0.0142, -0.0055, -0.0454, -0.0036,  0.0212,  0.0623, -0.0453, -0.0107,\n",
              "                        0.0617,  0.0585,  0.0490, -0.0239,  0.0149, -0.0161,  0.0689,  0.0527,\n",
              "                       -0.0808,  0.0342,  0.0722,  0.0224, -0.0481,  0.0500, -0.0084, -0.0167,\n",
              "                        0.0329,  0.0703,  0.0373, -0.0624,  0.0272, -0.0460, -0.0773, -0.0435,\n",
              "                        0.0495,  0.0581,  0.0186,  0.0582, -0.0749, -0.0317, -0.0434, -0.0663,\n",
              "                       -0.0525, -0.0634, -0.0785,  0.0165, -0.0432,  0.0075, -0.0060, -0.0018,\n",
              "                       -0.0836, -0.0715, -0.0849,  0.0601, -0.0024, -0.0747, -0.0403,  0.0097,\n",
              "                       -0.0715,  0.0678,  0.0551,  0.0193, -0.0210,  0.0384,  0.0313, -0.0008,\n",
              "                        0.0112, -0.0680,  0.0246,  0.0324,  0.0498,  0.0424,  0.0637, -0.0509]])),\n",
              "             ('2.bias', tensor([0.0284]))])"
            ]
          },
          "metadata": {},
          "execution_count": 195
        }
      ]
    }
  ]
}