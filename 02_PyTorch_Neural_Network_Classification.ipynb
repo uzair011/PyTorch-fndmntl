{
  "nbformat": 4,
  "nbformat_minor": 0,
  "metadata": {
    "colab": {
      "provenance": [],
      "authorship_tag": "ABX9TyOp4+OSMKLq3FA76FMrsW15",
      "include_colab_link": true
    },
    "kernelspec": {
      "name": "python3",
      "display_name": "Python 3"
    },
    "language_info": {
      "name": "python"
    }
  },
  "cells": [
    {
      "cell_type": "markdown",
      "metadata": {
        "id": "view-in-github",
        "colab_type": "text"
      },
      "source": [
        "<a href=\"https://colab.research.google.com/github/uzair011/PyTorch-fndmntl/blob/main/02_PyTorch_Neural_Network_Classification.ipynb\" target=\"_parent\"><img src=\"https://colab.research.google.com/assets/colab-badge.svg\" alt=\"Open In Colab\"/></a>"
      ]
    },
    {
      "cell_type": "markdown",
      "source": [
        "### 02. Neural network classification with pytorch\n",
        "Classification is a problem of predicting whether something is onething or another (there can be multiple things as te options)"
      ],
      "metadata": {
        "id": "leaptS5ubwPK"
      }
    },
    {
      "cell_type": "code",
      "execution_count": 1,
      "metadata": {
        "id": "aUmB_jtQid9Y"
      },
      "outputs": [],
      "source": [
        "import torch\n"
      ]
    }
  ]
}